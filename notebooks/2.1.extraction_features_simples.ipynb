{
 "cells": [
  {
   "cell_type": "markdown",
   "id": "4b3192a5-84cf-495a-98e9-e1b044987a5f",
   "metadata": {},
   "source": [
    "# Exploration des données"
   ]
  },
  {
   "cell_type": "markdown",
   "id": "69b766ee-1acb-4246-a6c5-ce034b196e95",
   "metadata": {},
   "source": [
    "## 1. Préparation"
   ]
  },
  {
   "cell_type": "code",
   "execution_count": 1,
   "id": "27a80f19-05e8-400a-9cfa-78c06ae1cbb0",
   "metadata": {},
   "outputs": [],
   "source": [
    "import os\n",
    "from PIL import Image, UnidentifiedImageError\n",
    "from PIL.TiffTags import TAGS\n",
    "import pandas as pd\n",
    "import numpy as np\n",
    "import cv2\n",
    "\n",
    "import pytesseract\n",
    "pytesseract.pytesseract.tesseract_cmd = r\"C:\\Program Files\\Tesseract-OCR\\tesseract.exe\" #il faut mettre là où tesseract est installé\n",
    "\n",
    "import time\n",
    "from tqdm.notebook import tqdm"
   ]
  },
  {
   "cell_type": "code",
   "execution_count": 2,
   "id": "c8fc2081-3618-4bee-ab4e-c7cfd42450e4",
   "metadata": {},
   "outputs": [],
   "source": [
    "#################################### A MODIFIER SELON SA PROPRE ARBORESCENCE\n",
    "project_path = 'D:/Projet/mai25_bds_extraction/' \n",
    "####################################\n",
    "\n",
    "raw_data_path = os.path.join(project_path, 'data', 'raw')\n",
    "processed_data_path = os.path.join(project_path, 'data', 'processed')\n",
    "\n",
    "rvl_cdip_images_path = os.path.join(raw_data_path, 'RVL-CDIP', 'images')"
   ]
  },
  {
   "cell_type": "markdown",
   "id": "732f3dc1-5396-4475-8468-63e3f37042c0",
   "metadata": {},
   "source": [
    "## 2. Fichiers images RVL-CDIP"
   ]
  },
  {
   "cell_type": "code",
   "execution_count": 3,
   "id": "beccdfd4-d216-414a-a8ee-ecae5bdfe489",
   "metadata": {},
   "outputs": [],
   "source": [
    "def get_rvl_cdip_image_files(path):\n",
    "    tmp_list = []\n",
    "    for foldername, _, filenames in os.walk(path):\n",
    "        if filenames:\n",
    "            filename = filenames[0]\n",
    "            # we check that the structure is relevant to our expectation with 2 assert\n",
    "            assert len(filenames) == 1\n",
    "            if filename.startswith('.'): # avoid to consider files like .DS_Store on mac\n",
    "                continue\n",
    "            assert filename.endswith(\".tif\"), f\"{foldername},{filename}\"\n",
    "            tmp_list.append([\n",
    "                os.path.relpath(foldername, rvl_cdip_images_path),\n",
    "                filename\n",
    "            ])\n",
    "    return pd.DataFrame(tmp_list, columns = [\"relative_path\", \"filename\"])\n"
   ]
  },
  {
   "cell_type": "code",
   "execution_count": 4,
   "id": "83943d34-883d-4999-8f5f-d38543255646",
   "metadata": {},
   "outputs": [
    {
     "name": "stdout",
     "output_type": "stream",
     "text": [
      "Duree d'exécution: 55.055 secondes.\n",
      "(400000 images traitées)\n",
      "\n"
     ]
    },
    {
     "data": {
      "text/html": [
       "<div>\n",
       "<style scoped>\n",
       "    .dataframe tbody tr th:only-of-type {\n",
       "        vertical-align: middle;\n",
       "    }\n",
       "\n",
       "    .dataframe tbody tr th {\n",
       "        vertical-align: top;\n",
       "    }\n",
       "\n",
       "    .dataframe thead th {\n",
       "        text-align: right;\n",
       "    }\n",
       "</style>\n",
       "<table border=\"1\" class=\"dataframe\">\n",
       "  <thead>\n",
       "    <tr style=\"text-align: right;\">\n",
       "      <th></th>\n",
       "      <th>relative_path</th>\n",
       "      <th>filename</th>\n",
       "    </tr>\n",
       "  </thead>\n",
       "  <tbody>\n",
       "    <tr>\n",
       "      <th>0</th>\n",
       "      <td>imagesa\\a\\a\\a\\aaa06d00</td>\n",
       "      <td>50486482-6482.tif</td>\n",
       "    </tr>\n",
       "    <tr>\n",
       "      <th>1</th>\n",
       "      <td>imagesa\\a\\a\\a\\aaa08d00</td>\n",
       "      <td>2072197187.tif</td>\n",
       "    </tr>\n",
       "    <tr>\n",
       "      <th>2</th>\n",
       "      <td>imagesa\\a\\a\\a\\aaa09e00</td>\n",
       "      <td>2029372116.tif</td>\n",
       "    </tr>\n",
       "    <tr>\n",
       "      <th>3</th>\n",
       "      <td>imagesa\\a\\a\\a\\aaa10c00</td>\n",
       "      <td>2085133627a.tif</td>\n",
       "    </tr>\n",
       "    <tr>\n",
       "      <th>4</th>\n",
       "      <td>imagesa\\a\\a\\a\\aaa11d00</td>\n",
       "      <td>515558347+-8348.tif</td>\n",
       "    </tr>\n",
       "  </tbody>\n",
       "</table>\n",
       "</div>"
      ],
      "text/plain": [
       "            relative_path             filename\n",
       "0  imagesa\\a\\a\\a\\aaa06d00    50486482-6482.tif\n",
       "1  imagesa\\a\\a\\a\\aaa08d00       2072197187.tif\n",
       "2  imagesa\\a\\a\\a\\aaa09e00       2029372116.tif\n",
       "3  imagesa\\a\\a\\a\\aaa10c00      2085133627a.tif\n",
       "4  imagesa\\a\\a\\a\\aaa11d00  515558347+-8348.tif"
      ]
     },
     "execution_count": 4,
     "metadata": {},
     "output_type": "execute_result"
    }
   ],
   "source": [
    "t = time.time()\n",
    "df = get_rvl_cdip_image_files(rvl_cdip_images_path)\n",
    "print(f\"Duree d'exécution: {time.time() - t:.3f} secondes.\")\n",
    "print(f\"({len(df)} images traitées)\\n\")\n",
    "\n",
    "df.head()"
   ]
  },
  {
   "cell_type": "markdown",
   "id": "5b88a948-f17c-4f21-ac85-7d5da32e1cfa",
   "metadata": {},
   "source": [
    "## Que veut-on extraire des images ? \n",
    "- format (en fait tout est en .tiff)\n",
    "- taille (longueur et largeur, normalement, la plus grande dimension de l'image devrait être mise à 1000)\n",
    "- mode (ici en fait ce sont toutes des images en nuances de gris, sur 8 bits)\n",
    "- nombre de pages par image\n",
    "- niveau de flou - grace à la variance du laplacien\n",
    "- le bruit de l'image (quand des points apparaîssent sur un fond censé être blanc par exemple)\n",
    "- densité (quantité de pixels noirs par rapport à la quantité de pixels blancs)\n",
    "\n",
    "Lors de la 2e itération, je rajoute:\n",
    "- le nombre de blocs de texte\n",
    "- la quantité de blanc autour du contenu/présence d'une bordure\n",
    "- la présence de motifs réguliers\n",
    "- la détection des caractères de texte"
   ]
  },
  {
   "cell_type": "code",
   "execution_count": 5,
   "id": "d3e3fd20-312d-433a-95a8-ba52e69bfb61",
   "metadata": {},
   "outputs": [],
   "source": [
    "# on écrit une fonction pour récupérer le nombre de pages par fichier\n",
    "def nombre_pages(img):\n",
    "    try:\n",
    "        count = 0\n",
    "        while True:\n",
    "            try:\n",
    "                img.seek(count)\n",
    "                count += 1\n",
    "            except EOFError:\n",
    "                break\n",
    "        return count\n",
    "    except UnidentifiedImageError:\n",
    "        return None"
   ]
  },
  {
   "cell_type": "code",
   "execution_count": 6,
   "id": "359241c7-b01c-4fa4-b5b7-de72810c2735",
   "metadata": {},
   "outputs": [],
   "source": [
    "# on écrit une fonction pour évaluer le \"flou\"\n",
    "def flou(image_path):\n",
    "    image = cv2.imread(image_path, cv2.IMREAD_GRAYSCALE)\n",
    "    if image is None:\n",
    "        return None\n",
    "    fl = cv2.Laplacian(image, cv2.CV_64F).var()/(image.shape[0] * image.shape[1])\n",
    "    #on normalise la variance du laplacien par la taille de l'image\n",
    "    return fl\n",
    "    # Plus la variance est basse, plus l'image est floue\n",
    "    # attention, la variance du laplacien peut être artificiellement élevée si l'image a beaucoup de grain"
   ]
  },
  {
   "cell_type": "code",
   "execution_count": 7,
   "id": "6e143c26-1c1b-43e0-b6cc-abe577b97a2d",
   "metadata": {},
   "outputs": [],
   "source": [
    "# on écrit une fonction pour évaluer le grain de l'image\n",
    "# plus le grain est élévé, moins l'image est lisible\n",
    "\n",
    "def bruit(image_path):\n",
    "    \"\"\" l'idée derrière cette fonction:\n",
    "    - l'image est lissée par une gaussienne, les grains disparaîssent\n",
    "    - on compare l'image lissée à l'image initiale\n",
    "    - la différence c'est du bruit \"\"\"\n",
    "    image = cv2.imread(image_path, cv2.IMREAD_GRAYSCALE)\n",
    "    if image is None:\n",
    "        return None\n",
    "    blurred = cv2.GaussianBlur(image, (5, 5), 0)\n",
    "    residual = cv2.absdiff(image, blurred)\n",
    "    return np.mean(residual)  # Intensité moyenne du bruit"
   ]
  },
  {
   "cell_type": "code",
   "execution_count": 8,
   "id": "184ebe48-8fef-4181-9291-bcec810f2544",
   "metadata": {},
   "outputs": [],
   "source": [
    "#on écrit une fonction pour connaître la proportion de pixels blancs et la proportion de pixels noirs\n",
    "def ratio_blanc_noir(image_path, threshold=200):\n",
    "    img = cv2.imread(image_path, cv2.IMREAD_GRAYSCALE)\n",
    "    if img is None:\n",
    "        return None, None\n",
    "    white_ratio = np.sum(img > threshold) / img.size\n",
    "    black_ratio = np.sum(img < 50) / img.size\n",
    "    return white_ratio, black_ratio"
   ]
  },
  {
   "cell_type": "code",
   "execution_count": null,
   "id": "f9c18d0b-c6e8-4b20-9566-95136153614b",
   "metadata": {},
   "outputs": [],
   "source": []
  },
  {
   "cell_type": "code",
   "execution_count": null,
   "id": "9138d216-934c-47ad-90ea-6b66e4dd15ea",
   "metadata": {},
   "outputs": [],
   "source": []
  },
  {
   "cell_type": "markdown",
   "id": "bf5deba8-27e2-4c99-8ad4-96902d5570b8",
   "metadata": {},
   "source": [
    "### On teste sur la première image"
   ]
  },
  {
   "cell_type": "code",
   "execution_count": 15,
   "id": "d7df3e75-906f-4410-9145-e7415e1a58f0",
   "metadata": {},
   "outputs": [
    {
     "name": "stdout",
     "output_type": "stream",
     "text": [
      "Flou: 0.01744088797500862\n",
      "Bruit: 14.017836870026525\n",
      "Features: {'num_lines': 121, 'num_words': 408, 'digit_ratio': 0.02743305011474167}\n",
      "Blocs: 4\n",
      "Bordire: {'top_margin': 0.059, 'bottom_margin': 0.022, 'left_margin': 0.027851458885941646, 'right_margin': 0.04111405835543767}\n",
      "Motif: 0.9805117161056777\n",
      "ratio_blanc :  0.8546657824933687\n",
      "ratio_noir :  0.05696551724137931\n",
      "Format: TIFF\n",
      "Size: (754, 1000)\n",
      "Mode: L\n",
      "Nb_pages: 1\n"
     ]
    }
   ],
   "source": [
    "# Données disponibles sur les images:\n",
    "relative_filepath, filename = df.iloc[1, :]\n",
    "file_path = os.path.join(rvl_cdip_images_path, relative_filepath, filename)\n",
    "print(\"Flou:\", flou(file_path))\n",
    "print(\"Bruit:\", bruit(file_path))\n",
    "ratio_b, ratio_n = ratio_blanc_noir(file_path, threshold=200)\n",
    "print(\"ratio_blanc : \", ratio_b)\n",
    "print(\"ratio_noir : \", ratio_n)\n",
    "with Image.open(file_path) as img:\n",
    "    print(\"Format:\", img.format)\n",
    "    print(\"Size:\", img.size)\n",
    "    print(\"Mode:\", img.mode)\n",
    "    print(\"Nb_pages:\", nombre_pages(img))\n",
    "\n",
    "    # Attributes and methods\n",
    "    #print(\"\\nAttributes and methods list:\")\n",
    "    #print(dir(img))\n",
    "\n",
    "    # Attributes\n",
    "    #print(\"\\nAttributes:\")\n",
    "    #for key, value in img.__dict__.items():\n",
    "    #    print(f\"{key}: {value}\")\n",
    "\n",
    "    # Metadata tags\n",
    "    #print(\"\\nTIFF Metadata:\")\n",
    "    #for tag, value in img.tag.items():\n",
    "    #    tag_name = TAGS.get(tag, tag)\n",
    "    #    print(f\"{tag_name}: {value}\")\n",
    "\n",
    "\n",
    "# VOIR ICI pour tout ce que l'on peut extraire: https://pillow.readthedocs.io/en/stable/reference/Image.html#PIL.Image.Image"
   ]
  },
  {
   "cell_type": "code",
   "execution_count": 16,
   "id": "47c85956-c664-476a-9aee-2520ffc3cd72",
   "metadata": {},
   "outputs": [],
   "source": [
    "# A réécrire: 1 seule fonction et 1 apply\n",
    "def get_image_data(file_path): # [TODO: liste des parametres à affiner]\n",
    "    if not os.path.exists(file_path):\n",
    "        print(f\"[Manquant] {file_path}\")\n",
    "        return [np.nan] * 9  # 9 colonnes\n",
    "    try:\n",
    "        nettete = flou(file_path)\n",
    "        bruit_grain = bruit(file_path)\n",
    "        ratio_b, ratio_n = ratio_blanc_noir(file_path, threshold=200)\n",
    "        bloc = blocs(file_path)\n",
    "        feature = features(file_path)\n",
    "        bord = bordure(file_path)\n",
    "        motif = motifs(file_path)\n",
    "        with Image.open(file_path) as img:\n",
    "            format_ = img.format\n",
    "            width, height = img.size \n",
    "            mode = img.mode\n",
    "            nb_pages = nombre_pages(img)\n",
    "        return format_, width, height, mode, nb_pages, nettete, bruit_grain, ratio_b, ratio_n, bloc, feature, bord, motif\n",
    "    except Exception as e:\n",
    "        print(f\"[Erreur lecture] {file_path} → {e}\")\n",
    "        return [np.nan] * 9\n",
    "\n",
    "def get_image_data_to_df(df):\n",
    "    tqdm.pandas()  # active le support de tqdm pour pandas, pour faire une belle barre d'avancement\n",
    "    def f(row):\n",
    "        relative_filepath, filename = df.iloc[0, :]\n",
    "        file_path = os.path.join(rvl_cdip_images_path, relative_filepath, filename)\n",
    "        relative_filepath, filename = row[\"relative_path\"], row[\"filename\"]\n",
    "        file_path = os.path.join(rvl_cdip_images_path, relative_filepath, filename)\n",
    "        return get_image_data(file_path)\n",
    "    return pd.DataFrame(\n",
    "        df.apply(f, axis = 1).tolist(),\n",
    "        columns = [\"format\", \"width\", \"height\", \"mode\", \"nb_pages\", \"nettete\", \"bruit_grain\", \"ratio_b\", \"ratio_n\", \"bloc\", \"feature\", \"bord\", \"motif\"],\n",
    "        index = df.index\n",
    "    )"
   ]
  },
  {
   "cell_type": "code",
   "execution_count": 17,
   "id": "6abeb087-741f-4405-b822-52b80364f304",
   "metadata": {},
   "outputs": [
    {
     "ename": "KeyboardInterrupt",
     "evalue": "",
     "output_type": "error",
     "traceback": [
      "\u001b[31m---------------------------------------------------------------------------\u001b[39m",
      "\u001b[31mKeyboardInterrupt\u001b[39m                         Traceback (most recent call last)",
      "\u001b[36mCell\u001b[39m\u001b[36m \u001b[39m\u001b[32mIn[17]\u001b[39m\u001b[32m, line 2\u001b[39m\n\u001b[32m      1\u001b[39m t = time.time()\n\u001b[32m----> \u001b[39m\u001b[32m2\u001b[39m df = pd.concat([df, get_image_data_to_df(df)], axis = \u001b[32m1\u001b[39m)\n\u001b[32m      3\u001b[39m \u001b[38;5;28mprint\u001b[39m(\u001b[33mf\u001b[39m\u001b[33m\"\u001b[39m\u001b[33mDuree d\u001b[39m\u001b[33m'\u001b[39m\u001b[33mexécution: \u001b[39m\u001b[38;5;132;01m{\u001b[39;00mtime.time()\u001b[38;5;250m \u001b[39m-\u001b[38;5;250m \u001b[39mt\u001b[38;5;132;01m:\u001b[39;00m\u001b[33m.3f\u001b[39m\u001b[38;5;132;01m}\u001b[39;00m\u001b[33m secondes.\u001b[39m\u001b[33m\"\u001b[39m)\n\u001b[32m      4\u001b[39m \u001b[38;5;28mprint\u001b[39m(\u001b[33mf\u001b[39m\u001b[33m\"\u001b[39m\u001b[33m(\u001b[39m\u001b[38;5;132;01m{\u001b[39;00m\u001b[38;5;28mlen\u001b[39m(df)\u001b[38;5;132;01m}\u001b[39;00m\u001b[33m images traitées)\u001b[39m\u001b[38;5;130;01m\\n\u001b[39;00m\u001b[33m\"\u001b[39m)\n",
      "\u001b[36mCell\u001b[39m\u001b[36m \u001b[39m\u001b[32mIn[16]\u001b[39m\u001b[32m, line 33\u001b[39m, in \u001b[36mget_image_data_to_df\u001b[39m\u001b[34m(df)\u001b[39m\n\u001b[32m     30\u001b[39m     file_path = os.path.join(rvl_cdip_images_path, relative_filepath, filename)\n\u001b[32m     31\u001b[39m     \u001b[38;5;28;01mreturn\u001b[39;00m get_image_data(file_path)\n\u001b[32m     32\u001b[39m \u001b[38;5;28;01mreturn\u001b[39;00m pd.DataFrame(\n\u001b[32m---> \u001b[39m\u001b[32m33\u001b[39m     df.apply(f, axis = \u001b[32m1\u001b[39m).tolist(),\n\u001b[32m     34\u001b[39m     columns = [\u001b[33m\"\u001b[39m\u001b[33mformat\u001b[39m\u001b[33m\"\u001b[39m, \u001b[33m\"\u001b[39m\u001b[33mwidth\u001b[39m\u001b[33m\"\u001b[39m, \u001b[33m\"\u001b[39m\u001b[33mheight\u001b[39m\u001b[33m\"\u001b[39m, \u001b[33m\"\u001b[39m\u001b[33mmode\u001b[39m\u001b[33m\"\u001b[39m, \u001b[33m\"\u001b[39m\u001b[33mnb_pages\u001b[39m\u001b[33m\"\u001b[39m, \u001b[33m\"\u001b[39m\u001b[33mnettete\u001b[39m\u001b[33m\"\u001b[39m, \u001b[33m\"\u001b[39m\u001b[33mbruit_grain\u001b[39m\u001b[33m\"\u001b[39m, \u001b[33m\"\u001b[39m\u001b[33mratio_b\u001b[39m\u001b[33m\"\u001b[39m, \u001b[33m\"\u001b[39m\u001b[33mratio_n\u001b[39m\u001b[33m\"\u001b[39m, \u001b[33m\"\u001b[39m\u001b[33mbloc\u001b[39m\u001b[33m\"\u001b[39m, \u001b[33m\"\u001b[39m\u001b[33mfeature\u001b[39m\u001b[33m\"\u001b[39m, \u001b[33m\"\u001b[39m\u001b[33mbord\u001b[39m\u001b[33m\"\u001b[39m, \u001b[33m\"\u001b[39m\u001b[33mmotif\u001b[39m\u001b[33m\"\u001b[39m],\n\u001b[32m     35\u001b[39m     index = df.index\n\u001b[32m     36\u001b[39m )\n",
      "\u001b[36mFile \u001b[39m\u001b[32m~\\Documents\\logiciels\\anaconda\\envs\\mon_jupyter\\Lib\\site-packages\\pandas\\core\\frame.py:10374\u001b[39m, in \u001b[36mDataFrame.apply\u001b[39m\u001b[34m(self, func, axis, raw, result_type, args, by_row, engine, engine_kwargs, **kwargs)\u001b[39m\n\u001b[32m  10360\u001b[39m \u001b[38;5;28;01mfrom\u001b[39;00m\u001b[38;5;250m \u001b[39m\u001b[34;01mpandas\u001b[39;00m\u001b[34;01m.\u001b[39;00m\u001b[34;01mcore\u001b[39;00m\u001b[34;01m.\u001b[39;00m\u001b[34;01mapply\u001b[39;00m\u001b[38;5;250m \u001b[39m\u001b[38;5;28;01mimport\u001b[39;00m frame_apply\n\u001b[32m  10362\u001b[39m op = frame_apply(\n\u001b[32m  10363\u001b[39m     \u001b[38;5;28mself\u001b[39m,\n\u001b[32m  10364\u001b[39m     func=func,\n\u001b[32m   (...)\u001b[39m\u001b[32m  10372\u001b[39m     kwargs=kwargs,\n\u001b[32m  10373\u001b[39m )\n\u001b[32m> \u001b[39m\u001b[32m10374\u001b[39m \u001b[38;5;28;01mreturn\u001b[39;00m op.apply().__finalize__(\u001b[38;5;28mself\u001b[39m, method=\u001b[33m\"\u001b[39m\u001b[33mapply\u001b[39m\u001b[33m\"\u001b[39m)\n",
      "\u001b[36mFile \u001b[39m\u001b[32m~\\Documents\\logiciels\\anaconda\\envs\\mon_jupyter\\Lib\\site-packages\\pandas\\core\\apply.py:916\u001b[39m, in \u001b[36mFrameApply.apply\u001b[39m\u001b[34m(self)\u001b[39m\n\u001b[32m    913\u001b[39m \u001b[38;5;28;01melif\u001b[39;00m \u001b[38;5;28mself\u001b[39m.raw:\n\u001b[32m    914\u001b[39m     \u001b[38;5;28;01mreturn\u001b[39;00m \u001b[38;5;28mself\u001b[39m.apply_raw(engine=\u001b[38;5;28mself\u001b[39m.engine, engine_kwargs=\u001b[38;5;28mself\u001b[39m.engine_kwargs)\n\u001b[32m--> \u001b[39m\u001b[32m916\u001b[39m \u001b[38;5;28;01mreturn\u001b[39;00m \u001b[38;5;28mself\u001b[39m.apply_standard()\n",
      "\u001b[36mFile \u001b[39m\u001b[32m~\\Documents\\logiciels\\anaconda\\envs\\mon_jupyter\\Lib\\site-packages\\pandas\\core\\apply.py:1063\u001b[39m, in \u001b[36mFrameApply.apply_standard\u001b[39m\u001b[34m(self)\u001b[39m\n\u001b[32m   1061\u001b[39m \u001b[38;5;28;01mdef\u001b[39;00m\u001b[38;5;250m \u001b[39m\u001b[34mapply_standard\u001b[39m(\u001b[38;5;28mself\u001b[39m):\n\u001b[32m   1062\u001b[39m     \u001b[38;5;28;01mif\u001b[39;00m \u001b[38;5;28mself\u001b[39m.engine == \u001b[33m\"\u001b[39m\u001b[33mpython\u001b[39m\u001b[33m\"\u001b[39m:\n\u001b[32m-> \u001b[39m\u001b[32m1063\u001b[39m         results, res_index = \u001b[38;5;28mself\u001b[39m.apply_series_generator()\n\u001b[32m   1064\u001b[39m     \u001b[38;5;28;01melse\u001b[39;00m:\n\u001b[32m   1065\u001b[39m         results, res_index = \u001b[38;5;28mself\u001b[39m.apply_series_numba()\n",
      "\u001b[36mFile \u001b[39m\u001b[32m~\\Documents\\logiciels\\anaconda\\envs\\mon_jupyter\\Lib\\site-packages\\pandas\\core\\apply.py:1081\u001b[39m, in \u001b[36mFrameApply.apply_series_generator\u001b[39m\u001b[34m(self)\u001b[39m\n\u001b[32m   1078\u001b[39m \u001b[38;5;28;01mwith\u001b[39;00m option_context(\u001b[33m\"\u001b[39m\u001b[33mmode.chained_assignment\u001b[39m\u001b[33m\"\u001b[39m, \u001b[38;5;28;01mNone\u001b[39;00m):\n\u001b[32m   1079\u001b[39m     \u001b[38;5;28;01mfor\u001b[39;00m i, v \u001b[38;5;129;01min\u001b[39;00m \u001b[38;5;28menumerate\u001b[39m(series_gen):\n\u001b[32m   1080\u001b[39m         \u001b[38;5;66;03m# ignore SettingWithCopy here in case the user mutates\u001b[39;00m\n\u001b[32m-> \u001b[39m\u001b[32m1081\u001b[39m         results[i] = \u001b[38;5;28mself\u001b[39m.func(v, *\u001b[38;5;28mself\u001b[39m.args, **\u001b[38;5;28mself\u001b[39m.kwargs)\n\u001b[32m   1082\u001b[39m         \u001b[38;5;28;01mif\u001b[39;00m \u001b[38;5;28misinstance\u001b[39m(results[i], ABCSeries):\n\u001b[32m   1083\u001b[39m             \u001b[38;5;66;03m# If we have a view on v, we need to make a copy because\u001b[39;00m\n\u001b[32m   1084\u001b[39m             \u001b[38;5;66;03m#  series_generator will swap out the underlying data\u001b[39;00m\n\u001b[32m   1085\u001b[39m             results[i] = results[i].copy(deep=\u001b[38;5;28;01mFalse\u001b[39;00m)\n",
      "\u001b[36mCell\u001b[39m\u001b[36m \u001b[39m\u001b[32mIn[16]\u001b[39m\u001b[32m, line 31\u001b[39m, in \u001b[36mget_image_data_to_df.<locals>.f\u001b[39m\u001b[34m(row)\u001b[39m\n\u001b[32m     29\u001b[39m relative_filepath, filename = row[\u001b[33m\"\u001b[39m\u001b[33mrelative_path\u001b[39m\u001b[33m\"\u001b[39m], row[\u001b[33m\"\u001b[39m\u001b[33mfilename\u001b[39m\u001b[33m\"\u001b[39m]\n\u001b[32m     30\u001b[39m file_path = os.path.join(rvl_cdip_images_path, relative_filepath, filename)\n\u001b[32m---> \u001b[39m\u001b[32m31\u001b[39m \u001b[38;5;28;01mreturn\u001b[39;00m get_image_data(file_path)\n",
      "\u001b[36mCell\u001b[39m\u001b[36m \u001b[39m\u001b[32mIn[16]\u001b[39m\u001b[32m, line 11\u001b[39m, in \u001b[36mget_image_data\u001b[39m\u001b[34m(file_path)\u001b[39m\n\u001b[32m      9\u001b[39m ratio_b, ratio_n = ratio_blanc_noir(file_path, threshold=\u001b[32m200\u001b[39m)\n\u001b[32m     10\u001b[39m bloc = blocs(file_path)\n\u001b[32m---> \u001b[39m\u001b[32m11\u001b[39m feature = features(file_path)\n\u001b[32m     12\u001b[39m bord = bordure(file_path)\n\u001b[32m     13\u001b[39m motif = motifs(file_path)\n",
      "\u001b[36mCell\u001b[39m\u001b[36m \u001b[39m\u001b[32mIn[13]\u001b[39m\u001b[32m, line 7\u001b[39m, in \u001b[36mfeatures\u001b[39m\u001b[34m(image_path)\u001b[39m\n\u001b[32m      5\u001b[39m \u001b[38;5;28;01mdef\u001b[39;00m\u001b[38;5;250m \u001b[39m\u001b[34mfeatures\u001b[39m(image_path):\n\u001b[32m      6\u001b[39m     img = cv2.imread(image_path, cv2.IMREAD_GRAYSCALE)\n\u001b[32m----> \u001b[39m\u001b[32m7\u001b[39m     text = pytesseract.image_to_string(img)\n\u001b[32m      9\u001b[39m     nb_lines = text.count(\u001b[33m'\u001b[39m\u001b[38;5;130;01m\\n\u001b[39;00m\u001b[33m'\u001b[39m)\n\u001b[32m     10\u001b[39m     nb_words = \u001b[38;5;28mlen\u001b[39m(text.split())\n",
      "\u001b[36mFile \u001b[39m\u001b[32m~\\Documents\\logiciels\\anaconda\\envs\\mon_jupyter\\Lib\\site-packages\\pytesseract\\pytesseract.py:486\u001b[39m, in \u001b[36mimage_to_string\u001b[39m\u001b[34m(image, lang, config, nice, output_type, timeout)\u001b[39m\n\u001b[32m    481\u001b[39m \u001b[38;5;250m\u001b[39m\u001b[33;03m\"\"\"\u001b[39;00m\n\u001b[32m    482\u001b[39m \u001b[33;03mReturns the result of a Tesseract OCR run on the provided image to string\u001b[39;00m\n\u001b[32m    483\u001b[39m \u001b[33;03m\"\"\"\u001b[39;00m\n\u001b[32m    484\u001b[39m args = [image, \u001b[33m'\u001b[39m\u001b[33mtxt\u001b[39m\u001b[33m'\u001b[39m, lang, config, nice, timeout]\n\u001b[32m--> \u001b[39m\u001b[32m486\u001b[39m \u001b[38;5;28;01mreturn\u001b[39;00m {\n\u001b[32m    487\u001b[39m     Output.BYTES: \u001b[38;5;28;01mlambda\u001b[39;00m: run_and_get_output(*(args + [\u001b[38;5;28;01mTrue\u001b[39;00m])),\n\u001b[32m    488\u001b[39m     Output.DICT: \u001b[38;5;28;01mlambda\u001b[39;00m: {\u001b[33m'\u001b[39m\u001b[33mtext\u001b[39m\u001b[33m'\u001b[39m: run_and_get_output(*args)},\n\u001b[32m    489\u001b[39m     Output.STRING: \u001b[38;5;28;01mlambda\u001b[39;00m: run_and_get_output(*args),\n\u001b[32m    490\u001b[39m }[output_type]()\n",
      "\u001b[36mFile \u001b[39m\u001b[32m~\\Documents\\logiciels\\anaconda\\envs\\mon_jupyter\\Lib\\site-packages\\pytesseract\\pytesseract.py:489\u001b[39m, in \u001b[36mimage_to_string.<locals>.<lambda>\u001b[39m\u001b[34m()\u001b[39m\n\u001b[32m    481\u001b[39m \u001b[38;5;250m\u001b[39m\u001b[33;03m\"\"\"\u001b[39;00m\n\u001b[32m    482\u001b[39m \u001b[33;03mReturns the result of a Tesseract OCR run on the provided image to string\u001b[39;00m\n\u001b[32m    483\u001b[39m \u001b[33;03m\"\"\"\u001b[39;00m\n\u001b[32m    484\u001b[39m args = [image, \u001b[33m'\u001b[39m\u001b[33mtxt\u001b[39m\u001b[33m'\u001b[39m, lang, config, nice, timeout]\n\u001b[32m    486\u001b[39m \u001b[38;5;28;01mreturn\u001b[39;00m {\n\u001b[32m    487\u001b[39m     Output.BYTES: \u001b[38;5;28;01mlambda\u001b[39;00m: run_and_get_output(*(args + [\u001b[38;5;28;01mTrue\u001b[39;00m])),\n\u001b[32m    488\u001b[39m     Output.DICT: \u001b[38;5;28;01mlambda\u001b[39;00m: {\u001b[33m'\u001b[39m\u001b[33mtext\u001b[39m\u001b[33m'\u001b[39m: run_and_get_output(*args)},\n\u001b[32m--> \u001b[39m\u001b[32m489\u001b[39m     Output.STRING: \u001b[38;5;28;01mlambda\u001b[39;00m: run_and_get_output(*args),\n\u001b[32m    490\u001b[39m }[output_type]()\n",
      "\u001b[36mFile \u001b[39m\u001b[32m~\\Documents\\logiciels\\anaconda\\envs\\mon_jupyter\\Lib\\site-packages\\pytesseract\\pytesseract.py:352\u001b[39m, in \u001b[36mrun_and_get_output\u001b[39m\u001b[34m(image, extension, lang, config, nice, timeout, return_bytes)\u001b[39m\n\u001b[32m    341\u001b[39m \u001b[38;5;28;01mwith\u001b[39;00m save(image) \u001b[38;5;28;01mas\u001b[39;00m (temp_name, input_filename):\n\u001b[32m    342\u001b[39m     kwargs = {\n\u001b[32m    343\u001b[39m         \u001b[33m'\u001b[39m\u001b[33minput_filename\u001b[39m\u001b[33m'\u001b[39m: input_filename,\n\u001b[32m    344\u001b[39m         \u001b[33m'\u001b[39m\u001b[33moutput_filename_base\u001b[39m\u001b[33m'\u001b[39m: temp_name,\n\u001b[32m   (...)\u001b[39m\u001b[32m    349\u001b[39m         \u001b[33m'\u001b[39m\u001b[33mtimeout\u001b[39m\u001b[33m'\u001b[39m: timeout,\n\u001b[32m    350\u001b[39m     }\n\u001b[32m--> \u001b[39m\u001b[32m352\u001b[39m     run_tesseract(**kwargs)\n\u001b[32m    353\u001b[39m     \u001b[38;5;28;01mreturn\u001b[39;00m _read_output(\n\u001b[32m    354\u001b[39m         \u001b[33mf\u001b[39m\u001b[33m\"\u001b[39m\u001b[38;5;132;01m{\u001b[39;00mkwargs[\u001b[33m'\u001b[39m\u001b[33moutput_filename_base\u001b[39m\u001b[33m'\u001b[39m]\u001b[38;5;132;01m}\u001b[39;00m\u001b[38;5;132;01m{\u001b[39;00mextsep\u001b[38;5;132;01m}\u001b[39;00m\u001b[38;5;132;01m{\u001b[39;00mextension\u001b[38;5;132;01m}\u001b[39;00m\u001b[33m\"\u001b[39m,\n\u001b[32m    355\u001b[39m         return_bytes,\n\u001b[32m    356\u001b[39m     )\n",
      "\u001b[36mFile \u001b[39m\u001b[32m~\\Documents\\logiciels\\anaconda\\envs\\mon_jupyter\\Lib\\site-packages\\pytesseract\\pytesseract.py:282\u001b[39m, in \u001b[36mrun_tesseract\u001b[39m\u001b[34m(input_filename, output_filename_base, extension, lang, config, nice, timeout)\u001b[39m\n\u001b[32m    279\u001b[39m     \u001b[38;5;28;01melse\u001b[39;00m:\n\u001b[32m    280\u001b[39m         \u001b[38;5;28;01mraise\u001b[39;00m TesseractNotFoundError()\n\u001b[32m--> \u001b[39m\u001b[32m282\u001b[39m \u001b[38;5;28;01mwith\u001b[39;00m timeout_manager(proc, timeout) \u001b[38;5;28;01mas\u001b[39;00m error_string:\n\u001b[32m    283\u001b[39m     \u001b[38;5;28;01mif\u001b[39;00m proc.returncode:\n\u001b[32m    284\u001b[39m         \u001b[38;5;28;01mraise\u001b[39;00m TesseractError(proc.returncode, get_errors(error_string))\n",
      "\u001b[36mFile \u001b[39m\u001b[32m~\\Documents\\logiciels\\anaconda\\envs\\mon_jupyter\\Lib\\contextlib.py:137\u001b[39m, in \u001b[36m_GeneratorContextManager.__enter__\u001b[39m\u001b[34m(self)\u001b[39m\n\u001b[32m    135\u001b[39m \u001b[38;5;28;01mdel\u001b[39;00m \u001b[38;5;28mself\u001b[39m.args, \u001b[38;5;28mself\u001b[39m.kwds, \u001b[38;5;28mself\u001b[39m.func\n\u001b[32m    136\u001b[39m \u001b[38;5;28;01mtry\u001b[39;00m:\n\u001b[32m--> \u001b[39m\u001b[32m137\u001b[39m     \u001b[38;5;28;01mreturn\u001b[39;00m \u001b[38;5;28mnext\u001b[39m(\u001b[38;5;28mself\u001b[39m.gen)\n\u001b[32m    138\u001b[39m \u001b[38;5;28;01mexcept\u001b[39;00m \u001b[38;5;167;01mStopIteration\u001b[39;00m:\n\u001b[32m    139\u001b[39m     \u001b[38;5;28;01mraise\u001b[39;00m \u001b[38;5;167;01mRuntimeError\u001b[39;00m(\u001b[33m\"\u001b[39m\u001b[33mgenerator didn\u001b[39m\u001b[33m'\u001b[39m\u001b[33mt yield\u001b[39m\u001b[33m\"\u001b[39m) \u001b[38;5;28;01mfrom\u001b[39;00m\u001b[38;5;250m \u001b[39m\u001b[38;5;28;01mNone\u001b[39;00m\n",
      "\u001b[36mFile \u001b[39m\u001b[32m~\\Documents\\logiciels\\anaconda\\envs\\mon_jupyter\\Lib\\site-packages\\pytesseract\\pytesseract.py:144\u001b[39m, in \u001b[36mtimeout_manager\u001b[39m\u001b[34m(proc, seconds)\u001b[39m\n\u001b[32m    142\u001b[39m \u001b[38;5;28;01mtry\u001b[39;00m:\n\u001b[32m    143\u001b[39m     \u001b[38;5;28;01mif\u001b[39;00m \u001b[38;5;129;01mnot\u001b[39;00m seconds:\n\u001b[32m--> \u001b[39m\u001b[32m144\u001b[39m         \u001b[38;5;28;01myield\u001b[39;00m proc.communicate()[\u001b[32m1\u001b[39m]\n\u001b[32m    145\u001b[39m         \u001b[38;5;28;01mreturn\u001b[39;00m\n\u001b[32m    147\u001b[39m     \u001b[38;5;28;01mtry\u001b[39;00m:\n",
      "\u001b[36mFile \u001b[39m\u001b[32m~\\Documents\\logiciels\\anaconda\\envs\\mon_jupyter\\Lib\\subprocess.py:1209\u001b[39m, in \u001b[36mPopen.communicate\u001b[39m\u001b[34m(self, input, timeout)\u001b[39m\n\u001b[32m   1206\u001b[39m     endtime = \u001b[38;5;28;01mNone\u001b[39;00m\n\u001b[32m   1208\u001b[39m \u001b[38;5;28;01mtry\u001b[39;00m:\n\u001b[32m-> \u001b[39m\u001b[32m1209\u001b[39m     stdout, stderr = \u001b[38;5;28mself\u001b[39m._communicate(\u001b[38;5;28minput\u001b[39m, endtime, timeout)\n\u001b[32m   1210\u001b[39m \u001b[38;5;28;01mexcept\u001b[39;00m \u001b[38;5;167;01mKeyboardInterrupt\u001b[39;00m:\n\u001b[32m   1211\u001b[39m     \u001b[38;5;66;03m# https://bugs.python.org/issue25942\u001b[39;00m\n\u001b[32m   1212\u001b[39m     \u001b[38;5;66;03m# See the detailed comment in .wait().\u001b[39;00m\n\u001b[32m   1213\u001b[39m     \u001b[38;5;28;01mif\u001b[39;00m timeout \u001b[38;5;129;01mis\u001b[39;00m \u001b[38;5;129;01mnot\u001b[39;00m \u001b[38;5;28;01mNone\u001b[39;00m:\n",
      "\u001b[36mFile \u001b[39m\u001b[32m~\\Documents\\logiciels\\anaconda\\envs\\mon_jupyter\\Lib\\subprocess.py:1628\u001b[39m, in \u001b[36mPopen._communicate\u001b[39m\u001b[34m(self, input, endtime, orig_timeout)\u001b[39m\n\u001b[32m   1624\u001b[39m \u001b[38;5;66;03m# Wait for the reader threads, or time out.  If we time out, the\u001b[39;00m\n\u001b[32m   1625\u001b[39m \u001b[38;5;66;03m# threads remain reading and the fds left open in case the user\u001b[39;00m\n\u001b[32m   1626\u001b[39m \u001b[38;5;66;03m# calls communicate again.\u001b[39;00m\n\u001b[32m   1627\u001b[39m \u001b[38;5;28;01mif\u001b[39;00m \u001b[38;5;28mself\u001b[39m.stdout \u001b[38;5;129;01mis\u001b[39;00m \u001b[38;5;129;01mnot\u001b[39;00m \u001b[38;5;28;01mNone\u001b[39;00m:\n\u001b[32m-> \u001b[39m\u001b[32m1628\u001b[39m     \u001b[38;5;28mself\u001b[39m.stdout_thread.join(\u001b[38;5;28mself\u001b[39m._remaining_time(endtime))\n\u001b[32m   1629\u001b[39m     \u001b[38;5;28;01mif\u001b[39;00m \u001b[38;5;28mself\u001b[39m.stdout_thread.is_alive():\n\u001b[32m   1630\u001b[39m         \u001b[38;5;28;01mraise\u001b[39;00m TimeoutExpired(\u001b[38;5;28mself\u001b[39m.args, orig_timeout)\n",
      "\u001b[36mFile \u001b[39m\u001b[32m~\\Documents\\logiciels\\anaconda\\envs\\mon_jupyter\\Lib\\threading.py:1119\u001b[39m, in \u001b[36mThread.join\u001b[39m\u001b[34m(self, timeout)\u001b[39m\n\u001b[32m   1116\u001b[39m     \u001b[38;5;28;01mraise\u001b[39;00m \u001b[38;5;167;01mRuntimeError\u001b[39;00m(\u001b[33m\"\u001b[39m\u001b[33mcannot join current thread\u001b[39m\u001b[33m\"\u001b[39m)\n\u001b[32m   1118\u001b[39m \u001b[38;5;28;01mif\u001b[39;00m timeout \u001b[38;5;129;01mis\u001b[39;00m \u001b[38;5;28;01mNone\u001b[39;00m:\n\u001b[32m-> \u001b[39m\u001b[32m1119\u001b[39m     \u001b[38;5;28mself\u001b[39m._wait_for_tstate_lock()\n\u001b[32m   1120\u001b[39m \u001b[38;5;28;01melse\u001b[39;00m:\n\u001b[32m   1121\u001b[39m     \u001b[38;5;66;03m# the behavior of a negative timeout isn't documented, but\u001b[39;00m\n\u001b[32m   1122\u001b[39m     \u001b[38;5;66;03m# historically .join(timeout=x) for x<0 has acted as if timeout=0\u001b[39;00m\n\u001b[32m   1123\u001b[39m     \u001b[38;5;28mself\u001b[39m._wait_for_tstate_lock(timeout=\u001b[38;5;28mmax\u001b[39m(timeout, \u001b[32m0\u001b[39m))\n",
      "\u001b[36mFile \u001b[39m\u001b[32m~\\Documents\\logiciels\\anaconda\\envs\\mon_jupyter\\Lib\\threading.py:1139\u001b[39m, in \u001b[36mThread._wait_for_tstate_lock\u001b[39m\u001b[34m(self, block, timeout)\u001b[39m\n\u001b[32m   1136\u001b[39m     \u001b[38;5;28;01mreturn\u001b[39;00m\n\u001b[32m   1138\u001b[39m \u001b[38;5;28;01mtry\u001b[39;00m:\n\u001b[32m-> \u001b[39m\u001b[32m1139\u001b[39m     \u001b[38;5;28;01mif\u001b[39;00m lock.acquire(block, timeout):\n\u001b[32m   1140\u001b[39m         lock.release()\n\u001b[32m   1141\u001b[39m         \u001b[38;5;28mself\u001b[39m._stop()\n",
      "\u001b[31mKeyboardInterrupt\u001b[39m: "
     ]
    }
   ],
   "source": [
    "t = time.time()\n",
    "df = pd.concat([df, get_image_data_to_df(df)], axis = 1)\n",
    "print(f\"Duree d'exécution: {time.time() - t:.3f} secondes.\")\n",
    "print(f\"({len(df)} images traitées)\\n\")\n",
    "df"
   ]
  },
  {
   "cell_type": "code",
   "execution_count": 18,
   "id": "6d4392f0-e558-4a09-bf32-2593ee1fc9b0",
   "metadata": {},
   "outputs": [],
   "source": [
    "#df.to_pickle(\"rvl_cdip_draft0.pkl\")\n",
    "df.to_csv(os.path.join(project_path, 'data', 'extracted', 'rvl_cdip_draft3.csv'))"
   ]
  },
  {
   "cell_type": "code",
   "execution_count": null,
   "id": "01db43c9-54a8-4f1a-9e15-8943d8b6213e",
   "metadata": {},
   "outputs": [],
   "source": []
  },
  {
   "cell_type": "code",
   "execution_count": null,
   "id": "de9b7c3b-1cda-4dc0-9668-7a644f27284b",
   "metadata": {},
   "outputs": [],
   "source": []
  }
 ],
 "metadata": {
  "kernelspec": {
   "display_name": "Python 3 (ipykernel)",
   "language": "python",
   "name": "python3"
  },
  "language_info": {
   "codemirror_mode": {
    "name": "ipython",
    "version": 3
   },
   "file_extension": ".py",
   "mimetype": "text/x-python",
   "name": "python",
   "nbconvert_exporter": "python",
   "pygments_lexer": "ipython3",
   "version": "3.11.13"
  }
 },
 "nbformat": 4,
 "nbformat_minor": 5
}
