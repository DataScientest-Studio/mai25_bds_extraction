{
 "cells": [
  {
   "cell_type": "markdown",
   "id": "537a9253-75f2-4328-a36c-73dc72d938df",
   "metadata": {},
   "source": [
    "# Modèles ML par traitement du texte"
   ]
  },
  {
   "cell_type": "markdown",
   "id": "1145dcb0-8ff3-4ba2-a342-aea1db31e627",
   "metadata": {},
   "source": [
    "## README\n",
    "Ce notebook permet la création et l'évaluation de modèles ML sur le texte.\n",
    "\n",
    "Il s'appuie pour cela sur les données ocr pré-processées contenues dans la df df_txt_ocr1"
   ]
  },
  {
   "cell_type": "markdown",
   "id": "65adf2da-af14-4bea-a4a3-a8eb1068ba3a",
   "metadata": {},
   "source": [
    "## 1. Préparation"
   ]
  },
  {
   "cell_type": "code",
   "execution_count": null,
   "id": "f229e0fc-fe3b-4823-b872-5857ece3cc8a",
   "metadata": {},
   "outputs": [],
   "source": [
    "import sys\n",
    "from pathlib import Path\n",
    "\n",
    "project_root = Path().resolve().parent\n",
    "if not project_root in [Path(p).resolve() for p in sys.path]:\n",
    "    sys.path.append(str(project_root))\n",
    "\n",
    "from src import PATHS"
   ]
  },
  {
   "cell_type": "code",
   "execution_count": null,
   "id": "e669accd-0178-496d-832d-cbbd72809df2",
   "metadata": {},
   "outputs": [],
   "source": [
    "import pandas as pd\n",
    "from sklearn.feature_extraction.text import TfidfVectorizer\n",
    "from sklearn.linear_model import LogisticRegression\n",
    "from sklearn.ensemble import RandomForestClassifier\n",
    "from sklearn.naive_bayes import MultinomialNB\n",
    "from sklearn.metrics import classification_report\n",
    "from matplotlib import pyplot as plt\n",
    "import joblib"
   ]
  },
  {
   "cell_type": "markdown",
   "id": "4a1737d5-404d-45ff-9c99-915f993cdf45",
   "metadata": {},
   "source": [
    "## 2. Chargement des données"
   ]
  },
  {
   "cell_type": "code",
   "execution_count": null,
   "id": "6167dd0c-986b-407c-9bde-a82d4e9a76e8",
   "metadata": {},
   "outputs": [],
   "source": [
    "features = pd.read_parquet(PATHS.processed_data / 'df_txt_ocr1.parquet')\n",
    "features.shape"
   ]
  },
  {
   "cell_type": "code",
   "execution_count": null,
   "id": "23eb4c85-57b6-40af-ab93-02210642d303",
   "metadata": {},
   "outputs": [],
   "source": [
    "data_sets = pd.read_parquet(PATHS.metadata / \"df_data_sets.parquet\")\n",
    "labels = pd.read_parquet(PATHS.metadata / \"df_encoded_labels.parquet\")"
   ]
  },
  {
   "cell_type": "raw",
   "id": "711f7833-5f39-4fd2-b835-35e473249b8b",
   "metadata": {},
   "source": [
    "## pour ne travailler que sur un échantillon :"
   ]
  },
  {
   "cell_type": "raw",
   "id": "f8668079-cb4a-4f87-95ab-003048a8bbeb",
   "metadata": {},
   "source": [
    "sample = pd.read_parquet(PATHS.samples / 'df_documents_sample_40k_3.parquet')\n",
    "features = features.join(sample, how='inner')\n",
    "features.shape"
   ]
  },
  {
   "cell_type": "code",
   "execution_count": null,
   "id": "d481163a-41ba-4b54-84be-1d04a93cb8a5",
   "metadata": {},
   "outputs": [],
   "source": [
    "# au cas où features soit incomplet\n",
    "data_sets = data_sets.join(features[[]], how=\"inner\")\n",
    "labels = labels.join(features[[]], how=\"inner\")\n",
    "\n",
    "features.shape, data_sets.shape, labels.shape"
   ]
  },
  {
   "cell_type": "code",
   "execution_count": null,
   "id": "6c67ebb5-d49d-43ff-9c8e-808807053786",
   "metadata": {},
   "outputs": [],
   "source": [
    "X = features.ocr # (vectorizer expects 1D array)\n",
    "y = labels.label\n",
    "\n",
    "X_train = X[data_sets.data_set == \"train\"]\n",
    "y_train = y[data_sets.data_set == \"train\"]\n",
    "\n",
    "X_val = X[data_sets.data_set == \"val\"]\n",
    "y_val = y[data_sets.data_set == \"val\"]\n",
    "\n",
    "X_test = X[data_sets.data_set == \"test\"]\n",
    "y_test = y[data_sets.data_set == \"test\"]\n",
    "\n",
    "# On libère de la mémoire\n",
    "del features, labels, data_sets"
   ]
  },
  {
   "cell_type": "markdown",
   "id": "fab7a370-9e1d-4e72-93c6-7883f4b46da4",
   "metadata": {},
   "source": [
    "## 3. Vectorisation"
   ]
  },
  {
   "cell_type": "code",
   "execution_count": null,
   "id": "c210ab84-a6af-41c5-bf2f-fc03243a3543",
   "metadata": {},
   "outputs": [],
   "source": [
    "vectorizer = TfidfVectorizer(max_features=5000)\n",
    "X_train_vect = vectorizer.fit_transform(X_train)\n",
    "X_val_vect   = vectorizer.transform(X_val)\n",
    "X_test_vect = vectorizer.transform(X_test)"
   ]
  },
  {
   "cell_type": "markdown",
   "id": "55e90eaf-c927-46e0-b708-c49ca4550dc7",
   "metadata": {},
   "source": [
    "## 4. Modélisation"
   ]
  },
  {
   "cell_type": "code",
   "execution_count": null,
   "id": "82196ff1-9d8b-4760-a60a-25a08fe5c124",
   "metadata": {},
   "outputs": [],
   "source": [
    " #Modèles à tester\n",
    "models = {\n",
    "    \"Logistic Regression\": LogisticRegression(max_iter=1000),\n",
    "    \"Random Forest\": RandomForestClassifier(),\n",
    "    \"Naive Bayes\": MultinomialNB()}\n"
   ]
  },
  {
   "cell_type": "code",
   "execution_count": null,
   "id": "b1381e7d-9f01-40a5-b061-3f8e8c907336",
   "metadata": {},
   "outputs": [],
   "source": [
    "#Entraînement et évaluation\n",
    "for name, model in models.items():\n",
    "    model.fit(X_train_vect, y_train)\n",
    "    y_pred = model.predict(X_val_vect)\n",
    "    print(f\"\\n--- {name} ---\")\n",
    "    print(classification_report(y_val, y_pred))"
   ]
  },
  {
   "cell_type": "code",
   "execution_count": null,
   "id": "85397ba7-febd-4169-bb86-55656d972fc7",
   "metadata": {},
   "outputs": [],
   "source": [
    "# Dictionnaire pour stocker les métriques\n",
    "scores = {}\n",
    "\n",
    "for name, model in models.items():\n",
    "    model.fit(X_train_vect, y_train)\n",
    "    y_pred = model.predict(X_val_vect)\n",
    "    print(f\"\\n--- {name} ---\")\n",
    "    print(classification_report(y_val, y_pred))\n",
    "\n",
    "    # Stockage des métriques\n",
    "    report = classification_report(y_val, y_pred, output_dict=True)\n",
    "    scores[name] = {\n",
    "        'precision': report['macro avg']['precision'],\n",
    "        'recall': report['macro avg']['recall'],\n",
    "        'f1-score': report['macro avg']['f1-score']\n",
    "    }"
   ]
  },
  {
   "cell_type": "code",
   "execution_count": null,
   "id": "6dcb6ace-646f-4a87-9111-6f17da4c2619",
   "metadata": {},
   "outputs": [],
   "source": [
    "# Extraction des métriques\n",
    "labels = list(scores.keys())\n",
    "precision = [scores[model]['precision'] for model in labels]\n",
    "recall = [scores[model]['recall'] for model in labels]\n",
    "f1 = [scores[model]['f1-score'] for model in labels]\n",
    "\n",
    "x = range(len(labels))\n",
    "width = 0.25\n",
    "\n",
    "# Graphique\n",
    "plt.figure(figsize=(10, 6))\n",
    "plt.bar([p - width for p in x], precision, width=width, label='Précision')\n",
    "plt.bar(x, recall, width=width, label='Rappel')\n",
    "plt.bar([p + width for p in x], f1, width=width, label='F1-score')\n",
    "\n",
    "plt.xticks(x, labels, rotation=45)\n",
    "plt.ylabel(\"Score (macro avg)\")\n",
    "plt.title(\"Comparaison des métriques par modèle\")\n",
    "plt.ylim(0, 1.05)\n",
    "plt.legend()\n",
    "plt.tight_layout()\n",
    "plt.show()\n"
   ]
  },
  {
   "cell_type": "markdown",
   "id": "4c4ac144-e5b7-4373-8986-3e9823029645",
   "metadata": {},
   "source": [
    "# 5. Sauvegarde des modèles"
   ]
  },
  {
   "cell_type": "code",
   "execution_count": null,
   "id": "e8a19841-2849-4a68-8277-5041608f4bb2",
   "metadata": {},
   "outputs": [],
   "source": [
    "joblib.dump(vectorizer, PATHS.models / \"txt_tfid_vectorizer.joblib\")\n",
    "joblib.dump(models['Logistic Regression'], PATHS.models / \"txt_logistic_regressor.joblib\")\n",
    "joblib.dump(models['Random Forest'], PATHS.models / \"txt_random_forest.joblib\")\n",
    "joblib.dump(models['Naive Bayes'], PATHS.models / \"txt_naive_bayes.joblib\")\n"
   ]
  },
  {
   "cell_type": "code",
   "execution_count": null,
   "id": "1b7ec628-4905-4629-9bc3-1c79143f6aea",
   "metadata": {},
   "outputs": [],
   "source": []
  }
 ],
 "metadata": {
  "kernelspec": {
   "display_name": "Python 3 (ipykernel)",
   "language": "python",
   "name": "python3"
  },
  "language_info": {
   "codemirror_mode": {
    "name": "ipython",
    "version": 3
   },
   "file_extension": ".py",
   "mimetype": "text/x-python",
   "name": "python",
   "nbconvert_exporter": "python",
   "pygments_lexer": "ipython3",
   "version": "3.12.10"
  }
 },
 "nbformat": 4,
 "nbformat_minor": 5
}
