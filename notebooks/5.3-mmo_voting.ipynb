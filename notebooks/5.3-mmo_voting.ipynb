{
 "cells": [
  {
   "cell_type": "markdown",
   "id": "a0a84f7f-71ef-49d6-9993-2e18d6f016c6",
   "metadata": {},
   "source": [
    "# Modèles multimodaux - Voting"
   ]
  },
  {
   "cell_type": "markdown",
   "id": "e6abf6b4-8fec-440c-a7f1-33ac254319e2",
   "metadata": {},
   "source": [
    "## README\n",
    "Ce notebook permet la création et l'évaluation de modèles de voting.\n",
    "\n",
    "Il réalise tout d'abord certaines opérations préalables (chapitre 1), dont la définition des variables globales d'exécution (**A METTRE A JOUR LORS D'UNE PREMIERE UTILISATION**)\n",
    "\n",
    "Le chapitre 2 crée et évalue un modèle de voting simple, par moyennage des prédictions de 2 modèles (1 images et 1 texte)\n",
    "\n",
    "Le chapitre 3 propose une version avancée, avec pondérations, apprises ou non, des résultats des deux modèles utilisés"
   ]
  },
  {
   "cell_type": "markdown",
   "id": "d44804c6-78ae-482f-84c6-f6a741e8bd85",
   "metadata": {},
   "source": [
    "## 1. Préparation"
   ]
  },
  {
   "cell_type": "code",
   "execution_count": null,
   "id": "5da9a69b-bef6-4d16-bd29-ed9c8f074f60",
   "metadata": {},
   "outputs": [],
   "source": [
    "import sys\n",
    "from pathlib import Path\n",
    "\n",
    "project_root = Path().resolve().parent\n",
    "if not project_root in [Path(p).resolve() for p in sys.path]:\n",
    "    sys.path.append(str(project_root))\n",
    "\n",
    "from src import PATHS"
   ]
  },
  {
   "cell_type": "code",
   "execution_count": null,
   "id": "b4ec9d71-5eca-472d-84fe-924c40100acf",
   "metadata": {},
   "outputs": [],
   "source": [
    "import os\n",
    "import time\n",
    "import pickle\n",
    "import numpy as np\n",
    "import pandas as pd\n",
    "import seaborn as sns\n",
    "from tqdm import tqdm\n",
    "from matplotlib import pyplot as plt\n",
    "from sklearn.metrics import classification_report, confusion_matrix, accuracy_score\n",
    "\n",
    "from src.models.multimodal import MultiModalVoter, MultiModalClassWeightedVoter, MultiModalLogisticRegressor\n",
    "from src.visualization.visualize import visual_classification_report"
   ]
  },
  {
   "cell_type": "markdown",
   "id": "b8697f72-68e1-4ac8-a304-049643520506",
   "metadata": {},
   "source": [
    "## 2. Chargement des données"
   ]
  },
  {
   "cell_type": "code",
   "execution_count": null,
   "id": "78566542-9924-4aac-9d25-a15d13d65327",
   "metadata": {},
   "outputs": [],
   "source": [
    "text_features = pd.read_parquet(os.path.join(PATHS.processed_data, 'df_txt_ocr1.parquet'))\n",
    "text_features.shape"
   ]
  },
  {
   "cell_type": "code",
   "execution_count": null,
   "id": "f1a5840f-12a5-4c7d-bd31-8e1191c5b151",
   "metadata": {},
   "outputs": [],
   "source": [
    "image_features = pd.read_parquet(os.path.join(PATHS.processed_data, \"df_img_features_flattened.parquet\"))\n",
    "image_features.shape"
   ]
  },
  {
   "cell_type": "code",
   "execution_count": null,
   "id": "be93acf6-dbd8-4c3d-b125-88d78e753be4",
   "metadata": {},
   "outputs": [],
   "source": [
    "features = text_features.join(image_features, how=\"inner\")\n",
    "del image_features, text_features\n",
    "features.shape"
   ]
  },
  {
   "cell_type": "code",
   "execution_count": null,
   "id": "23eb4c85-57b6-40af-ab93-02210642d303",
   "metadata": {},
   "outputs": [],
   "source": [
    "data_sets = pd.read_parquet(os.path.join(PATHS.metadata, \"df_data_sets.parquet\"))\n",
    "labels = pd.read_parquet(os.path.join(PATHS.metadata, \"df_encoded_labels.parquet\"))"
   ]
  },
  {
   "cell_type": "raw",
   "id": "2bd8390c-3906-4d44-9ce7-693d6dccd7cb",
   "metadata": {},
   "source": [
    "## pour ne travailler que sur un échantillon :"
   ]
  },
  {
   "cell_type": "raw",
   "id": "50d52c28-8bcd-4420-bad2-a06332de29bc",
   "metadata": {},
   "source": [
    "sample = pd.read_parquet(os.path.join(PATHS.metadata, 'samples', 'df_documents_sample_4k_3.parquet'))\n",
    "features = features.join(sample, how='inner')\n",
    "features.shape"
   ]
  },
  {
   "cell_type": "code",
   "execution_count": null,
   "id": "d481163a-41ba-4b54-84be-1d04a93cb8a5",
   "metadata": {},
   "outputs": [],
   "source": [
    "# au cas où features soit incomplet\n",
    "data_sets = data_sets.join(features[[]], how=\"inner\")\n",
    "labels = labels.join(features[[]], how=\"inner\")\n",
    "\n",
    "features.shape, data_sets.shape, labels.shape"
   ]
  },
  {
   "cell_type": "code",
   "execution_count": null,
   "id": "6c67ebb5-d49d-43ff-9c8e-808807053786",
   "metadata": {},
   "outputs": [],
   "source": [
    "X_train = features[data_sets.data_set == \"train\"]\n",
    "y_train = labels[data_sets.data_set == \"train\"]\n",
    "\n",
    "X_val = features[data_sets.data_set == \"val\"]\n",
    "y_val = labels[data_sets.data_set == \"val\"]\n",
    "\n",
    "X_test = features[data_sets.data_set == \"test\"]\n",
    "y_test = labels[data_sets.data_set == \"test\"]\n",
    "\n",
    "del features, labels, data_sets"
   ]
  },
  {
   "cell_type": "markdown",
   "id": "5b3a086f-60ba-4464-af69-f643af6b85b8",
   "metadata": {},
   "source": [
    "## 3. Chargement des pipelines"
   ]
  },
  {
   "cell_type": "code",
   "execution_count": null,
   "id": "eaddc94d-2f41-4ed9-8112-c3f40cabe819",
   "metadata": {},
   "outputs": [],
   "source": [
    "available_pipelines = [pipeline for pipeline in  os.listdir(PATHS.pipelines) if pipeline.endswith(\".pkl\")]\n",
    "img_pipelines = [pipeline for pipeline in available_pipelines if pipeline.startswith(\"img\")]\n",
    "txt_pipelines = [pipeline for pipeline in available_pipelines if pipeline.startswith(\"txt\")]\n",
    "print(img_pipelines)\n",
    "print(txt_pipelines)"
   ]
  },
  {
   "cell_type": "markdown",
   "id": "9490c117-ba73-481c-839e-a54275a8b524",
   "metadata": {},
   "source": [
    "## TODO: mettre dans src "
   ]
  },
  {
   "cell_type": "code",
   "execution_count": null,
   "id": "d3425acb-3247-4998-9176-9d11b29c0159",
   "metadata": {},
   "outputs": [],
   "source": [
    "def df_to_serie(df):\n",
    "    assert len(df.columns) == 1\n",
    "    return df[df.columns[0]]"
   ]
  },
  {
   "cell_type": "code",
   "execution_count": null,
   "id": "ebf62b5b-d4bc-449a-ab75-b283f9c5d8bd",
   "metadata": {},
   "outputs": [],
   "source": [
    "with open(os.path.join(PATHS.pipelines, \"img_lgbm.pkl\"), \"rb\") as f:\n",
    "    img_pipeline = pickle.load(f)\n",
    "with open(os.path.join(PATHS.pipelines, \"txt_ml.pkl\"), \"rb\") as f:\n",
    "    txt_pipeline = pickle.load(f)\n"
   ]
  },
  {
   "cell_type": "markdown",
   "id": "a50ae38d-9ba1-4c1f-acfb-660683fc0e33",
   "metadata": {},
   "source": [
    "## 4. Chargement des modèles"
   ]
  },
  {
   "cell_type": "code",
   "execution_count": null,
   "id": "d55f9417-fd58-4f5e-8589-ef22dc65985e",
   "metadata": {},
   "outputs": [],
   "source": [
    "available_models = [model for model in  os.listdir(PATHS.models) if model.endswith(\".pkl\")]\n",
    "img_models = [model for model in available_models if model.startswith(\"img\")]\n",
    "txt_models = [model for model in available_models if model.startswith(\"txt\")]\n",
    "print(img_models)\n",
    "print(txt_models)"
   ]
  },
  {
   "cell_type": "code",
   "execution_count": null,
   "id": "97617655-8c6d-4219-b196-98cbea6daecb",
   "metadata": {},
   "outputs": [],
   "source": [
    "with open(os.path.join(PATHS.models, \"img_lgbm.pkl\"), \"rb\") as f:\n",
    "    img_model = pickle.load(f)\n",
    "with open(os.path.join(PATHS.models, \"txt_logistic_regression.pkl\"), \"rb\") as f:\n",
    "    txt_model = pickle.load(f)"
   ]
  },
  {
   "cell_type": "code",
   "execution_count": null,
   "id": "dfc4cd3d-8c11-4c71-b963-3521de6caec3",
   "metadata": {},
   "outputs": [],
   "source": [
    "img_model, txt_model"
   ]
  },
  {
   "cell_type": "markdown",
   "id": "01a9960a-6cb1-4167-9949-cfece12b20b0",
   "metadata": {},
   "source": [
    "## 5. Voting simple"
   ]
  },
  {
   "cell_type": "markdown",
   "id": "a504ce29-6188-41ad-84e8-d9ca0bbf6101",
   "metadata": {},
   "source": [
    "### 5.1. Averaging "
   ]
  },
  {
   "cell_type": "code",
   "execution_count": null,
   "id": "93d47e70-c2b1-4b48-b1db-cc3f14b9e2bd",
   "metadata": {},
   "outputs": [],
   "source": [
    "multimodal_voter = MultiModalVoter(img_model, img_pipeline, txt_model, txt_pipeline) \n",
    "visual_classification_report(multimodal_voter, X_test, y_test, \"Averaging voter\", compare_with_components=True)"
   ]
  },
  {
   "cell_type": "markdown",
   "id": "09f543d6-47e4-441d-b60f-da1c7436abe0",
   "metadata": {},
   "source": [
    "### 5.2. Max value"
   ]
  },
  {
   "cell_type": "code",
   "execution_count": null,
   "id": "f2051c5d-9ae7-4889-afbc-09cb5f599efe",
   "metadata": {},
   "outputs": [],
   "source": [
    "multimodal_voter = MultiModalVoter(img_model, img_pipeline, txt_model, txt_pipeline, method = \"max\") \n",
    "visual_classification_report(multimodal_voter, X_test, y_test, \"Max value voter\", compare_with_components=True)"
   ]
  },
  {
   "cell_type": "markdown",
   "id": "5ff6b396-193e-44a5-a193-6f747afc0089",
   "metadata": {},
   "source": [
    "### 5.3. Weighted\n",
    "Nous allons utiliser le jeu de validation pour déterminer la meilleure répartition des poids entre les modèles image et texte."
   ]
  },
  {
   "cell_type": "code",
   "execution_count": null,
   "id": "a919deff-747e-4c2f-bec5-d1bd1709136b",
   "metadata": {},
   "outputs": [],
   "source": [
    "\n",
    "accuracies = []\n",
    "for alpha in tqdm(np.linspace(0,1, 101)):\n",
    "    multimodal_voter = MultiModalVoter(img_model, img_pipeline, txt_model, txt_pipeline, method=\"weighted\", weights = (alpha, 1-alpha))\n",
    "    accuracies.append([alpha, accuracy_score(y_val, multimodal_voter.predict(X_val))])"
   ]
  },
  {
   "cell_type": "code",
   "execution_count": null,
   "id": "0a7d499a-d88e-43dd-b26f-200e5d90bc47",
   "metadata": {},
   "outputs": [],
   "source": [
    "plt.figure(figsize=(8,8))\n",
    "plt.plot((0,0.49),(0.8421, 0.842), 'r--', lw=1)\n",
    "plt.plot((0.49,0.49),(0.55, 0.842), 'r--', lw=1)\n",
    "plt.plot(\n",
    "    tuple(r[0] for r in accuracies),\n",
    "    tuple(r[1] for r in accuracies)\n",
    ")\n",
    "\n",
    "plt.xticks(list(plt.xticks()[0]) + [0.49])\n",
    "plt.yticks(list(plt.yticks()[0]) + [0.842])\n",
    "\n",
    "# Colorer le tick x = 0.49 en rouge\n",
    "for label in plt.gca().get_xticklabels():\n",
    "    if label.get_text() == '0.49':\n",
    "        label.set_color('red')\n",
    "\n",
    "# Colorer le tick y = 0.8421 en rouge\n",
    "for label in plt.gca().get_yticklabels():\n",
    "    if label.get_text() == '0.842':\n",
    "        label.set_color('red')\n",
    "plt.xlim(0, 1)\n",
    "plt.ylim(0.55, 0.87)\n",
    "plt.grid()\n",
    "plt.xlabel(\"Ratio\\n(0 = text only // 1 = image only)\")\n",
    "plt.ylabel(\"Exactitude (données de validation)\")\n",
    "plt.title(\"Weighted voter - Exactitude en fonction du poids texte/image\")"
   ]
  },
  {
   "cell_type": "code",
   "execution_count": null,
   "id": "d3761af7-4a79-4ed8-ac28-1e45fe47adfa",
   "metadata": {},
   "outputs": [],
   "source": [
    "print(\"ratio |accuracy\")\n",
    "print(\"------+--------\")\n",
    "for al, ac in accuracies[40:60]:\n",
    "    print(f\"{al:.2f}  | {100*ac:.2f}%\")"
   ]
  },
  {
   "cell_type": "code",
   "execution_count": null,
   "id": "613c2c4f-b05f-4c16-8850-45d4276f033e",
   "metadata": {},
   "outputs": [],
   "source": [
    "multimodal_voter = MultiModalVoter(img_model, img_pipeline, txt_model, txt_pipeline, method=\"weighted\", weights = (0.49, 0.51))\n",
    "visual_classification_report(multimodal_voter, X_test, y_test, \"0.49-weighted Voter\", compare_with_components=True)"
   ]
  },
  {
   "cell_type": "markdown",
   "id": "a9ef476b-37a3-41e9-9004-9a8e6491c55e",
   "metadata": {},
   "source": [
    "## 6. Pondération par classe"
   ]
  },
  {
   "cell_type": "code",
   "execution_count": null,
   "id": "79255c80-9ee0-4fd5-8f46-c61ee6f610de",
   "metadata": {},
   "outputs": [],
   "source": [
    "multimodal_voter = MultiModalClassWeightedVoter(img_model, img_pipeline, txt_model, txt_pipeline)\n",
    "multimodal_voter.fit(X_val, y_val)"
   ]
  },
  {
   "cell_type": "code",
   "execution_count": null,
   "id": "52c4eca9-20fd-43bc-bb73-7dab3cf7fbe2",
   "metadata": {},
   "outputs": [],
   "source": [
    "visual_classification_report(multimodal_voter, X_test, y_test, \"Class-Weighted voter\", compare_with_comp@bonents=True)"
   ]
  },
  {
   "cell_type": "code",
   "execution_count": null,
   "id": "837f8315-14db-4561-b03f-1da40a981395",
   "metadata": {},
   "outputs": [],
   "source": [
    "max(txt_weights), min(txt_weights)\n",
    "print(\" class | txt weight | img weight \")\n",
    "print(\"-------+------------+------------\")\n",
    "for c, (t, i) in enumerate(zip(txt_weights, img_weights)):\n",
    "    print(f\"   {c:02d}  |    {t:.2f}    |    {i:.2f}\")"
   ]
  },
  {
   "cell_type": "code",
   "execution_count": null,
   "id": "1d13f29c-d7e7-4482-909e-346bb078248e",
   "metadata": {},
   "outputs": [],
   "source": [
    "txt_weights = (multimodal_voter.txt_weights/multimodal_voter.weights_sum).flatten()\n",
    "img_weights = (multimodal_voter.img_weights/multimodal_voter.weights_sum).flatten()\n",
    "\n",
    "indices = np.arange(len(txt_weights))\n",
    "\n",
    "plt.bar(indices, np.ones(16), alpha = 0.75) # pour \"sauter la couleur bleue et retrouver les couleurs des graphes précédents\n",
    "plt.bar(indices, img_weights, bottom=txt_weights, label='image model', alpha = 0.75)\n",
    "plt.bar(indices, txt_weights, label='text model', alpha = 0.75)\n",
    "\n",
    "plt.ylabel('Poids')\n",
    "plt.xlabel('Classe')\n",
    "plt.title('Valeurs des poids par classe associés aux modèles constitutifs')\n",
    "plt.xticks(indices)\n",
    "plt.ylim(0, 1.05)\n",
    "plt.legend(loc='lower right')\n",
    "plt.grid(axis='y', linestyle='--', alpha=0.7)\n",
    "\n",
    "plt.tight_layout()\n",
    "plt.show()\n"
   ]
  },
  {
   "cell_type": "code",
   "execution_count": null,
   "id": "3e275c07-76b2-4627-bb64-dc2a4e60df9d",
   "metadata": {},
   "outputs": [],
   "source": []
  }
 ],
 "metadata": {
  "kernelspec": {
   "display_name": "Python 3 (ipykernel)",
   "language": "python",
   "name": "python3"
  },
  "language_info": {
   "codemirror_mode": {
    "name": "ipython",
    "version": 3
   },
   "file_extension": ".py",
   "mimetype": "text/x-python",
   "name": "python",
   "nbconvert_exporter": "python",
   "pygments_lexer": "ipython3",
   "version": "3.12.10"
  }
 },
 "nbformat": 4,
 "nbformat_minor": 5
}
