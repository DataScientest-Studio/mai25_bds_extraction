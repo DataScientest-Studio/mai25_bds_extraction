{
 "cells": [
  {
   "cell_type": "code",
   "execution_count": null,
   "id": "8d8af231-76ff-463f-bbfc-d598f8a8306b",
   "metadata": {},
   "outputs": [],
   "source": [
    "import os\n",
    "import time\n",
    "import joblib\n",
    "import numpy as np\n",
    "import pandas as pd\n",
    "import seaborn as sns\n",
    "import matplotlib.pyplot as plt\n",
    "\n",
    "# import lightgbm as lgb\n",
    "from lightgbm import LGBMClassifier\n",
    "from xgboost import XGBClassifier\n",
    "\n",
    "from sklearn.pipeline import Pipeline\n",
    "from sklearn.decomposition import PCA\n",
    "from sklearn.compose import ColumnTransformer\n",
    "from sklearn.preprocessing import MinMaxScaler, StandardScaler, RobustScaler\n",
    "from sklearn.linear_model import SGDClassifier\n",
    "from sklearn.model_selection import StratifiedKFold\n",
    "from sklearn.metrics import classification_report, confusion_matrix\n",
    "\n",
    "from skopt import BayesSearchCV\n",
    "from skopt.space import Categorical, Real, Integer\n",
    "from lazypredict.Supervised import LazyClassifier"
   ]
  },
  {
   "cell_type": "code",
   "execution_count": null,
   "id": "5091abe9-387a-4a07-8221-b623f220727e",
   "metadata": {},
   "outputs": [],
   "source": [
    "import sys\n",
    "from pathlib import Path\n",
    "\n",
    "project_root = Path().resolve().parent\n",
    "if not project_root in [Path(p).resolve() for p in sys.path]:\n",
    "    sys.path.append(str(project_root))\n",
    "\n",
    "from src import PATHS\n",
    "from src.visualization.visualize import plot_spider_graph"
   ]
  },
  {
   "cell_type": "markdown",
   "id": "b6985dcb-54ae-4775-8fbf-0aaee89e8976",
   "metadata": {
    "jp-MarkdownHeadingCollapsed": true
   },
   "source": [
    "# 1. Premiers essais\n",
    "On va travailler sur un échantillon d'abord, parce que sinon je n'ai pas assez de RAM"
   ]
  },
  {
   "cell_type": "code",
   "execution_count": null,
   "id": "d2f6b2e9-84f7-441a-b1bd-687cd8057dbd",
   "metadata": {},
   "outputs": [],
   "source": [
    "df_all = pd.read_parquet(PATHS.processed_data / \"df_img_features_pixels.parquet\")"
   ]
  },
  {
   "cell_type": "code",
   "execution_count": null,
   "id": "b7d97369-c1bf-428e-89eb-97474dfaaa6a",
   "metadata": {},
   "outputs": [],
   "source": [
    "sample = pd.read_parquet(PATHS.samples / 'df_documents_sample_4k_3.parquet')\n",
    "df = sample.join(df_all)\n",
    "df"
   ]
  },
  {
   "cell_type": "markdown",
   "id": "573cae1c-3beb-4158-8c19-7ded9704f1d3",
   "metadata": {},
   "source": [
    "## 1.1. Création des sets de train, test et validation"
   ]
  },
  {
   "cell_type": "code",
   "execution_count": null,
   "id": "f909b927-c02a-46ec-917e-4554eea84808",
   "metadata": {},
   "outputs": [],
   "source": [
    "data_sets = pd.read_parquet(PATHS.metadata / \"df_data_sets.parquet\")\n",
    "labels = pd.read_parquet(PATHS.metadata / \"df_encoded_labels.parquet\")\n",
    "\n",
    "data_sets = sample.join(data_sets)\n",
    "labels = sample.join(labels).label\n",
    "\n",
    "#features = df.columns\n",
    "\n",
    "X_train = df[data_sets.data_set == \"train\"]\n",
    "y_train = labels[data_sets.data_set == \"train\"]\n",
    "\n",
    "X_val = df[data_sets.data_set == \"val\"]\n",
    "y_val = labels[data_sets.data_set == \"val\"]\n",
    "\n",
    "X_test = df[data_sets.data_set == \"test\"]\n",
    "y_test = labels[data_sets.data_set == \"test\"]\n",
    "\n",
    "# On libère de la mémoire\n",
    "del df, labels, data_sets"
   ]
  },
  {
   "cell_type": "markdown",
   "id": "2da26f2d-f90a-450c-91d7-028434b30f97",
   "metadata": {},
   "source": [
    "## 1.2. Preprocessing "
   ]
  },
  {
   "cell_type": "code",
   "execution_count": null,
   "id": "3216a591-794a-45e0-8dc8-db4aa7fc8f81",
   "metadata": {},
   "outputs": [],
   "source": [
    "# Liste des colonnes à normaliser\n",
    "cols_to_normalize = ['top_marge', 'bottom_marge', 'left_marge',\n",
    "       'right_marge', 'nb_lignes', 'nb_colonnes', 'sharpness', 'noise',\n",
    "       'ratio_b', 'ratio_n', 'entropy','width']\n",
    "\n",
    "scaler = RobustScaler()\n",
    "\n",
    "# Fit sur le train\n",
    "X_train[cols_to_normalize] = scaler.fit_transform(X_train[cols_to_normalize])\n",
    "\n",
    "# Transform val et test\n",
    "X_val[cols_to_normalize] = scaler.transform(X_val[cols_to_normalize])\n",
    "X_test[cols_to_normalize] = scaler.transform(X_test[cols_to_normalize])\n"
   ]
  },
  {
   "cell_type": "markdown",
   "id": "dd409c4b-c904-4b9c-a755-bcf1afe7f4f3",
   "metadata": {},
   "source": [
    "## 1.3. Lazy Classifier ?\n",
    "Bon, trop de colonnes, ça ne tourne pas, donc je commence par faire une PCA pour garder le plus possible de l'information, tout en réduisant drastiquement la nombre de colonnes. "
   ]
  },
  {
   "cell_type": "code",
   "execution_count": null,
   "id": "f07c5762-07f5-4af7-853c-da6a57281a45",
   "metadata": {},
   "outputs": [],
   "source": [
    "pca = PCA()\n",
    "#on va regarder combien il faut garder de dimensions pour ne pas perdre trop d'information. \n",
    "coord_pca = pd.DataFrame(data = pca.fit_transform(X_train), \n",
    "                         columns =[f'PC{i+1}' for i in range (len(X_train))])\n",
    "coord_pca.head()"
   ]
  },
  {
   "cell_type": "code",
   "execution_count": null,
   "id": "ec8635ea-a076-4482-8deb-c009a2850bfb",
   "metadata": {},
   "outputs": [],
   "source": [
    "CL = pd.DataFrame(data = pca.components_,\n",
    "                  columns = X_train.columns,\n",
    "                  index = coord_pca.columns)\n",
    "CL.head()"
   ]
  },
  {
   "cell_type": "code",
   "execution_count": null,
   "id": "12bb746e-c4f2-45b8-90ea-bcc1cf337036",
   "metadata": {},
   "outputs": [],
   "source": [
    "var = pd.DataFrame(data = pca.explained_variance_ratio_,\n",
    "                  index = coord_pca.columns)\n",
    "var.head()\n",
    "# une seule composante explique quasiment 30% de la variance, et après ça chute très très vite..."
   ]
  },
  {
   "cell_type": "code",
   "execution_count": null,
   "id": "4cf167d3-ba9a-4b6b-a6f0-c1dc73864cbc",
   "metadata": {},
   "outputs": [],
   "source": [
    "plt.figure(figsize=(8, 5))\n",
    "plt.plot(np.cumsum(pca.explained_variance_ratio_), marker='o', ms= 2)\n",
    "plt.axhline(y = 0.9, color ='r', linestyle = '--')\n",
    "plt.xlabel(\"Nombre de composantes\")\n",
    "plt.ylabel(\"Variance expliquée cumulée\")\n",
    "plt.title(\"Variance expliquée\")\n",
    "plt.grid(True)\n",
    "plt.show()\n"
   ]
  },
  {
   "cell_type": "code",
   "execution_count": null,
   "id": "9d153346-dcee-42c7-ac23-f092689a2145",
   "metadata": {},
   "outputs": [],
   "source": [
    "## PCA\n",
    "n_components = 1000  # ou moins, à tester\n",
    "pca = PCA(n_components=n_components)\n",
    "X_train_pca = pca.fit_transform(X_train)\n",
    "X_test_pca = pca.transform(X_test)"
   ]
  },
  {
   "cell_type": "code",
   "execution_count": null,
   "id": "40d8e740-11ea-4f5d-8671-15b603fafa41",
   "metadata": {
    "scrolled": true
   },
   "outputs": [],
   "source": [
    "clf=LazyClassifier(verbose = 0, \n",
    "                   ignore_warnings=True, \n",
    "                   custom_metric=None)\n",
    "models, predictions=clf.fit(X_train_pca, X_test_pca, y_train, y_test)\n",
    "display(models)"
   ]
  },
  {
   "cell_type": "markdown",
   "id": "ef21b70b-f2e9-407b-ba7b-dbe960853a67",
   "metadata": {},
   "source": [
    "## 1.4. On se lance dans les classifiers suivants: \n",
    "- LGBM\n",
    "- XGB\n",
    "- SGD"
   ]
  },
  {
   "cell_type": "markdown",
   "id": "fecdaf8d-eee4-4288-b1cd-b3de1c3f631b",
   "metadata": {
    "jp-MarkdownHeadingCollapsed": true
   },
   "source": [
    "### LGBM Classifier"
   ]
  },
  {
   "cell_type": "code",
   "execution_count": null,
   "id": "ff8f65d0-cd4d-4888-977f-f090734c1bf1",
   "metadata": {},
   "outputs": [],
   "source": [
    "clf_lgbm =LGBMClassifier()"
   ]
  },
  {
   "cell_type": "code",
   "execution_count": null,
   "id": "6ae1fe22-5965-4454-bb58-b1f81b92ad9c",
   "metadata": {},
   "outputs": [],
   "source": [
    "clf_lgbm.fit(X_train_pca, y_train)"
   ]
  },
  {
   "cell_type": "code",
   "execution_count": null,
   "id": "ed64026b-8489-4047-9e8d-4de60323b7c6",
   "metadata": {},
   "outputs": [],
   "source": [
    "y_pred=clf_lgbm.predict(X_test_pca)"
   ]
  },
  {
   "cell_type": "code",
   "execution_count": null,
   "id": "a90dad57-eb88-45ad-87ef-065537fc76f4",
   "metadata": {},
   "outputs": [],
   "source": [
    "cm = pd.crosstab(y_test, y_pred, rownames=['classe réelle'], colnames=['classe prédite'])"
   ]
  },
  {
   "cell_type": "code",
   "execution_count": null,
   "id": "fee88e90-3254-435a-beb4-f816bcc650d1",
   "metadata": {},
   "outputs": [],
   "source": [
    "sns.heatmap(cm, annot=True)\n",
    "plt.title('Matrice de confusion, LGBM, paramètres par défaut')"
   ]
  },
  {
   "cell_type": "code",
   "execution_count": null,
   "id": "e8f77e65-1b0a-44c2-bf52-5208fdf9590f",
   "metadata": {},
   "outputs": [],
   "source": [
    "print(classification_report(y_test, y_pred))"
   ]
  },
  {
   "cell_type": "markdown",
   "id": "f78a709e-080b-4692-9388-344e55205655",
   "metadata": {
    "jp-MarkdownHeadingCollapsed": true
   },
   "source": [
    "# 2. Recherche des meilleurs paramètres pour les 3 modèles"
   ]
  },
  {
   "cell_type": "markdown",
   "id": "12bdb008-24b4-41e5-ba6a-bc6650b42125",
   "metadata": {
    "jp-MarkdownHeadingCollapsed": true
   },
   "source": [
    "### Chargement des données"
   ]
  },
  {
   "cell_type": "code",
   "execution_count": null,
   "id": "9404ef84-5350-484b-883a-7438443d5ca9",
   "metadata": {},
   "outputs": [],
   "source": [
    "df = pd.read_parquet(PATHS.processed_data / \"df_img_features_pixels.parquet\")\n",
    "data_sets = pd.read_parquet(PATHS.metadata / \"df_data_sets.parquet\")\n",
    "labels = pd.read_parquet(PATHS.metadata / \"df_encoded_labels.parquet\")"
   ]
  },
  {
   "cell_type": "code",
   "execution_count": null,
   "id": "077f40f2-1d93-45fa-afec-826fcef72c5d",
   "metadata": {},
   "outputs": [],
   "source": [
    "# desactiver pour travailler sur un échantillon\n",
    "sample = pd.read_parquet(PATHS.samples / 'df_documents_sample_10k_1.parquet')\n",
    "df = sample.join(df)\n",
    "data_sets = sample.join(data_sets)\n",
    "labels = sample.join(labels)"
   ]
  },
  {
   "cell_type": "code",
   "execution_count": null,
   "id": "dfcedb37-5af3-4d71-afb8-a1be7682e5fd",
   "metadata": {},
   "outputs": [],
   "source": [
    "#features = df.columns\n",
    "labels = labels.label # DF -> Serie\n",
    "\n",
    "X_train = df[data_sets.data_set == \"train\"]\n",
    "y_train = labels[data_sets.data_set == \"train\"]\n",
    "\n",
    "X_val = df[data_sets.data_set == \"val\"]\n",
    "y_val = labels[data_sets.data_set == \"val\"]\n",
    "\n",
    "X_test = df[data_sets.data_set == \"test\"]\n",
    "y_test = labels[data_sets.data_set == \"test\"]\n",
    "\n",
    "# On libère de la mémoire\n",
    "del df, labels, data_sets"
   ]
  },
  {
   "cell_type": "markdown",
   "id": "a43480f5-1f68-4653-bdf5-56e149ba88fe",
   "metadata": {
    "jp-MarkdownHeadingCollapsed": true
   },
   "source": [
    "### Preprocessing"
   ]
  },
  {
   "cell_type": "code",
   "execution_count": null,
   "id": "b54248ba-a27f-46bd-9a0d-e9d3c1afc609",
   "metadata": {},
   "outputs": [],
   "source": [
    "# Liste des colonnes à normaliser\n",
    "cols_to_normalize = ['top_marge', 'bottom_marge', 'left_marge',\n",
    "       'right_marge', 'nb_lignes', 'nb_colonnes', 'sharpness', 'noise',\n",
    "       'ratio_b', 'ratio_n', 'entropy','width']\n",
    "\n",
    "scaler = RobustScaler()\n",
    "\n",
    "# Fit sur le train\n",
    "X_train[cols_to_normalize] = scaler.fit_transform(X_train[cols_to_normalize])\n",
    "\n",
    "# Transform val et test\n",
    "X_val[cols_to_normalize] = scaler.transform(X_val[cols_to_normalize])\n",
    "X_test[cols_to_normalize] = scaler.transform(X_test[cols_to_normalize])"
   ]
  },
  {
   "cell_type": "raw",
   "id": "0e943701-427d-4e13-abb9-79a5d826ba7c",
   "metadata": {},
   "source": [
    "pca = PCA()\n",
    "#on va regarder combien il faut garder de dimensions pour ne pas perdre trop d'information. \n",
    "coord_pca = pd.DataFrame(data = pca.fit_transform(X_train), \n",
    "                         columns =[f'PC{i+1}' for i in range (len(X_train))])\n",
    "CL = pd.DataFrame(data = pca.components_,\n",
    "                  columns = X_train.columns,\n",
    "                  index = coord_pca.columns)\n",
    "var = pd.DataFrame(data = pca.explained_variance_ratio_,\n",
    "                  index = coord_pca.columns)\n",
    "\n",
    "plt.figure(figsize=(8, 5))\n",
    "plt.plot(np.cumsum(pca.explained_variance_ratio_), marker='o', ms= 2)\n",
    "plt.axhline(y = 0.9, color ='r', linestyle = '--')\n",
    "plt.xlabel(\"Nombre de composantes\")\n",
    "plt.ylabel(\"Variance expliquée cumulée\")\n",
    "plt.title(\"Variance expliquée\")\n",
    "plt.grid(True)\n",
    "plt.show()"
   ]
  },
  {
   "cell_type": "code",
   "execution_count": null,
   "id": "8ee1605d-7798-4c71-93e8-2d692ef482f6",
   "metadata": {},
   "outputs": [],
   "source": [
    "X_train_pca = pipeline.transform(X_train)\n",
    "X_val_pca = pipeline.transform(X_val)\n",
    "X_test_pca = pipeline.transform(X_test)"
   ]
  },
  {
   "cell_type": "markdown",
   "id": "43832a34-828f-4e28-a039-3928af72eb10",
   "metadata": {
    "jp-MarkdownHeadingCollapsed": true
   },
   "source": [
    "### LGBM"
   ]
  },
  {
   "cell_type": "code",
   "execution_count": null,
   "id": "f43cd672-b39a-45c7-a6a4-d322ec51c667",
   "metadata": {},
   "outputs": [],
   "source": [
    "start_time = time.time()\n",
    "\n",
    "# 1. Définir l’espace de recherche\n",
    "search_spaces = {\n",
    "    'num_leaves': Integer(20, 150),\n",
    "    'max_depth': Integer(3, 15),\n",
    "    'learning_rate': Real(0.01, 0.3, 'log-uniform'),\n",
    "    'n_estimators': Integer(50, 500),\n",
    "    'min_child_samples': Integer(10, 100),\n",
    "    'subsample': Real(0.5, 1.0),\n",
    "    'colsample_bytree': Real(0.5, 1.0),\n",
    "    'reg_alpha': Real(1e-8, 10.0, 'log-uniform'),\n",
    "    'reg_lambda': Real(1e-8, 10.0, 'log-uniform')\n",
    "}\n",
    "\n",
    "# 2. Définir la validation croisée\n",
    "cv = StratifiedKFold(n_splits=3, shuffle=True, random_state=42)\n",
    "\n",
    "# 3. Définir le classifieur LightGBM\n",
    "clf = LGBMClassifier(random_state=25, n_jobs=-1)\n",
    "\n",
    "# 4. Configurer BayesSearchCV\n",
    "opt = BayesSearchCV(\n",
    "    estimator=clf,\n",
    "    search_spaces=search_spaces,\n",
    "    n_iter=20,  #nombre de combinaisons qui seront testées\n",
    "    cv=cv,\n",
    "    scoring='f1_weighted',  # tu peux aussi tester avec 'balanced_accuracy'\n",
    "    verbose=2,\n",
    "    n_jobs=-1,\n",
    "    random_state=96,\n",
    ")\n",
    "\n",
    "# 5. Entraîner l’optimiseur\n",
    "opt.fit(X_train_pca, y_train)\n",
    "\n",
    "# 6. Afficher les meilleurs paramètres\n",
    "print(\"Meilleurs hyperparamètres :\")\n",
    "print(opt.best_params_)\n",
    "print(f\" Meilleur score (f1_weighted, cross-val) : {opt.best_score_:.4f}\")\n",
    "\n",
    "# 7. Prédire avec le meilleur modèle\n",
    "y_pred = opt.predict(X_test_pca)\n",
    "\n",
    "# 8. Rapport de classification\n",
    "print(\"\\n Rapport de classification :\")\n",
    "print(classification_report(y_test, y_pred))\n",
    "\n",
    "# 9. Matrice de confusion\n",
    "cm = confusion_matrix(y_test, y_pred)\n",
    "plt.figure(figsize=(10, 8))\n",
    "sns.heatmap(cm, annot=True, fmt='d', cmap='Blues')\n",
    "plt.title(\"Matrice de confusion\")\n",
    "plt.xlabel(\"Classe prédite\")\n",
    "plt.ylabel(\"Classe réelle\")\n",
    "plt.show()\n",
    "\n",
    "# 10. (optionnel) DataFrame des scores\n",
    "report_df = pd.DataFrame(classification_report(y_test, y_pred, output_dict=True)).transpose()\n",
    "print(\"\\n Rapport sous forme de DataFrame :\")\n",
    "print(report_df.head(16))  # Affiche les 16 classes\n",
    "print('')\n",
    "print('###############################')\n",
    "end_time = time.time()\n",
    "elapsed = end_time - start_time\n",
    "print(f\" Temps d'exécution total : {elapsed / 60:.2f} minutes ({elapsed:.1f} secondes)\")"
   ]
  },
  {
   "cell_type": "code",
   "execution_count": null,
   "id": "b3184ffa-9068-46fe-96f6-e3ebaff229b7",
   "metadata": {},
   "outputs": [],
   "source": [
    "# on lance sur le set de validation : \n",
    "best_params = opt.best_params_\n",
    "X_trainval = np.concatenate([X_train_pca, X_test_pca])\n",
    "y_trainval = np.concatenate([y_train, y_test])\n",
    "\n",
    "final_model = LGBMClassifier(**best_params, random_state=91, n_jobs=-1)\n",
    "final_model.fit(X_trainval, y_trainval)\n",
    "\n"
   ]
  },
  {
   "cell_type": "code",
   "execution_count": null,
   "id": "7c5f4706-6346-4f0a-8773-9cf27532169e",
   "metadata": {},
   "outputs": [],
   "source": [
    "y_val_pred = final_model.predict(X_val_pca)\n",
    "\n",
    "\n",
    "print(\"Évaluation sur le set de validation :\")\n",
    "print(classification_report(y_val, y_val_pred))\n",
    "\n",
    "# Matrice de confusion\n",
    "cm_val = confusion_matrix(y_val, y_val_pred)\n",
    "plt.figure(figsize=(10, 8))\n",
    "sns.heatmap(cm_val, annot=True, fmt='d', cmap='Oranges')\n",
    "plt.title(\"Matrice de confusion - Validation\")\n",
    "plt.xlabel(\"Classe prédite\")\n",
    "plt.ylabel(\"Classe réelle\")\n",
    "plt.show()"
   ]
  },
  {
   "cell_type": "markdown",
   "id": "1cd53879-ad23-4c6e-a34b-11e518bac626",
   "metadata": {
    "jp-MarkdownHeadingCollapsed": true
   },
   "source": [
    "### XGB Classifier"
   ]
  },
  {
   "cell_type": "code",
   "execution_count": null,
   "id": "305db6d9-45c7-4926-9cb2-75426c50b36c",
   "metadata": {},
   "outputs": [],
   "source": [
    "start_time = time.time()\n",
    "\n",
    "# 1. Espace de recherche pour XGBoost\n",
    "search_spaces = {\n",
    "    'n_estimators': Integer(50, 500),\n",
    "    'max_depth': Integer(3, 15),\n",
    "    'learning_rate': Real(0.01, 0.3, 'log-uniform'),\n",
    "    'subsample': Real(0.5, 1.0),\n",
    "    'colsample_bytree': Real(0.5, 1.0),\n",
    "    'gamma': Real(0, 5.0),  # min split loss\n",
    "    'reg_alpha': Real(1e-8, 10.0, 'log-uniform'),\n",
    "    'reg_lambda': Real(1e-8, 10.0, 'log-uniform')\n",
    "}\n",
    "\n",
    "# 2. Cross-validation\n",
    "cv = StratifiedKFold(n_splits=3, shuffle=True, random_state=93)\n",
    "\n",
    "# 3. XGBClassifier\n",
    "clf = XGBClassifier(\n",
    "    objective='multi:softmax',  # ou 'multi:softprob' si tu veux des proba\n",
    "    num_class=16,\n",
    "    use_label_encoder=False,\n",
    "    eval_metric='mlogloss',\n",
    "    n_jobs=-1,\n",
    "    random_state=21\n",
    ")\n",
    "\n",
    "# 4. BayesSearchCV\n",
    "opt = BayesSearchCV(\n",
    "    estimator=clf,\n",
    "    search_spaces=search_spaces,\n",
    "    n_iter=20,\n",
    "    cv=cv,\n",
    "    scoring='f1_weighted',\n",
    "    verbose=2,\n",
    "    n_jobs=-1,\n",
    "    random_state=56\n",
    ")\n",
    "\n",
    "# 5. Entraînement\n",
    "opt.fit(X_train_pca, y_train)\n",
    "\n",
    "# 6. Meilleurs hyperparamètres\n",
    "print(\"Meilleurs hyperparamètres :\")\n",
    "print(opt.best_params_)\n",
    "print(f\" Meilleur score (f1_weighted, cross-val) : {opt.best_score_:.4f}\")\n",
    "\n",
    "# 7. Prédictions\n",
    "y_pred = opt.predict(X_test_pca)\n",
    "\n",
    "# 8. Rapport\n",
    "print(\"\\n Rapport de classification :\")\n",
    "print(classification_report(y_test, y_pred))\n",
    "\n",
    "# 9. Matrice de confusion\n",
    "cm = confusion_matrix(y_test, y_pred)\n",
    "plt.figure(figsize=(10, 8))\n",
    "sns.heatmap(cm, annot=True, fmt='d', cmap='Blues')\n",
    "plt.title(\"Matrice de confusion - XGBoost\")\n",
    "plt.xlabel(\"Classe prédite\")\n",
    "plt.ylabel(\"Classe réelle\")\n",
    "plt.show()\n",
    "\n",
    "# 10. DataFrame des scores\n",
    "report_df = pd.DataFrame(classification_report(y_test, y_pred, output_dict=True)).transpose()\n",
    "print(\"\\n Rapport sous forme de DataFrame :\")\n",
    "print(report_df.head(16))\n",
    "\n",
    "print('')\n",
    "print('###############################')\n",
    "end_time = time.time()\n",
    "elapsed = end_time - start_time\n",
    "print(f\" Temps d'exécution total : {elapsed / 60:.2f} minutes ({elapsed:.1f} secondes)\")"
   ]
  },
  {
   "cell_type": "code",
   "execution_count": null,
   "id": "c65b64f3-a0f1-4541-9982-8d5cb05744a3",
   "metadata": {},
   "outputs": [],
   "source": [
    "# on lance sur le set de validation : \n",
    "best_params_1 = opt.best_params_\n",
    "X_trainval = np.concatenate([X_train_pca, X_test_pca])\n",
    "y_trainval = np.concatenate([y_train, y_test])\n",
    "\n",
    "final_model_1 = XGBClassifier(**best_params_1, random_state=91, n_jobs=-1)\n",
    "final_model_1.fit(X_trainval, y_trainval)\n",
    "\n",
    "y_val_pred_1 = final_model_1.predict(X_val_pca)\n",
    "\n",
    "\n",
    "print(\"Évaluation sur le set de validation :\")\n",
    "print(classification_report(y_val, y_val_pred_1))\n",
    "\n",
    "# Matrice de confusion\n",
    "cm_val_1 = confusion_matrix(y_val, y_val_pred_1)\n",
    "plt.figure(figsize=(10, 8))\n",
    "sns.heatmap(cm_val_1, annot=True, fmt='d', cmap='Oranges')\n",
    "plt.title(\"Matrice de confusion XGB- Validation\")\n",
    "plt.xlabel(\"Classe prédite\")\n",
    "plt.ylabel(\"Classe réelle\")\n",
    "plt.show()"
   ]
  },
  {
   "cell_type": "code",
   "execution_count": null,
   "id": "64029b25-1bd3-4691-a1a3-d5ac00e63ba6",
   "metadata": {},
   "outputs": [],
   "source": []
  },
  {
   "cell_type": "markdown",
   "id": "38f7823e-e6e1-4228-9586-412491bbb369",
   "metadata": {
    "jp-MarkdownHeadingCollapsed": true
   },
   "source": [
    "### SGD Classifier"
   ]
  },
  {
   "cell_type": "code",
   "execution_count": null,
   "id": "f8b13c5f-617a-4177-9437-6f7f18b0c488",
   "metadata": {},
   "outputs": [],
   "source": [
    "start_time = time.time()\n",
    "\n",
    "search_spaces = {\n",
    "    'loss': Categorical(['hinge', 'log_loss', 'modified_huber', 'squared_hinge']),\n",
    "    'penalty': Categorical(['l2', 'l1', 'elasticnet']),\n",
    "    'alpha': Real(1e-6, 1e-2, prior='log-uniform'),\n",
    "    'learning_rate': Categorical(['constant', 'optimal', 'invscaling', 'adaptive']),\n",
    "    'eta0': Real(1e-4, 1e-1, prior='log-uniform'),\n",
    "    'max_iter': Integer(1000, 3000),\n",
    "    'tol': Real(1e-5, 1e-2, prior='log-uniform')\n",
    "}\n",
    "\n",
    "cv = StratifiedKFold(n_splits=3, shuffle=True, random_state=93)\n",
    "\n",
    "clf_3 = SGDClassifier(\n",
    "    random_state=21,\n",
    "    n_jobs=-1,\n",
    "    early_stopping=True\n",
    ")\n",
    "\n",
    "opt_3 = BayesSearchCV(\n",
    "    estimator=clf_3,\n",
    "    search_spaces=search_spaces,\n",
    "    n_iter=30,\n",
    "    cv=cv,\n",
    "    scoring='f1_weighted',\n",
    "    verbose=2,\n",
    "    n_jobs=-1,\n",
    "    random_state=56\n",
    ")\n",
    "\n",
    "opt_3.fit(X_train_pca, y_train)\n",
    "\n",
    "print(\"Meilleurs hyperparamètres :\")\n",
    "print(opt_3.best_params_)\n",
    "print(f\" Meilleur score (f1_weighted, cross-val) : {opt_3.best_score_:.4f}\")\n",
    "\n",
    "y_pred_3 = opt_3.predict(X_test_pca)\n",
    "\n",
    "print(\"\\n Rapport de classification :\")\n",
    "print(classification_report(y_test, y_pred_3))\n",
    "\n",
    "cm_3 = confusion_matrix(y_test, y_pred_3)\n",
    "plt.figure(figsize=(10, 8))\n",
    "sns.heatmap(cm_3, annot=True, fmt='d', cmap='Blues')\n",
    "plt.title(\"Matrice de confusion - SGDClassifier\")\n",
    "plt.xlabel(\"Classe prédite\")\n",
    "plt.ylabel(\"Classe réelle\")\n",
    "plt.show()\n",
    "\n",
    "report_df = pd.DataFrame(classification_report(y_test, y_pred_3, output_dict=True)).transpose()\n",
    "print(\"\\n Rapport sous forme de DataFrame :\")\n",
    "print(report_df.head(16))\n",
    "\n",
    "end_time = time.time()\n",
    "elapsed = end_time - start_time\n",
    "print(f\" Temps d'exécution total : {elapsed / 60:.2f} minutes ({elapsed:.1f} secondes)\")"
   ]
  },
  {
   "cell_type": "code",
   "execution_count": null,
   "id": "c09329a9-e1ca-4e52-8937-f6b1a83692b5",
   "metadata": {},
   "outputs": [],
   "source": [
    "# on lance sur le set de validation : \n",
    "best_params_3 = opt_3.best_params_\n",
    "X_trainval = np.concatenate([X_train_pca, X_test_pca])\n",
    "y_trainval = np.concatenate([y_train, y_test])\n",
    "\n",
    "final_model_3 = SGDClassifier(**best_params_3, random_state=35, n_jobs=-1)\n",
    "final_model_3.fit(X_trainval, y_trainval)\n",
    "\n",
    "y_val_pred_3 = final_model_3.predict(X_val_pca)\n",
    "\n",
    "\n",
    "print(\"Évaluation sur le set de validation :\")\n",
    "print(classification_report(y_val, y_val_pred_3))\n",
    "\n",
    "# Matrice de confusion\n",
    "cm_val_3 = confusion_matrix(y_val, y_val_pred_3)\n",
    "plt.figure(figsize=(10, 8))\n",
    "sns.heatmap(cm_val_3, annot=True, fmt='d', cmap='Oranges')\n",
    "plt.title(\"Matrice de confusion SGD - Validation\")\n",
    "plt.xlabel(\"Classe prédite\")\n",
    "plt.ylabel(\"Classe réelle\")\n",
    "plt.show()"
   ]
  },
  {
   "cell_type": "code",
   "execution_count": null,
   "id": "3b4312da-acdb-44cc-bff3-7ec1946e8c32",
   "metadata": {},
   "outputs": [],
   "source": [
    "# On a établi que le meilleur était le LGBM"
   ]
  },
  {
   "cell_type": "markdown",
   "id": "d05c3b85-f5b8-4f1d-9a75-3b464a46e17a",
   "metadata": {},
   "source": [
    "# 3. Création du pipeline et des modèles"
   ]
  },
  {
   "cell_type": "markdown",
   "id": "ce013b08-8f67-481a-a882-14941c73f07d",
   "metadata": {},
   "source": [
    "### Chargement des données"
   ]
  },
  {
   "cell_type": "code",
   "execution_count": null,
   "id": "356edb36-d4f7-46e2-9b56-0bd9a77befd4",
   "metadata": {},
   "outputs": [],
   "source": [
    "df = pd.read_parquet(PATHS.processed_data / \"df_img_features_pixels.parquet\")\n",
    "data_sets = pd.read_parquet(PATHS.metadata / \"df_data_sets.parquet\")\n",
    "labels = pd.read_parquet(PATHS.metadata / \"df_encoded_labels.parquet\")"
   ]
  },
  {
   "cell_type": "raw",
   "id": "9bd3a7b4-3c57-406d-b5b6-5389ad2a77a3",
   "metadata": {},
   "source": [
    "# desactiver pour travailler sur un échantillon\n",
    "sample = pd.read_parquet(PATHS.samples / 'df_documents_sample_10k_1.parquet')\n",
    "df = sample.join(df)\n",
    "data_sets = sample.join(data_sets)\n",
    "labels = sample.join(labels)"
   ]
  },
  {
   "cell_type": "code",
   "execution_count": null,
   "id": "d3389755-b008-4d4c-a31f-dd5f8d62293c",
   "metadata": {},
   "outputs": [],
   "source": [
    "#features = df.columns\n",
    "labels = labels.label # DF -> Serie\n",
    "\n",
    "X_train = df[data_sets.data_set == \"train\"]\n",
    "y_train = labels[data_sets.data_set == \"train\"]\n",
    "\n",
    "X_val = df[data_sets.data_set == \"val\"]\n",
    "y_val = labels[data_sets.data_set == \"val\"]\n",
    "\n",
    "X_test = df[data_sets.data_set == \"test\"]\n",
    "y_test = labels[data_sets.data_set == \"test\"]\n",
    "\n",
    "# On libère de la mémoire\n",
    "del df, labels, data_sets"
   ]
  },
  {
   "cell_type": "markdown",
   "id": "bae4ed13-4a71-4ff7-a649-1548baa42db0",
   "metadata": {},
   "source": [
    "### Preprocessing"
   ]
  },
  {
   "cell_type": "code",
   "execution_count": null,
   "id": "1d75b954-8630-4010-83ca-d91eaa487a1b",
   "metadata": {},
   "outputs": [],
   "source": [
    "t0 = time.time()\n",
    "cols_to_normalize = ['top_marge', 'bottom_marge', 'left_marge',\n",
    "       'right_marge', 'nb_lignes', 'nb_colonnes', 'sharpness', 'noise',\n",
    "       'ratio_b', 'ratio_n', 'entropy','width']\n",
    "\n",
    "scaler = ColumnTransformer(\n",
    "    transformers=[\n",
    "        (\"partial_scaling\", StandardScaler(), cols_to_normalize)\n",
    "    ],\n",
    "    remainder=\"passthrough\"\n",
    ")\n",
    "\n",
    "pipeline = Pipeline(steps=[\n",
    "    (\"scaling\", scaler),\n",
    "    (\"pca\", PCA(n_components=2000))\n",
    "])\n",
    "pipeline.fit(X_train)\n",
    "print(f\"Fit réalisé en {time.time()-t0:.0f} secondes\")"
   ]
  },
  {
   "cell_type": "code",
   "execution_count": null,
   "id": "cc3570bd-cacc-47f0-b219-6551bcd0673a",
   "metadata": {},
   "outputs": [],
   "source": [
    "# Sauvegarde du pipeline\n",
    "joblib.dump(pipeline, PATHS.models / \"img_ml_pipeline.joblib\")"
   ]
  },
  {
   "cell_type": "raw",
   "id": "f023eb52-1937-4e6d-abc0-c24e48f3534f",
   "metadata": {},
   "source": [
    "# a utiliser si le fit a deja ete fait\n",
    "pipeline = joblib.load(PATHS.models / \"img_ml_pipeline.joblib\")"
   ]
  },
  {
   "cell_type": "code",
   "execution_count": null,
   "id": "fef1f655-f5b6-4e75-a4e9-e0e79764c008",
   "metadata": {},
   "outputs": [],
   "source": [
    "X_train_pca = pipeline.transform(X_train)\n",
    "X_val_pca = pipeline.transform(X_val)\n",
    "X_test_pca = pipeline.transform(X_test)"
   ]
  },
  {
   "cell_type": "code",
   "execution_count": null,
   "id": "359f5bd5-d3bd-43a0-8f28-37005b07847a",
   "metadata": {},
   "outputs": [],
   "source": [
    "# On libère de la mémoire\n",
    "del X_train, X_val, X_test"
   ]
  },
  {
   "cell_type": "markdown",
   "id": "30e8ea58-bdd8-4594-ae8b-78a2234c57aa",
   "metadata": {
    "jp-MarkdownHeadingCollapsed": true
   },
   "source": [
    "### LGBM"
   ]
  },
  {
   "cell_type": "code",
   "execution_count": null,
   "id": "f1558917-d6bc-4c4d-ac70-28c3ebfd470b",
   "metadata": {},
   "outputs": [],
   "source": [
    "start_time = time.time()\n",
    "clf = LGBMClassifier(\n",
    "    num_leaves = 30,\n",
    "    max_depth = 15,\n",
    "    learning_rate = 0.029216387145600653,\n",
    "    n_estimators = 500,\n",
    "    min_child_samples = 69,\n",
    "    subsample = 0.654130102375878,\n",
    "    colsample_bytree = 0.5802168967298673,\n",
    "    reg_alpha = 1.3883805031132697e-08,\n",
    "    reg_lambda = 0.00016690235239007222,\n",
    "    random_state=25,\n",
    "    n_jobs=-1\n",
    ")\n",
    "clf.fit(X_train_pca, y_train)\n",
    "end_time = time.time()\n",
    "elapsed = end_time - start_time\n",
    "print(f\" Temps d'exécution total : {elapsed / 60:.2f} minutes ({elapsed:.1f} secondes)\")"
   ]
  },
  {
   "cell_type": "code",
   "execution_count": null,
   "id": "e21d5f02-a843-4a07-95b1-644411766a1f",
   "metadata": {},
   "outputs": [],
   "source": [
    "joblib.dump(clf, PATHS.models / \"img_lgbm.joblib\")"
   ]
  },
  {
   "cell_type": "code",
   "execution_count": null,
   "id": "3b194b7f-13ad-4878-a45d-d2d1e71c75df",
   "metadata": {},
   "outputs": [],
   "source": [
    "y_pred = clf.predict(X_test_pca)\n",
    "\n",
    "print(\"\\n Rapport de classification :\")\n",
    "print(classification_report(y_test, y_pred))\n",
    "\n",
    "cm = confusion_matrix(y_test, y_pred)\n",
    "plt.figure(figsize=(10, 8))\n",
    "sns.heatmap(cm, annot=True, fmt='d', cmap='Blues')\n",
    "plt.title(\"Matrice de confusion\")\n",
    "plt.xlabel(\"Classe prédite\")\n",
    "plt.ylabel(\"Classe réelle\")\n",
    "plt.show()"
   ]
  },
  {
   "cell_type": "markdown",
   "id": "5c9ac080-dd6f-445b-b6f9-d954fc35085b",
   "metadata": {
    "jp-MarkdownHeadingCollapsed": true
   },
   "source": [
    "### XGB Classifier"
   ]
  },
  {
   "cell_type": "code",
   "execution_count": null,
   "id": "4d580450-b5a2-4876-92b4-142d8092514c",
   "metadata": {},
   "outputs": [],
   "source": [
    "start_time = time.time()\n",
    "\n",
    "clf = XGBClassifier(\n",
    "    n_estimators = 350,\n",
    "    max_depth = 10,\n",
    "    learning_rate = 0.03190583920977902,\n",
    "    gamma = 0.0,\n",
    "    subsample = 0.7400533807082111,\n",
    "    colsample_bytree = 0.7755797682013672,\n",
    "    reg_alpha = 2.2536648641150143e-05,\n",
    "    reg_lambda = 1.3280200367043574e-05,\n",
    "    objective='multi:softmax',  # 'multi:softprob' pour avoir des proba\n",
    "    num_class=16,\n",
    "    use_label_encoder=False,\n",
    "    eval_metric='mlogloss',\n",
    "    n_jobs=-1,\n",
    "    random_state=21\n",
    ")\n",
    "\n",
    "clf.fit(X_train_pca, y_train)\n",
    "end_time = time.time()\n",
    "elapsed = end_time - start_time\n",
    "print(f\" Temps d'exécution total : {elapsed / 60:.2f} minutes ({elapsed:.1f} secondes)\")"
   ]
  },
  {
   "cell_type": "code",
   "execution_count": null,
   "id": "e267472b-a33d-4a60-a8c6-ba685c6eb0a3",
   "metadata": {},
   "outputs": [],
   "source": [
    "joblib.dump(clf, PATHS.models / \"img_xgboost.joblib\")"
   ]
  },
  {
   "cell_type": "code",
   "execution_count": null,
   "id": "e14b4731-ddca-45a7-a126-74f409e5801b",
   "metadata": {},
   "outputs": [],
   "source": [
    "y_pred = clf.predict(X_test_pca)\n",
    "\n",
    "print(\"\\n Rapport de classification :\")\n",
    "print(classification_report(y_test, y_pred))\n",
    "\n",
    "cm = confusion_matrix(y_test, y_pred)\n",
    "plt.figure(figsize=(10, 8))\n",
    "sns.heatmap(cm, annot=True, fmt='d', cmap='Blues')\n",
    "plt.title(\"Matrice de confusion\")\n",
    "plt.xlabel(\"Classe prédite\")\n",
    "plt.ylabel(\"Classe réelle\")\n",
    "plt.show()"
   ]
  },
  {
   "cell_type": "markdown",
   "id": "ebfbdfef-9652-45a9-8c4e-3d8ae8efc714",
   "metadata": {},
   "source": [
    "### SGD Classifier"
   ]
  },
  {
   "cell_type": "code",
   "execution_count": null,
   "id": "45181fea-d2e3-46be-b59e-8047cfd0fd7c",
   "metadata": {},
   "outputs": [],
   "source": [
    "start_time = time.time()\n",
    "\n",
    "\n",
    "clf = SGDClassifier(\n",
    "    # exception_aux best_params pour permettre la mise dans un ModelWrapper\n",
    "    # avec une fonction predict_proba (squared_hinge ne permet pas cela)\n",
    "    # loss = 'squared_hinge',\n",
    "    loss = 'log_loss', \n",
    "    penalty = 'l1',\n",
    "    alpha = 0.0069955313416296735,\n",
    "    max_iter = 1102,\n",
    "    tol = 0.00032010771743838396,\n",
    "    n_jobs=-1,\n",
    "    random_state=21,\n",
    "    learning_rate = 'adaptive',\n",
    "    eta0 = 0.04760145917148742,\n",
    "    early_stopping=True\n",
    ")\n",
    "clf.fit(X_train_pca, y_train)\n",
    "end_time = time.time()\n",
    "elapsed = end_time - start_time\n",
    "print(f\" Temps d'exécution total : {elapsed / 60:.2f} minutes ({elapsed:.1f} secondes)\")"
   ]
  },
  {
   "cell_type": "code",
   "execution_count": null,
   "id": "c675b94b-843a-4c43-8feb-84cab22c6f27",
   "metadata": {},
   "outputs": [],
   "source": [
    "joblib.dump(clf, PATHS.models / \"img_sgd.joblib\")"
   ]
  },
  {
   "cell_type": "code",
   "execution_count": null,
   "id": "0751cf01-37fc-465c-acc2-913ebb637581",
   "metadata": {},
   "outputs": [],
   "source": [
    "y_pred = clf.predict(X_test_pca)\n",
    "\n",
    "print(\"\\n Rapport de classification :\")\n",
    "print(classification_report(y_test, y_pred))\n",
    "\n",
    "cm = confusion_matrix(y_test, y_pred)\n",
    "plt.figure(figsize=(10, 8))\n",
    "sns.heatmap(cm, annot=True, fmt='d', cmap='Blues')\n",
    "plt.title(\"Matrice de confusion\")\n",
    "plt.xlabel(\"Classe prédite\")\n",
    "plt.ylabel(\"Classe réelle\")\n",
    "plt.show()"
   ]
  },
  {
   "cell_type": "code",
   "execution_count": null,
   "id": "c47fc81c-4ada-4a93-8040-0abcf8403d20",
   "metadata": {},
   "outputs": [],
   "source": [
    "# On a établi que le meilleur était le LGBM"
   ]
  }
 ],
 "metadata": {
  "kernelspec": {
   "display_name": "Python 3 (ipykernel)",
   "language": "python",
   "name": "python3"
  },
  "language_info": {
   "codemirror_mode": {
    "name": "ipython",
    "version": 3
   },
   "file_extension": ".py",
   "mimetype": "text/x-python",
   "name": "python",
   "nbconvert_exporter": "python",
   "pygments_lexer": "ipython3",
   "version": "3.12.10"
  }
 },
 "nbformat": 4,
 "nbformat_minor": 5
}
