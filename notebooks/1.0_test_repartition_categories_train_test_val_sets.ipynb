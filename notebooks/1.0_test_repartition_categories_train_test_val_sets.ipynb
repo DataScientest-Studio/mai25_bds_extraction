{
 "cells": [
  {
   "cell_type": "code",
   "execution_count": null,
   "id": "13a0afcd",
   "metadata": {},
   "outputs": [],
   "source": [
    "import pandas as pd\n",
    "import numpy as np\n",
    "import plotly.graph_objects as go\n",
    "import os\n",
    "import sys\n",
    "from pathlib import Path\n",
    "\n",
    "project_root = Path().resolve().parent\n",
    "if not project_root in [Path(p).resolve() for p in sys.path]:\n",
    "    sys.path.append(str(project_root))\n",
    "from src import PATHS"
   ]
  },
  {
   "cell_type": "code",
   "execution_count": null,
   "id": "2272c17c-b9fa-4d09-ae2a-92b9e1deefd1",
   "metadata": {},
   "outputs": [],
   "source": [
    "df_train  = pd.read_csv(os.path.join(PATHS.raw_data, 'labels', 'train.txt'), sep=\" \", header=None)\n",
    "df_train.columns=['path', 'label']\n",
    "df_train['set']=['train' for i in range (len(df_train))]\n",
    "\n",
    "df_test  = pd.read_csv(os.path.join(PATHS.raw_data, 'labels', 'test.txt'), sep=\" \", header=None)\n",
    "df_test.columns=['path', 'label']\n",
    "df_test['set']=['test' for i in range (len(df_test))]\n",
    "\n",
    "df_val  = pd.read_csv(os.path.join(PATHS.raw_data, 'labels', 'val.txt'), sep=\" \", header=None)\n",
    "df_val.columns=['path', 'label']\n",
    "df_val['set']=['val' for i in range (len(df_val))]\n",
    "\n",
    "#df_sets = pd.concat([df_train, df_test, df_val],ignore_index=True)\n",
    "#df_sets.to_parquet(os.path.join(PATHS.metadata, \"df_path_label_set.parquet\"), index=False)"
   ]
  },
  {
   "cell_type": "code",
   "execution_count": null,
   "id": "e60510d1",
   "metadata": {},
   "outputs": [],
   "source": [
    "compte=pd.concat([pd.DataFrame(df_train['cat'].value_counts()).sort_index(),\n",
    "                  pd.DataFrame(df_test['cat'].value_counts()).sort_index(),\n",
    "                  pd.DataFrame(df_val['cat'].value_counts()).sort_index()], axis=1)\n",
    "compte.columns=['train', 'test', 'val']\n",
    "display(compte)\n",
    "\n",
    "\n",
    "\n",
    "fig = go.Figure(data=[\n",
    "    go.Bar(name='Train', x=compte.index, y=compte['train'], marker_color='rgb(87, 24, 69)'),\n",
    "    go.Bar(name='Test', x=compte.index, y=compte['test'], marker_color='rgb(199, 0, 57)'),\n",
    "    go.Bar(name='Validation', x=compte.index, y=compte['val'], marker_color='rgb(255,87,51)'),\n",
    "])\n",
    "# Change the bar mode\n",
    "fig.update_layout(\n",
    "    barmode='stack', \n",
    "    title=dict(text=\"Répartition des données dans les 3 subsets\"),\n",
    "    xaxis=dict(title=dict(text=\"Catégories\"), \n",
    "               tickmode='linear',  # Mode linéaire\n",
    "               dtick=1             # Un tick toutes les 1 unité\n",
    "              ),\n",
    "    yaxis=dict(title=dict(text=\"Nombre de documents\")),\n",
    "    legend=dict(title=dict(text=\"Subset\"))\n",
    ")\n",
    "fig.show()"
   ]
  },
  {
   "cell_type": "code",
   "execution_count": null,
   "id": "3319cf56-540d-46b7-8f2a-6ada405a3ae3",
   "metadata": {},
   "outputs": [],
   "source": []
  }
 ],
 "metadata": {
  "kernelspec": {
   "display_name": "Python 3 (ipykernel)",
   "language": "python",
   "name": "python3"
  },
  "language_info": {
   "codemirror_mode": {
    "name": "ipython",
    "version": 3
   },
   "file_extension": ".py",
   "mimetype": "text/x-python",
   "name": "python",
   "nbconvert_exporter": "python",
   "pygments_lexer": "ipython3",
   "version": "3.12.11"
  }
 },
 "nbformat": 4,
 "nbformat_minor": 5
}
