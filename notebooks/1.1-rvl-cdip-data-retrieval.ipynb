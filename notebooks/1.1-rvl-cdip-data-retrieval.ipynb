{
 "cells": [
  {
   "cell_type": "markdown",
   "id": "cf06b663-d258-478e-9397-7332fbcb60ea",
   "metadata": {},
   "source": [
    "# Extraction des données RVL-CDIP"
   ]
  },
  {
   "cell_type": "markdown",
   "id": "312083fe-fb50-4e4e-a9cf-2bc415ceca31",
   "metadata": {},
   "source": [
    "## README\n",
    "Ce notebook permet de télécharger sur le site de huggingface les images de la BDD RVL-CDIP.\n",
    "\n",
    "Il réalise tout d'abord certaines opérations préalables (chapitre 1), dont la configuration des répertoires du projet\n",
    "\n",
    "A l'issue (chapitre 2), il télécharge l'ensemble des documents de la BDD RVL-CDIP puis décompresse les fichiers téléchargés.\n",
    "\n",
    "Remarque:\n",
    "- **[IMPORTANT] L'utilisation de ce script écrira environ 50 Go de données (principalement des fichiers tif) sur le disque dur.**.\n"
   ]
  },
  {
   "cell_type": "markdown",
   "id": "a3320b29-b1f3-4ff5-b93a-6909b3d89062",
   "metadata": {},
   "source": [
    "## 1. Préparation"
   ]
  },
  {
   "cell_type": "code",
   "execution_count": null,
   "id": "84eee646-804f-4c97-891d-0341d5437009",
   "metadata": {},
   "outputs": [],
   "source": [
    "import sys\n",
    "from pathlib import Path\n",
    "\n",
    "project_root = Path().resolve().parent\n",
    "if not project_root in [Path(p).resolve() for p in sys.path]:\n",
    "    sys.path.append(str(project_root))\n",
    "\n",
    "from src import PATHS"
   ]
  },
  {
   "cell_type": "code",
   "execution_count": null,
   "id": "27a80f19-05e8-400a-9cfa-78c06ae1cbb0",
   "metadata": {},
   "outputs": [],
   "source": [
    "import os\n",
    "import time\n",
    "import tarfile\n",
    "import requests\n",
    "from tqdm import tqdm"
   ]
  },
  {
   "cell_type": "markdown",
   "id": "732f3dc1-5396-4475-8468-63e3f37042c0",
   "metadata": {},
   "source": [
    "## 2. Téléchargement des fichiers RVL-CDIP"
   ]
  },
  {
   "cell_type": "markdown",
   "id": "b915e4ad-a4b2-4cf4-b50b-339ac9e81d26",
   "metadata": {},
   "source": [
    "### 2.1. Fichiers images"
   ]
  },
  {
   "cell_type": "code",
   "execution_count": null,
   "id": "9e7f6444-b6ef-4100-9113-7e174f7d1d70",
   "metadata": {},
   "outputs": [],
   "source": [
    "# Téléchargement de l'archive\n",
    "url = \"https://huggingface.co/datasets/aharley/rvl_cdip/resolve/main/data/rvl-cdip.tar.gz?download=true\"\n",
    "tar_file_path = PATHS.rvl_cdip / \"rvl-cdip.tar.gz\"\n",
    "\n",
    "# Stream download with progress bar\n",
    "response = requests.get(url, stream=True)\n",
    "total = int(response.headers.get('content-length', 0))\n",
    "block_size = 1024\n",
    "\n",
    "with open(tar_file_path, 'wb') as f, tqdm(\n",
    "    desc=\"Téléchargement RVL-CDIP\",\n",
    "    total=total,\n",
    "    unit='iB',\n",
    "    unit_scale=True,\n",
    "    unit_divisor=1024\n",
    ") as bar:\n",
    "    for data in response.iter_content(block_size):\n",
    "        f.write(data)\n",
    "        bar.update(len(data))"
   ]
  },
  {
   "cell_type": "code",
   "execution_count": null,
   "id": "5e926e45-21a1-4436-b6b1-8f833c9adcfe",
   "metadata": {},
   "outputs": [],
   "source": [
    "# Extraction des images\n",
    "with tarfile.open(tar_file_path, \"r:gz\") as archive:\n",
    "    archive.extractall(path=PATHS.rvl_cdip)"
   ]
  },
  {
   "cell_type": "code",
   "execution_count": null,
   "id": "6425108c-f89e-42ea-863f-97b51b6156ab",
   "metadata": {},
   "outputs": [],
   "source": [
    "# Suppression du fichier archive\n",
    "image_files = list(PATHS.rvl_cdip_images.rglob(\"*.tif\"))\n",
    "if len(image_files) == 400000:\n",
    "    os.remove(tar_file_path)"
   ]
  },
  {
   "cell_type": "markdown",
   "id": "6f8d35c8-254f-47be-bee2-63bd837a82a5",
   "metadata": {},
   "source": [
    "### 2.2 Autres fichiers"
   ]
  },
  {
   "cell_type": "code",
   "execution_count": null,
   "id": "70278c1b-a190-4440-ba8d-2df52314492d",
   "metadata": {},
   "outputs": [],
   "source": [
    "for label_set in [\"train\", \"val\", \"test\"]:\n",
    "    url = f\"https://huggingface.co/datasets/aharley/rvl_cdip/resolve/main/data/{label_set}.txt?download=true\"\n",
    "    response = requests.get(url, stream=True)\n",
    "    with open(PATHS.labels / f\"{label_set}.txt\", \"wb\") as f:\n",
    "        f.write(response.content)\n",
    "        \n",
    "for additional_file in [\"README.md\", \"dataset_infos.json\"]:\n",
    "    url = f\"https://huggingface.co/datasets/aharley/rvl_cdip/resolve/main/{additional_file}?download=true\"\n",
    "    response = requests.get(url, stream=True)\n",
    "    with open(PATHS.rvl_cdip / additional_file), \"wb\") as f:\n",
    "        f.write(response.content)"
   ]
  }
 ],
 "metadata": {
  "kernelspec": {
   "display_name": "Python 3 (ipykernel)",
   "language": "python",
   "name": "python3"
  },
  "language_info": {
   "codemirror_mode": {
    "name": "ipython",
    "version": 3
   },
   "file_extension": ".py",
   "mimetype": "text/x-python",
   "name": "python",
   "nbconvert_exporter": "python",
   "pygments_lexer": "ipython3",
   "version": "3.12.10"
  }
 },
 "nbformat": 4,
 "nbformat_minor": 5
}
