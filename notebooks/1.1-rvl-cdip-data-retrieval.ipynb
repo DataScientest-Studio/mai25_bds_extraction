{
 "cells": [
  {
   "cell_type": "markdown",
   "id": "cf06b663-d258-478e-9397-7332fbcb60ea",
   "metadata": {},
   "source": [
    "# Extraction des données RVL-CDIP"
   ]
  },
  {
   "cell_type": "markdown",
   "id": "312083fe-fb50-4e4e-a9cf-2bc415ceca31",
   "metadata": {},
   "source": [
    "## README\n",
    "Ce notebook permet de télécharger sur le site de huggingface les images de la BDD RVL-CDIP.\n",
    "\n",
    "Il réalise tout d'abord certaines opérations préalables (chapitre 1), dont la définition des variables globales d'exécution (**A METTRE A JOUR LORS D'UNE PREMIERE UTILISATION**)\n",
    "\n",
    "A l'issue (chapitre 2), il télécharge l'ensemble des documents de la BDD RVL-CDIP puis décompresse les fichiers téléchargés.\n",
    "\n",
    "Remarque:\n",
    "- **[IMPORTANT] L'utilisation de ce script écrira environ 50 Go de données (principalement des fichiers tif) sur le disque dur.**.\n"
   ]
  },
  {
   "cell_type": "markdown",
   "id": "a3320b29-b1f3-4ff5-b93a-6909b3d89062",
   "metadata": {},
   "source": [
    "## 1. Préparation"
   ]
  },
  {
   "cell_type": "code",
   "execution_count": null,
   "id": "27a80f19-05e8-400a-9cfa-78c06ae1cbb0",
   "metadata": {},
   "outputs": [],
   "source": [
    "import os\n",
    "import time\n",
    "import tarfile\n",
    "import requests\n",
    "import numpy as np\n",
    "import pandas as pd\n",
    "from tqdm import tqdm\n",
    "from utils import remove_ds_store_files"
   ]
  },
  {
   "cell_type": "code",
   "execution_count": null,
   "id": "c8fc2081-3618-4bee-ab4e-c7cfd42450e4",
   "metadata": {},
   "outputs": [],
   "source": [
    "project_path = '/Users/ben/Work/mle/ds-project/mai25_bds_extraction/' # à modifier par chacun en fonction de son arborescence\n",
    "\n",
    "data_path = os.path.join(project_path, 'data')\n",
    "raw_data_path = os.path.join(data_path, 'raw')\n",
    "extracted_data_path = os.path.join(data_path, 'extracted')\n",
    "processed_data_path = os.path.join(data_path, 'processed')\n",
    "\n",
    "raw_rvl_cdip_path = os.path.join(raw_data_path, 'RVL-CDIP')\n",
    "rvl_cdip_images_path = os.path.join(raw_rvl_cdip_path, 'images')\n",
    "rvl_cdip_labels_path = os.path.join(raw_rvl_cdip_path, 'labels')\n",
    "\n",
    "iit_cdip_images_path = os.path.join(raw_data_path, 'IIT-CDIP', 'images')\n",
    "iit_cdip_xmls_path = os.path.join(raw_data_path, 'IIT-CDIP', 'xmls')"
   ]
  },
  {
   "cell_type": "code",
   "execution_count": null,
   "id": "f0069ff8-8bf9-4554-b92f-79cc6044a295",
   "metadata": {},
   "outputs": [],
   "source": [
    "os.makedirs(rvl_cdip_images_path, exist_ok=True)\n",
    "os.makedirs(rvl_cdip_labels_path, exist_ok=True)"
   ]
  },
  {
   "cell_type": "markdown",
   "id": "732f3dc1-5396-4475-8468-63e3f37042c0",
   "metadata": {},
   "source": [
    "## 2. Téléchargement des fichiers RVL-CDIP"
   ]
  },
  {
   "cell_type": "markdown",
   "id": "b915e4ad-a4b2-4cf4-b50b-339ac9e81d26",
   "metadata": {},
   "source": [
    "### 2.1. Fichiers images"
   ]
  },
  {
   "cell_type": "code",
   "execution_count": null,
   "id": "9e7f6444-b6ef-4100-9113-7e174f7d1d70",
   "metadata": {},
   "outputs": [],
   "source": [
    "# Téléchargement de l'archive\n",
    "url = \"https://huggingface.co/datasets/aharley/rvl_cdip/resolve/main/data/rvl-cdip.tar.gz?download=true\"\n",
    "tar_file_path = os.path.join(raw_rvl_cdip_path, \"rvl-cdip.tar.gz\")\n",
    "\n",
    "# Stream download with progress bar\n",
    "response = requests.get(url, stream=True)\n",
    "total = int(response.headers.get('content-length', 0))\n",
    "block_size = 1024\n",
    "\n",
    "with open(tar_file_path, 'wb') as f, tqdm(\n",
    "    desc=\"Téléchargement RVL-CDIP\",\n",
    "    total=total,\n",
    "    unit='iB',\n",
    "    unit_scale=True,\n",
    "    unit_divisor=1024\n",
    ") as bar:\n",
    "    for data in response.iter_content(block_size):\n",
    "        f.write(data)\n",
    "        bar.update(len(data))"
   ]
  },
  {
   "cell_type": "code",
   "execution_count": null,
   "id": "5e926e45-21a1-4436-b6b1-8f833c9adcfe",
   "metadata": {},
   "outputs": [],
   "source": [
    "# Extraction des images\n",
    "with tarfile.open(tar_file_path, \"r:gz\") as archive:\n",
    "    archive.extractall(path=raw_rvl_cdip_path)"
   ]
  },
  {
   "cell_type": "code",
   "execution_count": null,
   "id": "6425108c-f89e-42ea-863f-97b51b6156ab",
   "metadata": {},
   "outputs": [],
   "source": [
    "# Suppression du fichier archive\n",
    "from pathlib import Path\n",
    "\n",
    "images_path = Path(rvl_cdip_images_path)\n",
    "image_files = list(images_path.rglob(\"*.tif\"))\n",
    "\n",
    "if len(image_files) == 400000:\n",
    "    os.remove(tar_file_path)"
   ]
  },
  {
   "cell_type": "markdown",
   "id": "6f8d35c8-254f-47be-bee2-63bd837a82a5",
   "metadata": {},
   "source": [
    "### 2.2 Autres fichiers"
   ]
  },
  {
   "cell_type": "code",
   "execution_count": null,
   "id": "70278c1b-a190-4440-ba8d-2df52314492d",
   "metadata": {},
   "outputs": [],
   "source": [
    "for label_set in [\"train\", \"val\", \"test\"]:\n",
    "    url = f\"https://huggingface.co/datasets/aharley/rvl_cdip/resolve/main/data/{label_set}.txt?download=true\"\n",
    "    response = requests.get(url, stream=True)\n",
    "    with open(os.path.join(rvl_cdip_labels_path, f\"{label_set}.txt\"), \"wb\") as f:\n",
    "        f.write(response.content)\n",
    "        \n",
    "for additional_file in [\"README.md\", \"dataset_infos.json\"]:\n",
    "    url = f\"https://huggingface.co/datasets/aharley/rvl_cdip/resolve/main/{additional_file}?download=true\"\n",
    "    response = requests.get(url, stream=True)\n",
    "    with open(os.path.join(raw_rvl_cdip_path, additional_file), \"wb\") as f:\n",
    "        f.write(response.content)"
   ]
  }
 ],
 "metadata": {
  "kernelspec": {
   "display_name": "Python 3 (ipykernel)",
   "language": "python",
   "name": "python3"
  },
  "language_info": {
   "codemirror_mode": {
    "name": "ipython",
    "version": 3
   },
   "file_extension": ".py",
   "mimetype": "text/x-python",
   "name": "python",
   "nbconvert_exporter": "python",
   "pygments_lexer": "ipython3",
   "version": "3.12.10"
  }
 },
 "nbformat": 4,
 "nbformat_minor": 5
}
