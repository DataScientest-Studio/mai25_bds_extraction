{
 "cells": [
  {
   "cell_type": "markdown",
   "id": "a0a84f7f-71ef-49d6-9993-2e18d6f016c6",
   "metadata": {},
   "source": [
    "# Modèles multimodaux autonomes"
   ]
  },
  {
   "cell_type": "markdown",
   "id": "e6abf6b4-8fec-440c-a7f1-33ac254319e2",
   "metadata": {},
   "source": [
    "## README\n",
    "Ce notebook permet la création et l'évaluation de modèles multimodaux autonomes.\n",
    "\n",
    "Il réalise tout d'abord certaines opérations préalables (chapitre 1), dont la définition des variables globales d'exécution"
   ]
  },
  {
   "cell_type": "markdown",
   "id": "d44804c6-78ae-482f-84c6-f6a741e8bd85",
   "metadata": {},
   "source": [
    "## 1. Préparation"
   ]
  },
  {
   "cell_type": "code",
   "execution_count": null,
   "id": "5da9a69b-bef6-4d16-bd29-ed9c8f074f60",
   "metadata": {},
   "outputs": [],
   "source": [
    "import sys\n",
    "from pathlib import Path\n",
    "\n",
    "project_root = Path().resolve().parent\n",
    "if not project_root in [Path(p).resolve() for p in sys.path]:\n",
    "    sys.path.append(str(project_root))\n",
    "\n",
    "from src import PATHS"
   ]
  },
  {
   "cell_type": "code",
   "execution_count": null,
   "id": "b4ec9d71-5eca-472d-84fe-924c40100acf",
   "metadata": {},
   "outputs": [],
   "source": [
    "import os\n",
    "import time\n",
    "import pickle\n",
    "import numpy as np\n",
    "import pandas as pd\n",
    "import seaborn as sns\n",
    "from tqdm import tqdm\n",
    "from matplotlib import pyplot as plt\n",
    "from sklearn.metrics import classification_report, confusion_matrix, accuracy_score\n",
    "\n",
    "from src.models.multimodal import MultiModalVoter, MultiModalClassWeightedVoter, MultiModalLogisticRegressor\n",
    "from src.visualization.visualize import visual_classification_report"
   ]
  },
  {
   "cell_type": "markdown",
   "id": "b8697f72-68e1-4ac8-a304-049643520506",
   "metadata": {},
   "source": [
    "## 2. Chargement des données"
   ]
  },
  {
   "cell_type": "code",
   "execution_count": null,
   "id": "78566542-9924-4aac-9d25-a15d13d65327",
   "metadata": {},
   "outputs": [],
   "source": [
    "text_features = pd.read_parquet(os.path.join(PATHS.processed_data, 'df_txt_ocr1.parquet'))\n",
    "text_features.shape"
   ]
  },
  {
   "cell_type": "code",
   "execution_count": null,
   "id": "f1a5840f-12a5-4c7d-bd31-8e1191c5b151",
   "metadata": {},
   "outputs": [],
   "source": [
    "image_features = pd.read_parquet(os.path.join(PATHS.processed_data, \"df_img_features_flattened.parquet\"))\n",
    "image_features.shape"
   ]
  },
  {
   "cell_type": "code",
   "execution_count": null,
   "id": "be93acf6-dbd8-4c3d-b125-88d78e753be4",
   "metadata": {},
   "outputs": [],
   "source": [
    "features = text_features.join(image_features, how=\"inner\")\n",
    "del image_features, text_features\n",
    "features.shape"
   ]
  },
  {
   "cell_type": "code",
   "execution_count": null,
   "id": "23eb4c85-57b6-40af-ab93-02210642d303",
   "metadata": {},
   "outputs": [],
   "source": [
    "data_sets = pd.read_parquet(os.path.join(PATHS.metadata, \"df_data_sets.parquet\"))\n",
    "labels = pd.read_parquet(os.path.join(PATHS.metadata, \"df_encoded_labels.parquet\"))"
   ]
  },
  {
   "cell_type": "raw",
   "id": "2bd8390c-3906-4d44-9ce7-693d6dccd7cb",
   "metadata": {},
   "source": [
    "## pour ne travailler que sur un échantillon :"
   ]
  },
  {
   "cell_type": "raw",
   "id": "50d52c28-8bcd-4420-bad2-a06332de29bc",
   "metadata": {},
   "source": [
    "sample = pd.read_parquet(os.path.join(PATHS.metadata, 'samples', 'df_documents_sample_4k_3.parquet'))\n",
    "features = features.join(sample, how='inner')\n",
    "features.shape"
   ]
  },
  {
   "cell_type": "code",
   "execution_count": null,
   "id": "d481163a-41ba-4b54-84be-1d04a93cb8a5",
   "metadata": {},
   "outputs": [],
   "source": [
    "# au cas où features soit incomplet\n",
    "data_sets = data_sets.join(features[[]], how=\"inner\")\n",
    "labels = labels.join(features[[]], how=\"inner\")\n",
    "\n",
    "features.shape, data_sets.shape, labels.shape"
   ]
  },
  {
   "cell_type": "code",
   "execution_count": null,
   "id": "6c67ebb5-d49d-43ff-9c8e-808807053786",
   "metadata": {},
   "outputs": [],
   "source": [
    "X_train = features[data_sets.data_set == \"train\"]\n",
    "y_train = labels[data_sets.data_set == \"train\"]\n",
    "\n",
    "X_val = features[data_sets.data_set == \"val\"]\n",
    "y_val = labels[data_sets.data_set == \"val\"]\n",
    "\n",
    "X_test = features[data_sets.data_set == \"test\"]\n",
    "y_test = labels[data_sets.data_set == \"test\"]\n",
    "\n",
    "del features, labels, data_sets"
   ]
  },
  {
   "cell_type": "markdown",
   "id": "5b3a086f-60ba-4464-af69-f643af6b85b8",
   "metadata": {},
   "source": [
    "## 3. Chargement des pipelines"
   ]
  },
  {
   "cell_type": "code",
   "execution_count": null,
   "id": "eaddc94d-2f41-4ed9-8112-c3f40cabe819",
   "metadata": {},
   "outputs": [],
   "source": [
    "available_pipelines = [pipeline for pipeline in  os.listdir(PATHS.pipelines) if pipeline.endswith(\".pkl\")]\n",
    "img_pipelines = [pipeline for pipeline in available_pipelines if pipeline.startswith(\"img\")]\n",
    "txt_pipelines = [pipeline for pipeline in available_pipelines if pipeline.startswith(\"txt\")]\n",
    "print(img_pipelines)\n",
    "print(txt_pipelines)"
   ]
  },
  {
   "cell_type": "markdown",
   "id": "9490c117-ba73-481c-839e-a54275a8b524",
   "metadata": {},
   "source": [
    "## TODO: mettre dans src "
   ]
  },
  {
   "cell_type": "code",
   "execution_count": null,
   "id": "d3425acb-3247-4998-9176-9d11b29c0159",
   "metadata": {},
   "outputs": [],
   "source": [
    "def df_to_serie(df):\n",
    "    assert len(df.columns) == 1\n",
    "    return df[df.columns[0]]"
   ]
  },
  {
   "cell_type": "code",
   "execution_count": null,
   "id": "ebf62b5b-d4bc-449a-ab75-b283f9c5d8bd",
   "metadata": {},
   "outputs": [],
   "source": [
    "with open(os.path.join(PATHS.pipelines, \"img_lgbm.pkl\"), \"rb\") as f:\n",
    "    img_pipeline = pickle.load(f)\n",
    "with open(os.path.join(PATHS.pipelines, \"txt_ml.pkl\"), \"rb\") as f:\n",
    "    txt_pipeline = pickle.load(f)\n"
   ]
  },
  {
   "cell_type": "markdown",
   "id": "a50ae38d-9ba1-4c1f-acfb-660683fc0e33",
   "metadata": {},
   "source": [
    "## 4. Chargement des modèles"
   ]
  },
  {
   "cell_type": "code",
   "execution_count": null,
   "id": "d55f9417-fd58-4f5e-8589-ef22dc65985e",
   "metadata": {},
   "outputs": [],
   "source": [
    "available_models = [model for model in  os.listdir(PATHS.models) if model.endswith(\".pkl\")]\n",
    "img_models = [model for model in available_models if model.startswith(\"img\")]\n",
    "txt_models = [model for model in available_models if model.startswith(\"txt\")]\n",
    "print(img_models)\n",
    "print(txt_models)"
   ]
  },
  {
   "cell_type": "code",
   "execution_count": null,
   "id": "97617655-8c6d-4219-b196-98cbea6daecb",
   "metadata": {},
   "outputs": [],
   "source": [
    "with open(os.path.join(PATHS.models, \"img_lgbm.pkl\"), \"rb\") as f:\n",
    "    img_model = pickle.load(f)\n",
    "with open(os.path.join(PATHS.models, \"txt_logistic_regression.pkl\"), \"rb\") as f:\n",
    "    txt_model = pickle.load(f)"
   ]
  },
  {
   "cell_type": "code",
   "execution_count": null,
   "id": "dfc4cd3d-8c11-4c71-b963-3521de6caec3",
   "metadata": {},
   "outputs": [],
   "source": [
    "img_model, txt_model"
   ]
  },
  {
   "cell_type": "markdown",
   "id": "664020b0-a4d7-447e-a406-f332ab24ffdd",
   "metadata": {},
   "source": [
    "## 5. Regression logistique"
   ]
  },
  {
   "cell_type": "code",
   "execution_count": null,
   "id": "6ac611e8-7941-4ca0-a469-10dcf60ca54e",
   "metadata": {},
   "outputs": [],
   "source": [
    "model = MultiModalLogisticRegressor(img_pipeline, img_model, txt_pipeline, txt_model)\n",
    "model.fit(X_train, y_train)"
   ]
  },
  {
   "cell_type": "code",
   "execution_count": null,
   "id": "ad67c0ac-9daa-4ce6-b6f3-ec43343c7974",
   "metadata": {},
   "outputs": [],
   "source": [
    "visual_classification_report(model, X_test, y_test, \"Logistic Regressor\", compare_with_components=True)"
   ]
  },
  {
   "cell_type": "code",
   "execution_count": null,
   "id": "e86a17cc-8f72-4a47-ba96-80de7a0201f2",
   "metadata": {},
   "outputs": [],
   "source": [
    "model.score(X_test, y_test)"
   ]
  },
  {
   "cell_type": "code",
   "execution_count": null,
   "id": "3e275c07-76b2-4627-bb64-dc2a4e60df9d",
   "metadata": {},
   "outputs": [],
   "source": []
  },
  {
   "cell_type": "markdown",
   "id": "857ae175-e473-4902-bef6-897987f38e39",
   "metadata": {},
   "source": [
    "## 6. Impact de la taille du jeu de données"
   ]
  },
  {
   "cell_type": "code",
   "execution_count": null,
   "id": "8a5154b5-b304-4b4c-9756-388171a0c088",
   "metadata": {},
   "outputs": [],
   "source": [
    "n_docs = X_train.shape[0]\n",
    "scores = []\n",
    "n_documents = []\n",
    "for i in range(10):\n",
    "    print(i, n_docs, '...', end='')\n",
    "    model = MultiModalLogisticRegressor(img_pipeline, img_model, txt_pipeline, txt_model)\n",
    "    print(' created ...', end='')\n",
    "    model.fit(X_train, y_train)\n",
    "    print(' fitted ...', end='')\n",
    "    n_documents.append(n_docs)\n",
    "    scores.append(model.score(X_test, y_test))\n",
    "    print(' evaluated')\n",
    "    n_docs //= 2\n",
    "    X_train = X_train[:n_docs]\n",
    "    y_train = y_train[:n_docs]\n",
    "    X_test = X_test[:n_docs]\n",
    "    y_test = y_test[:n_docs]\n",
    "    "
   ]
  },
  {
   "cell_type": "code",
   "execution_count": null,
   "id": "c0d56065-82eb-4dc1-9637-317177b3f4d8",
   "metadata": {},
   "outputs": [],
   "source": [
    "plt.figure(figsize=(8,8))\n",
    "plt.plot(n_documents, scores)\n",
    "plt.xlabel(\"Nombre de documents\")\n",
    "plt.ylabel(\"Score MMO Logistic Regressor\")\n",
    "plt.title(\"Score obtenu en fonction du volume de données utilisées\");\n",
    "\n",
    "           "
   ]
  },
  {
   "cell_type": "code",
   "execution_count": null,
   "id": "7d9ec64d-3545-414c-8722-fa9b60cf9a13",
   "metadata": {},
   "outputs": [],
   "source": []
  }
 ],
 "metadata": {
  "kernelspec": {
   "display_name": "Python 3 (ipykernel)",
   "language": "python",
   "name": "python3"
  },
  "language_info": {
   "codemirror_mode": {
    "name": "ipython",
    "version": 3
   },
   "file_extension": ".py",
   "mimetype": "text/x-python",
   "name": "python",
   "nbconvert_exporter": "python",
   "pygments_lexer": "ipython3",
   "version": "3.12.10"
  }
 },
 "nbformat": 4,
 "nbformat_minor": 5
}
