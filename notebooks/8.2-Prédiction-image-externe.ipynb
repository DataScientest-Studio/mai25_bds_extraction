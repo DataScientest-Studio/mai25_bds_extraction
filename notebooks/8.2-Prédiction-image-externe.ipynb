{
 "cells": [
  {
   "cell_type": "code",
   "execution_count": null,
   "id": "f1972a24-87d7-4113-897c-2756ea1ff494",
   "metadata": {},
   "outputs": [],
   "source": [
    "import sys\n",
    "from pathlib import Path\n",
    "\n",
    "project_root = Path().resolve().parent\n",
    "if not project_root in [Path(p).resolve() for p in sys.path]:\n",
    "    sys.path.append(str(project_root))\n",
    "\n",
    "from src import PATHS, LABELS\n",
    "\n",
    "from src.models.preprocessing import extract_features, reset_to_rvl_state"
   ]
  },
  {
   "cell_type": "markdown",
   "id": "6e153ced-c4da-4485-86d3-08e8ca7d0f7c",
   "metadata": {},
   "source": [
    "# Import"
   ]
  },
  {
   "cell_type": "code",
   "execution_count": null,
   "id": "40a31ad3-4118-425f-9f58-99b3ef36cc81",
   "metadata": {},
   "outputs": [],
   "source": [
    "for i in PATHS.images_to_import.iterdir():\n",
    "    extract_features(i)"
   ]
  },
  {
   "cell_type": "markdown",
   "id": "21ae94cd-dbac-4ad7-88eb-82efcca46aec",
   "metadata": {},
   "source": [
    "# Nettoyage"
   ]
  },
  {
   "cell_type": "code",
   "execution_count": null,
   "id": "4c527bc5-b0fc-4500-8a8e-eb0a97da6753",
   "metadata": {},
   "outputs": [],
   "source": [
    "reset_to_rvl_state()"
   ]
  },
  {
   "cell_type": "markdown",
   "id": "fbf4c392-7532-40eb-ab7b-5fea5bb1b41f",
   "metadata": {},
   "source": [
    "# Réduction DF (pour démo)\n",
    "etant donnée la méthode utilisée pour faire la démo (réutilisation des DF RVL), les temps d'écritures sur les DF seraient trop long.\n",
    "On réduit donc le jeu de données à 4000 lignes en appliquant une fois ce script (penser a faire une copie manuelle de df_documents.parquet en df_documents_save.parquet pour pouvoir utiliser reset_to_rvl_state ensuite)\n",
    "\n",
    "!!! Attention: bien sur faire une copie séparée de processed et metadata avant"
   ]
  },
  {
   "cell_type": "raw",
   "id": "c00a9af2-a59c-4057-84ea-f199d84491a3",
   "metadata": {},
   "source": [
    "import shutil\n",
    "import pandas as pd\n",
    "\n",
    "\n",
    "# code de reset_rvl_state\n",
    "\n",
    "rvl_ids = pd.read_parquet(PATHS.samples / \"df_documents_sample_4k_1.parquet\").index\n",
    "for df_path in [\n",
    "    PATHS.metadata / \"df_documents.parquet\",\n",
    "    PATHS.processed_data / \"df_raw_ocr.parquet\",\n",
    "    PATHS.processed_data / \"df_txt_ocr1.parquet\",\n",
    "    PATHS.processed_data / \"df_img_features_pixels.parquet\",\n",
    "    PATHS.processed_data / \"df_clip_embeddings.parquet\",\n",
    "    \n",
    "    PATHS.processed_data / \"df_clip_embeddings.parquet\",\n",
    "    PATHS.metadata / \"df_data_sets.parquet\",\n",
    "    PATHS.metadata / \"df_plain_labels.parquet\",\n",
    "    PATHS.metadata / \"df_encoded_labels.parquet\",\n",
    "    PATHS.metadata / \"df_filepaths.parquet\",\n",
    "    \n",
    "    \n",
    "    \n",
    "    \n",
    "]:\n",
    "    print(df_path, end=\"...\")\n",
    "    df = pd.read_parquet(df_path)\n",
    "    df = df.loc[rvl_ids,:]\n",
    "    assert len(df) == 4000\n",
    "    df.to_parquet(df_path)\n",
    "    print(\" sucessfully reset\")\n",
    "    rvl_path = PATHS.other_images\n",
    "    converted_path = Path(str(rvl_path).replace(str(PATHS.rvl_cdip_images), str(PATHS.converted_images)))\n",
    "for folder in [str(rvl_path), str(converted_path)]:\n",
    "    pass\n",
    "    try:\n",
    "        print(str(folder), end=\"...\")\n",
    "        shutil.rmtree(folder)\n",
    "        print(\" sucessfully removed\")\n",
    "    except Exception as e:\n",
    "        print(f\"⚠️ Erreur lors de la suppression de {folder}: {e}\")            "
   ]
  },
  {
   "cell_type": "code",
   "execution_count": null,
   "id": "39c4ba48-9324-43dd-bae1-791a23ffab67",
   "metadata": {},
   "outputs": [],
   "source": []
  }
 ],
 "metadata": {
  "kernelspec": {
   "display_name": "Python 3 (ipykernel)",
   "language": "python",
   "name": "python3"
  },
  "language_info": {
   "codemirror_mode": {
    "name": "ipython",
    "version": 3
   },
   "file_extension": ".py",
   "mimetype": "text/x-python",
   "name": "python",
   "nbconvert_exporter": "python",
   "pygments_lexer": "ipython3",
   "version": "3.12.10"
  }
 },
 "nbformat": 4,
 "nbformat_minor": 5
}
