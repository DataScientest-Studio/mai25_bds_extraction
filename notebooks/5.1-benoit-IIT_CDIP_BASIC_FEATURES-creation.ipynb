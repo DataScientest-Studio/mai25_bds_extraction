{
 "cells": [
  {
   "cell_type": "markdown",
   "id": "96a873bd-c824-4abc-97ae-c1995e2d771c",
   "metadata": {},
   "source": [
    "# Création DataFrame IIT_CDIP_BASIC_FEATURES"
   ]
  },
  {
   "cell_type": "markdown",
   "id": "4b2f69fa-179c-4dc8-bd79-86a87c6f4cc0",
   "metadata": {},
   "source": [
    "## README\n",
    "Ce notebook permet de créer la DataFrame IIT_CDIP_BASIC_FEATURES, à partir des images de la base de données IIT-CDIP. Pour mémoire, ce sont ces images qui ont servi de source à la création de la base de données RVL-CDIP.\n",
    "Au sein de la base de données IIT-CDIP, seules les images ayant servi à la constitution de la base de données RVL-CDIP seront utilisées. Cela représente 400 000 images (contre un peu moins de 7 000 000 dans la base de données IIT-CDIP complète)\n",
    "\n",
    "Il réalise tout d'abord certaines opérations préalables (chapitre 1), dont la définition des variables globales d'exécution (**A METTRE A JOUR LORS D'UNE PREMIERE UTILISATION**)\n",
    "\n",
    "A l'issue (chapitre 2), il permet de créer le DataFrame, qui contient les informations suivantes:\n",
    "- document_id\n",
    "- width\n",
    "- height\n",
    "- amount_of_pages\n",
    "- size_in_kb\n",
    "- mode"
   ]
  },
  {
   "cell_type": "markdown",
   "id": "ba9ac3b2-34f0-4771-864c-56431bed3dd7",
   "metadata": {},
   "source": [
    "## 1. Préparation"
   ]
  },
  {
   "cell_type": "code",
   "execution_count": 1,
   "id": "91d20fdd-ae3f-45b5-87b3-f5c7544e87c6",
   "metadata": {},
   "outputs": [],
   "source": [
    "import os\n",
    "import time\n",
    "import numpy as np\n",
    "import pandas as pd\n",
    "from PIL import Image"
   ]
  },
  {
   "cell_type": "code",
   "execution_count": 2,
   "id": "b8b31dbe-4038-4b72-8b72-14c92edc6b7f",
   "metadata": {},
   "outputs": [],
   "source": [
    "project_path = '/Users/ben/Work/mle/ds-project/mai25_bds_extraction/' # à modifier par chacun en fonction de son arborescence\n",
    "\n",
    "data_path = os.path.join(project_path, 'data')\n",
    "raw_data_path = os.path.join(data_path, 'raw')\n",
    "processed_data_path = os.path.join(data_path, 'processed')\n",
    "\n",
    "raw_rvl_cdip_path = os.path.join(raw_data_path, 'RVL-CDIP')\n",
    "rvl_cdip_images_path = os.path.join(raw_rvl_cdip_path, 'images')\n",
    "rvl_cdip_labels_path = os.path.join(raw_rvl_cdip_path, 'labels')\n",
    "\n",
    "iit_cdip_images_path = os.path.join(raw_data_path, 'IIT-CDIP', 'images')\n",
    "iit_cdip_xmls_path = os.path.join(raw_data_path, 'IIT-CDIP', 'xmls')"
   ]
  },
  {
   "cell_type": "markdown",
   "id": "ba08754f-0501-4e1d-b7e5-137c1814ee77",
   "metadata": {},
   "source": [
    "## 2. Création du DataFrame IIT_CDIP_BASIC_FEATURES"
   ]
  },
  {
   "cell_type": "markdown",
   "id": "e0417d73-b234-48c8-890a-7b656202b54d",
   "metadata": {},
   "source": [
    "## 2.1. Création de la base de la DataFrame"
   ]
  },
  {
   "cell_type": "code",
   "execution_count": 3,
   "id": "1af6421d-9c35-4d0a-8620-f5e13817502a",
   "metadata": {},
   "outputs": [
    {
     "data": {
      "text/html": [
       "<div>\n",
       "<style scoped>\n",
       "    .dataframe tbody tr th:only-of-type {\n",
       "        vertical-align: middle;\n",
       "    }\n",
       "\n",
       "    .dataframe tbody tr th {\n",
       "        vertical-align: top;\n",
       "    }\n",
       "\n",
       "    .dataframe thead th {\n",
       "        text-align: right;\n",
       "    }\n",
       "</style>\n",
       "<table border=\"1\" class=\"dataframe\">\n",
       "  <thead>\n",
       "    <tr style=\"text-align: right;\">\n",
       "      <th></th>\n",
       "      <th>document_id</th>\n",
       "      <th>filename</th>\n",
       "      <th>rvl_image_path</th>\n",
       "      <th>label</th>\n",
       "      <th>data_set</th>\n",
       "      <th>iit_image_path</th>\n",
       "      <th>iit_individual_xml_path</th>\n",
       "      <th>iit_collective_xml_path</th>\n",
       "    </tr>\n",
       "  </thead>\n",
       "  <tbody>\n",
       "    <tr>\n",
       "      <th>0</th>\n",
       "      <td>aaa06d00</td>\n",
       "      <td>50486482-6482.tif</td>\n",
       "      <td>raw/RVL-CDIP/images/imagesa/a/a/a/aaa06d00/504...</td>\n",
       "      <td>6</td>\n",
       "      <td>test</td>\n",
       "      <td>raw/IIT-CDIP/images/imagesa/a/a/a/aaa06d00/504...</td>\n",
       "      <td>raw/IIT-CDIP/images/imagesa/a/a/a/aaa06d00/aaa...</td>\n",
       "      <td>raw/IIT-CDIP/xmls/aa.xml</td>\n",
       "    </tr>\n",
       "    <tr>\n",
       "      <th>1</th>\n",
       "      <td>aaa08d00</td>\n",
       "      <td>2072197187.tif</td>\n",
       "      <td>raw/RVL-CDIP/images/imagesa/a/a/a/aaa08d00/207...</td>\n",
       "      <td>9</td>\n",
       "      <td>train</td>\n",
       "      <td>raw/IIT-CDIP/images/imagesa/a/a/a/aaa08d00/207...</td>\n",
       "      <td>raw/IIT-CDIP/images/imagesa/a/a/a/aaa08d00/aaa...</td>\n",
       "      <td>raw/IIT-CDIP/xmls/aa.xml</td>\n",
       "    </tr>\n",
       "    <tr>\n",
       "      <th>2</th>\n",
       "      <td>aaa09e00</td>\n",
       "      <td>2029372116.tif</td>\n",
       "      <td>raw/RVL-CDIP/images/imagesa/a/a/a/aaa09e00/202...</td>\n",
       "      <td>11</td>\n",
       "      <td>val</td>\n",
       "      <td>raw/IIT-CDIP/images/imagesa/a/a/a/aaa09e00/202...</td>\n",
       "      <td>raw/IIT-CDIP/images/imagesa/a/a/a/aaa09e00/aaa...</td>\n",
       "      <td>raw/IIT-CDIP/xmls/aa.xml</td>\n",
       "    </tr>\n",
       "    <tr>\n",
       "      <th>3</th>\n",
       "      <td>aaa10c00</td>\n",
       "      <td>2085133627a.tif</td>\n",
       "      <td>raw/RVL-CDIP/images/imagesa/a/a/a/aaa10c00/208...</td>\n",
       "      <td>2</td>\n",
       "      <td>train</td>\n",
       "      <td>raw/IIT-CDIP/images/imagesa/a/a/a/aaa10c00/208...</td>\n",
       "      <td>raw/IIT-CDIP/images/imagesa/a/a/a/aaa10c00/aaa...</td>\n",
       "      <td>raw/IIT-CDIP/xmls/aa.xml</td>\n",
       "    </tr>\n",
       "    <tr>\n",
       "      <th>4</th>\n",
       "      <td>aaa11d00</td>\n",
       "      <td>515558347+-8348.tif</td>\n",
       "      <td>raw/RVL-CDIP/images/imagesa/a/a/a/aaa11d00/515...</td>\n",
       "      <td>3</td>\n",
       "      <td>train</td>\n",
       "      <td>raw/IIT-CDIP/images/imagesa/a/a/a/aaa11d00/515...</td>\n",
       "      <td>raw/IIT-CDIP/images/imagesa/a/a/a/aaa11d00/aaa...</td>\n",
       "      <td>raw/IIT-CDIP/xmls/aa.xml</td>\n",
       "    </tr>\n",
       "  </tbody>\n",
       "</table>\n",
       "</div>"
      ],
      "text/plain": [
       "  document_id             filename  \\\n",
       "0    aaa06d00    50486482-6482.tif   \n",
       "1    aaa08d00       2072197187.tif   \n",
       "2    aaa09e00       2029372116.tif   \n",
       "3    aaa10c00      2085133627a.tif   \n",
       "4    aaa11d00  515558347+-8348.tif   \n",
       "\n",
       "                                      rvl_image_path  label data_set  \\\n",
       "0  raw/RVL-CDIP/images/imagesa/a/a/a/aaa06d00/504...      6     test   \n",
       "1  raw/RVL-CDIP/images/imagesa/a/a/a/aaa08d00/207...      9    train   \n",
       "2  raw/RVL-CDIP/images/imagesa/a/a/a/aaa09e00/202...     11      val   \n",
       "3  raw/RVL-CDIP/images/imagesa/a/a/a/aaa10c00/208...      2    train   \n",
       "4  raw/RVL-CDIP/images/imagesa/a/a/a/aaa11d00/515...      3    train   \n",
       "\n",
       "                                      iit_image_path  \\\n",
       "0  raw/IIT-CDIP/images/imagesa/a/a/a/aaa06d00/504...   \n",
       "1  raw/IIT-CDIP/images/imagesa/a/a/a/aaa08d00/207...   \n",
       "2  raw/IIT-CDIP/images/imagesa/a/a/a/aaa09e00/202...   \n",
       "3  raw/IIT-CDIP/images/imagesa/a/a/a/aaa10c00/208...   \n",
       "4  raw/IIT-CDIP/images/imagesa/a/a/a/aaa11d00/515...   \n",
       "\n",
       "                             iit_individual_xml_path   iit_collective_xml_path  \n",
       "0  raw/IIT-CDIP/images/imagesa/a/a/a/aaa06d00/aaa...  raw/IIT-CDIP/xmls/aa.xml  \n",
       "1  raw/IIT-CDIP/images/imagesa/a/a/a/aaa08d00/aaa...  raw/IIT-CDIP/xmls/aa.xml  \n",
       "2  raw/IIT-CDIP/images/imagesa/a/a/a/aaa09e00/aaa...  raw/IIT-CDIP/xmls/aa.xml  \n",
       "3  raw/IIT-CDIP/images/imagesa/a/a/a/aaa10c00/aaa...  raw/IIT-CDIP/xmls/aa.xml  \n",
       "4  raw/IIT-CDIP/images/imagesa/a/a/a/aaa11d00/aaa...  raw/IIT-CDIP/xmls/aa.xml  "
      ]
     },
     "execution_count": 3,
     "metadata": {},
     "output_type": "execute_result"
    }
   ],
   "source": [
    "df_documents = pd.read_parquet(os.path.join(processed_data_path, \"df_documents.parquet\"))\n",
    "df_documents.head()"
   ]
  },
  {
   "cell_type": "code",
   "execution_count": 4,
   "id": "ad918490-db68-4dd0-bac9-d294e9756315",
   "metadata": {},
   "outputs": [],
   "source": [
    "df_base = df_documents[[\"document_id\", \"iit_image_path\"]]"
   ]
  },
  {
   "cell_type": "code",
   "execution_count": 5,
   "id": "efaf92d8-e701-4eb9-bd8f-870877565002",
   "metadata": {},
   "outputs": [
    {
     "data": {
      "text/plain": [
       "400000"
      ]
     },
     "execution_count": 5,
     "metadata": {},
     "output_type": "execute_result"
    }
   ],
   "source": [
    "len(df_base)"
   ]
  },
  {
   "cell_type": "code",
   "execution_count": 6,
   "id": "5ef13899-7ccb-4184-9bb6-60bb34465c14",
   "metadata": {},
   "outputs": [
    {
     "data": {
      "text/html": [
       "<div>\n",
       "<style scoped>\n",
       "    .dataframe tbody tr th:only-of-type {\n",
       "        vertical-align: middle;\n",
       "    }\n",
       "\n",
       "    .dataframe tbody tr th {\n",
       "        vertical-align: top;\n",
       "    }\n",
       "\n",
       "    .dataframe thead th {\n",
       "        text-align: right;\n",
       "    }\n",
       "</style>\n",
       "<table border=\"1\" class=\"dataframe\">\n",
       "  <thead>\n",
       "    <tr style=\"text-align: right;\">\n",
       "      <th></th>\n",
       "      <th>document_id</th>\n",
       "      <th>iit_image_path</th>\n",
       "    </tr>\n",
       "  </thead>\n",
       "  <tbody>\n",
       "    <tr>\n",
       "      <th>0</th>\n",
       "      <td>aaa06d00</td>\n",
       "      <td>raw/IIT-CDIP/images/imagesa/a/a/a/aaa06d00/504...</td>\n",
       "    </tr>\n",
       "    <tr>\n",
       "      <th>1</th>\n",
       "      <td>aaa08d00</td>\n",
       "      <td>raw/IIT-CDIP/images/imagesa/a/a/a/aaa08d00/207...</td>\n",
       "    </tr>\n",
       "    <tr>\n",
       "      <th>2</th>\n",
       "      <td>aaa09e00</td>\n",
       "      <td>raw/IIT-CDIP/images/imagesa/a/a/a/aaa09e00/202...</td>\n",
       "    </tr>\n",
       "    <tr>\n",
       "      <th>3</th>\n",
       "      <td>aaa10c00</td>\n",
       "      <td>raw/IIT-CDIP/images/imagesa/a/a/a/aaa10c00/208...</td>\n",
       "    </tr>\n",
       "    <tr>\n",
       "      <th>4</th>\n",
       "      <td>aaa11d00</td>\n",
       "      <td>raw/IIT-CDIP/images/imagesa/a/a/a/aaa11d00/515...</td>\n",
       "    </tr>\n",
       "  </tbody>\n",
       "</table>\n",
       "</div>"
      ],
      "text/plain": [
       "  document_id                                     iit_image_path\n",
       "0    aaa06d00  raw/IIT-CDIP/images/imagesa/a/a/a/aaa06d00/504...\n",
       "1    aaa08d00  raw/IIT-CDIP/images/imagesa/a/a/a/aaa08d00/207...\n",
       "2    aaa09e00  raw/IIT-CDIP/images/imagesa/a/a/a/aaa09e00/202...\n",
       "3    aaa10c00  raw/IIT-CDIP/images/imagesa/a/a/a/aaa10c00/208...\n",
       "4    aaa11d00  raw/IIT-CDIP/images/imagesa/a/a/a/aaa11d00/515..."
      ]
     },
     "execution_count": 6,
     "metadata": {},
     "output_type": "execute_result"
    }
   ],
   "source": [
    "df_base.head()"
   ]
  },
  {
   "cell_type": "markdown",
   "id": "53b9d296-ad16-4c99-b966-50d28002c2d8",
   "metadata": {},
   "source": [
    "## 2.2. Extraction des données"
   ]
  },
  {
   "cell_type": "code",
   "execution_count": 7,
   "id": "bd05ef2e-4ab0-4234-8bf6-01718a9b0e61",
   "metadata": {},
   "outputs": [],
   "source": [
    "# on écrit une fonction pour récupérer le nombre de pages par fichier\n",
    "def nombre_pages(img):\n",
    "    try:\n",
    "        count = 0\n",
    "        while True:\n",
    "            try:\n",
    "                img.seek(count)\n",
    "                count += 1\n",
    "            except EOFError:\n",
    "                break\n",
    "        return count\n",
    "    except UnidentifiedImageError:\n",
    "        return None"
   ]
  },
  {
   "cell_type": "code",
   "execution_count": 8,
   "id": "e437f965-a767-4e2d-b939-2986e3fbde25",
   "metadata": {},
   "outputs": [],
   "source": [
    "def get_basic_image_features():\n",
    "    tmp_list = []\n",
    "    for index, row in df_base.iterrows():\n",
    "        document_id, relative_path = row.values.tolist()\n",
    "        filename = os.path.join(data_path, relative_path)\n",
    "        try:\n",
    "            with Image.open(filename) as img:\n",
    "                format_ = img.format\n",
    "                width, height = img.size \n",
    "                mode = img.mode\n",
    "                amount_of_pages = nombre_pages(img)\n",
    "            size_in_kb = os.path.getsize(filename) / 1024\n",
    "            tmp_list.append([\n",
    "                document_id, width, height, amount_of_pages, size_in_kb, mode])\n",
    "        except Exception as e:\n",
    "            print(f\"Erreur avec l'image {document_id}\")\n",
    "    \n",
    "    df_data = pd.DataFrame(\n",
    "        tmp_list,\n",
    "        columns = [\"document_id\", \"width\", \"height\", \"amount_of_pages\", \"size_in_kB\", \"mode\"]\n",
    "    )\n",
    "    return df_data"
   ]
  },
  {
   "cell_type": "code",
   "execution_count": 9,
   "id": "2950b06e-742b-4839-9e15-4bfee56e2e0b",
   "metadata": {},
   "outputs": [
    {
     "name": "stdout",
     "output_type": "stream",
     "text": [
      "Erreur avec l'image fpv22d00\n",
      "Duree d'exécution: 271.123 secondes.\n"
     ]
    },
    {
     "data": {
      "text/html": [
       "<div>\n",
       "<style scoped>\n",
       "    .dataframe tbody tr th:only-of-type {\n",
       "        vertical-align: middle;\n",
       "    }\n",
       "\n",
       "    .dataframe tbody tr th {\n",
       "        vertical-align: top;\n",
       "    }\n",
       "\n",
       "    .dataframe thead th {\n",
       "        text-align: right;\n",
       "    }\n",
       "</style>\n",
       "<table border=\"1\" class=\"dataframe\">\n",
       "  <thead>\n",
       "    <tr style=\"text-align: right;\">\n",
       "      <th></th>\n",
       "      <th>document_id</th>\n",
       "      <th>width</th>\n",
       "      <th>height</th>\n",
       "      <th>amount_of_pages</th>\n",
       "      <th>size_in_kB</th>\n",
       "      <th>mode</th>\n",
       "    </tr>\n",
       "  </thead>\n",
       "  <tbody>\n",
       "    <tr>\n",
       "      <th>0</th>\n",
       "      <td>aaa06d00</td>\n",
       "      <td>1728</td>\n",
       "      <td>2292</td>\n",
       "      <td>1</td>\n",
       "      <td>25.595703</td>\n",
       "      <td>1</td>\n",
       "    </tr>\n",
       "    <tr>\n",
       "      <th>1</th>\n",
       "      <td>aaa08d00</td>\n",
       "      <td>1728</td>\n",
       "      <td>2292</td>\n",
       "      <td>1</td>\n",
       "      <td>58.537109</td>\n",
       "      <td>1</td>\n",
       "    </tr>\n",
       "    <tr>\n",
       "      <th>2</th>\n",
       "      <td>aaa09e00</td>\n",
       "      <td>2560</td>\n",
       "      <td>3301</td>\n",
       "      <td>1</td>\n",
       "      <td>22.528320</td>\n",
       "      <td>1</td>\n",
       "    </tr>\n",
       "    <tr>\n",
       "      <th>3</th>\n",
       "      <td>aaa10c00</td>\n",
       "      <td>1728</td>\n",
       "      <td>2292</td>\n",
       "      <td>1</td>\n",
       "      <td>4.379883</td>\n",
       "      <td>1</td>\n",
       "    </tr>\n",
       "    <tr>\n",
       "      <th>4</th>\n",
       "      <td>aaa11d00</td>\n",
       "      <td>1728</td>\n",
       "      <td>2292</td>\n",
       "      <td>2</td>\n",
       "      <td>91.145508</td>\n",
       "      <td>1</td>\n",
       "    </tr>\n",
       "  </tbody>\n",
       "</table>\n",
       "</div>"
      ],
      "text/plain": [
       "  document_id  width  height  amount_of_pages  size_in_kB mode\n",
       "0    aaa06d00   1728    2292                1   25.595703    1\n",
       "1    aaa08d00   1728    2292                1   58.537109    1\n",
       "2    aaa09e00   2560    3301                1   22.528320    1\n",
       "3    aaa10c00   1728    2292                1    4.379883    1\n",
       "4    aaa11d00   1728    2292                2   91.145508    1"
      ]
     },
     "execution_count": 9,
     "metadata": {},
     "output_type": "execute_result"
    }
   ],
   "source": [
    "t = time.time()\n",
    "df_data = get_basic_image_features()\n",
    "print(f\"Duree d'exécution: {time.time() - t:.3f} secondes.\")\n",
    "df_data.head()"
   ]
  },
  {
   "cell_type": "markdown",
   "id": "a37fd946-91d5-4c86-bdf8-e41eb02b3222",
   "metadata": {},
   "source": [
    "## 2.3. Création de la DataFrame et sauvegarde"
   ]
  },
  {
   "cell_type": "code",
   "execution_count": 10,
   "id": "5f3d4dcd-919e-42a1-94bf-3d4fc5c634a6",
   "metadata": {},
   "outputs": [
    {
     "data": {
      "text/html": [
       "<div>\n",
       "<style scoped>\n",
       "    .dataframe tbody tr th:only-of-type {\n",
       "        vertical-align: middle;\n",
       "    }\n",
       "\n",
       "    .dataframe tbody tr th {\n",
       "        vertical-align: top;\n",
       "    }\n",
       "\n",
       "    .dataframe thead th {\n",
       "        text-align: right;\n",
       "    }\n",
       "</style>\n",
       "<table border=\"1\" class=\"dataframe\">\n",
       "  <thead>\n",
       "    <tr style=\"text-align: right;\">\n",
       "      <th></th>\n",
       "      <th>document_id</th>\n",
       "      <th>iit_image_path</th>\n",
       "      <th>width</th>\n",
       "      <th>height</th>\n",
       "      <th>amount_of_pages</th>\n",
       "      <th>size_in_kB</th>\n",
       "      <th>mode</th>\n",
       "    </tr>\n",
       "  </thead>\n",
       "  <tbody>\n",
       "    <tr>\n",
       "      <th>0</th>\n",
       "      <td>aaa06d00</td>\n",
       "      <td>raw/IIT-CDIP/images/imagesa/a/a/a/aaa06d00/504...</td>\n",
       "      <td>1728.0</td>\n",
       "      <td>2292.0</td>\n",
       "      <td>1.0</td>\n",
       "      <td>25.595703</td>\n",
       "      <td>1</td>\n",
       "    </tr>\n",
       "    <tr>\n",
       "      <th>1</th>\n",
       "      <td>aaa08d00</td>\n",
       "      <td>raw/IIT-CDIP/images/imagesa/a/a/a/aaa08d00/207...</td>\n",
       "      <td>1728.0</td>\n",
       "      <td>2292.0</td>\n",
       "      <td>1.0</td>\n",
       "      <td>58.537109</td>\n",
       "      <td>1</td>\n",
       "    </tr>\n",
       "    <tr>\n",
       "      <th>2</th>\n",
       "      <td>aaa09e00</td>\n",
       "      <td>raw/IIT-CDIP/images/imagesa/a/a/a/aaa09e00/202...</td>\n",
       "      <td>2560.0</td>\n",
       "      <td>3301.0</td>\n",
       "      <td>1.0</td>\n",
       "      <td>22.528320</td>\n",
       "      <td>1</td>\n",
       "    </tr>\n",
       "    <tr>\n",
       "      <th>3</th>\n",
       "      <td>aaa10c00</td>\n",
       "      <td>raw/IIT-CDIP/images/imagesa/a/a/a/aaa10c00/208...</td>\n",
       "      <td>1728.0</td>\n",
       "      <td>2292.0</td>\n",
       "      <td>1.0</td>\n",
       "      <td>4.379883</td>\n",
       "      <td>1</td>\n",
       "    </tr>\n",
       "    <tr>\n",
       "      <th>4</th>\n",
       "      <td>aaa11d00</td>\n",
       "      <td>raw/IIT-CDIP/images/imagesa/a/a/a/aaa11d00/515...</td>\n",
       "      <td>1728.0</td>\n",
       "      <td>2292.0</td>\n",
       "      <td>2.0</td>\n",
       "      <td>91.145508</td>\n",
       "      <td>1</td>\n",
       "    </tr>\n",
       "  </tbody>\n",
       "</table>\n",
       "</div>"
      ],
      "text/plain": [
       "  document_id                                     iit_image_path   width  \\\n",
       "0    aaa06d00  raw/IIT-CDIP/images/imagesa/a/a/a/aaa06d00/504...  1728.0   \n",
       "1    aaa08d00  raw/IIT-CDIP/images/imagesa/a/a/a/aaa08d00/207...  1728.0   \n",
       "2    aaa09e00  raw/IIT-CDIP/images/imagesa/a/a/a/aaa09e00/202...  2560.0   \n",
       "3    aaa10c00  raw/IIT-CDIP/images/imagesa/a/a/a/aaa10c00/208...  1728.0   \n",
       "4    aaa11d00  raw/IIT-CDIP/images/imagesa/a/a/a/aaa11d00/515...  1728.0   \n",
       "\n",
       "   height  amount_of_pages  size_in_kB mode  \n",
       "0  2292.0              1.0   25.595703    1  \n",
       "1  2292.0              1.0   58.537109    1  \n",
       "2  3301.0              1.0   22.528320    1  \n",
       "3  2292.0              1.0    4.379883    1  \n",
       "4  2292.0              2.0   91.145508    1  "
      ]
     },
     "execution_count": 10,
     "metadata": {},
     "output_type": "execute_result"
    }
   ],
   "source": [
    "df_iit_cdip_basic_features = df_base.merge(df_data, on=\"document_id\", how=\"left\")\n",
    "df_iit_cdip_basic_features.head()"
   ]
  },
  {
   "cell_type": "code",
   "execution_count": 11,
   "id": "9f442637-f4ab-45cc-b648-37fcdc3cf3d8",
   "metadata": {},
   "outputs": [],
   "source": [
    "df_iit_cdip_basic_features.to_parquet(os.path.join(processed_data_path, \"df_iit_cdip_basic_features.parquet\"))"
   ]
  },
  {
   "cell_type": "markdown",
   "id": "e2829ceb-eac6-4cd3-a7fe-db7f6e7b7abb",
   "metadata": {},
   "source": [
    "### Remarque:\n",
    "Il y a un soucis avec l'image fpv22d00, dont les caractéristiques n'ont pu être extraites.\n",
    "Il sera sans doute possible d'améliorer le script pour cela."
   ]
  },
  {
   "cell_type": "code",
   "execution_count": 12,
   "id": "d4476d57-f43f-437e-8532-5e19959374f0",
   "metadata": {},
   "outputs": [
    {
     "data": {
      "text/html": [
       "<div>\n",
       "<style scoped>\n",
       "    .dataframe tbody tr th:only-of-type {\n",
       "        vertical-align: middle;\n",
       "    }\n",
       "\n",
       "    .dataframe tbody tr th {\n",
       "        vertical-align: top;\n",
       "    }\n",
       "\n",
       "    .dataframe thead th {\n",
       "        text-align: right;\n",
       "    }\n",
       "</style>\n",
       "<table border=\"1\" class=\"dataframe\">\n",
       "  <thead>\n",
       "    <tr style=\"text-align: right;\">\n",
       "      <th></th>\n",
       "      <th>document_id</th>\n",
       "      <th>iit_image_path</th>\n",
       "      <th>width</th>\n",
       "      <th>height</th>\n",
       "      <th>amount_of_pages</th>\n",
       "      <th>size_in_kB</th>\n",
       "      <th>mode</th>\n",
       "    </tr>\n",
       "  </thead>\n",
       "  <tbody>\n",
       "    <tr>\n",
       "      <th>88241</th>\n",
       "      <td>fpv22d00</td>\n",
       "      <td>raw/IIT-CDIP/images/imagesf/f/p/v/fpv22d00/250...</td>\n",
       "      <td>NaN</td>\n",
       "      <td>NaN</td>\n",
       "      <td>NaN</td>\n",
       "      <td>NaN</td>\n",
       "      <td>NaN</td>\n",
       "    </tr>\n",
       "  </tbody>\n",
       "</table>\n",
       "</div>"
      ],
      "text/plain": [
       "      document_id                                     iit_image_path  width  \\\n",
       "88241    fpv22d00  raw/IIT-CDIP/images/imagesf/f/p/v/fpv22d00/250...    NaN   \n",
       "\n",
       "       height  amount_of_pages  size_in_kB mode  \n",
       "88241     NaN              NaN         NaN  NaN  "
      ]
     },
     "execution_count": 12,
     "metadata": {},
     "output_type": "execute_result"
    }
   ],
   "source": [
    "df_iit_cdip_basic_features[df_iit_cdip_basic_features.document_id == \"fpv22d00\"]"
   ]
  },
  {
   "cell_type": "code",
   "execution_count": null,
   "id": "3beea46a-014c-4214-b931-a8731147c147",
   "metadata": {},
   "outputs": [],
   "source": []
  }
 ],
 "metadata": {
  "kernelspec": {
   "display_name": "Python 3 (ipykernel)",
   "language": "python",
   "name": "python3"
  },
  "language_info": {
   "codemirror_mode": {
    "name": "ipython",
    "version": 3
   },
   "file_extension": ".py",
   "mimetype": "text/x-python",
   "name": "python",
   "nbconvert_exporter": "python",
   "pygments_lexer": "ipython3",
   "version": "3.12.10"
  }
 },
 "nbformat": 4,
 "nbformat_minor": 5
}
