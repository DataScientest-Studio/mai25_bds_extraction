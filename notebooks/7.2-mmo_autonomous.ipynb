{
 "cells": [
  {
   "cell_type": "markdown",
   "id": "a0a84f7f-71ef-49d6-9993-2e18d6f016c6",
   "metadata": {},
   "source": [
    "# Modèles multimodaux autonomes"
   ]
  },
  {
   "cell_type": "markdown",
   "id": "e6abf6b4-8fec-440c-a7f1-33ac254319e2",
   "metadata": {},
   "source": [
    "## README\n",
    "Ce notebook permet la création et l'évaluation de modèles multimodaux autonomes.\n",
    "\n",
    "Il réalise tout d'abord certaines opérations préalables (chapitre 1), dont la définition des variables globales d'exécution"
   ]
  },
  {
   "cell_type": "markdown",
   "id": "d44804c6-78ae-482f-84c6-f6a741e8bd85",
   "metadata": {},
   "source": [
    "## 1. Préparation"
   ]
  },
  {
   "cell_type": "code",
   "execution_count": null,
   "id": "5da9a69b-bef6-4d16-bd29-ed9c8f074f60",
   "metadata": {},
   "outputs": [],
   "source": [
    "import sys\n",
    "from pathlib import Path\n",
    "\n",
    "project_root = Path().resolve().parent\n",
    "if not project_root in [Path(p).resolve() for p in sys.path]:\n",
    "    sys.path.append(str(project_root))\n",
    "\n",
    "from src import PATHS"
   ]
  },
  {
   "cell_type": "code",
   "execution_count": null,
   "id": "b4ec9d71-5eca-472d-84fe-924c40100acf",
   "metadata": {},
   "outputs": [],
   "source": [
    "import os\n",
    "import time\n",
    "import pickle\n",
    "import numpy as np\n",
    "import pandas as pd\n",
    "import seaborn as sns\n",
    "from tqdm import tqdm\n",
    "from matplotlib import pyplot as plt\n",
    "from sklearn.metrics import classification_report, confusion_matrix, accuracy_score\n",
    "from sklearn.linear_model import LogisticRegression\n",
    "from src.models.multimodal import MultiModalVoter, MultiModalClassWeightedVoter, MultiModalCompositeModel\n",
    "from src.visualization.visualize import visual_classification_report\n",
    "from lightgbm import LGBMClassifier\n",
    "from src.models.model_wrappers import ModelWrapperFactory"
   ]
  },
  {
   "cell_type": "markdown",
   "id": "b8697f72-68e1-4ac8-a304-049643520506",
   "metadata": {},
   "source": [
    "## 2. Chargement des données"
   ]
  },
  {
   "cell_type": "code",
   "execution_count": null,
   "id": "78566542-9924-4aac-9d25-a15d13d65327",
   "metadata": {},
   "outputs": [],
   "source": [
    "documents = pd.read_parquet(PATHS.metadata / \"df_documents.parquet\")\n",
    "data_sets = pd.read_parquet(os.path.join(PATHS.metadata, \"df_data_sets.parquet\"))\n",
    "labels = pd.read_parquet(os.path.join(PATHS.metadata, \"df_encoded_labels.parquet\"))\n",
    "documents.shape, data_sets.shape, labels.shape"
   ]
  },
  {
   "cell_type": "code",
   "execution_count": null,
   "id": "a489e996-aded-44ed-812f-3005e0956534",
   "metadata": {},
   "outputs": [],
   "source": [
    "## pour ne travailler que sur un échantillon :\n",
    "sample = pd.read_parquet(os.path.join(PATHS.metadata, 'samples', 'df_documents_sample_4k_3.parquet'))\n",
    "documents = sample.join(documents)\n",
    "data_sets = sample.join(data_sets)\n",
    "labels = sample.join(labels)\n",
    "documents.shape, data_sets.shape, labels.shape"
   ]
  },
  {
   "cell_type": "code",
   "execution_count": null,
   "id": "6c67ebb5-d49d-43ff-9c8e-808807053786",
   "metadata": {},
   "outputs": [],
   "source": [
    "X_train = documents[data_sets.data_set == \"train\"].index\n",
    "y_train = labels[data_sets.data_set == \"train\"].label\n",
    "\n",
    "X_val = documents[data_sets.data_set == \"val\"].index\n",
    "y_val = labels[data_sets.data_set == \"val\"].label\n",
    "\n",
    "X_test = documents[data_sets.data_set == \"test\"].index\n",
    "y_test = labels[data_sets.data_set == \"test\"].label"
   ]
  },
  {
   "cell_type": "markdown",
   "id": "a50ae38d-9ba1-4c1f-acfb-660683fc0e33",
   "metadata": {},
   "source": [
    "## 3. Création du wrapper"
   ]
  },
  {
   "cell_type": "code",
   "execution_count": null,
   "id": "d5e228ce-8ccc-420b-841a-21c4ff70d34b",
   "metadata": {},
   "outputs": [],
   "source": [
    "ModelWrapperFactory.get_registered()"
   ]
  },
  {
   "cell_type": "code",
   "execution_count": null,
   "id": "5275e79c-331a-4e3d-a2f1-8e8eae830ca8",
   "metadata": {},
   "outputs": [],
   "source": [
    "txt_model = ModelWrapperFactory.load_existing('Text-based Logistic Regressor')\n",
    "img_model = ModelWrapperFactory.load_existing('Image-based LGBM')\n",
    "model_wrappers = [txt_model, img_model]\n",
    "clf = LogisticRegression()\n",
    "model = MultiModalCompositeModel(model_wrappers, clf)"
   ]
  },
  {
   "cell_type": "markdown",
   "id": "664020b0-a4d7-447e-a406-f332ab24ffdd",
   "metadata": {},
   "source": [
    "## 4. Apprentissage"
   ]
  },
  {
   "cell_type": "code",
   "execution_count": null,
   "id": "d8493376-3987-43b3-ada4-4d782d69f7ed",
   "metadata": {},
   "outputs": [],
   "source": [
    "start_time = time.time()\n",
    "model.fit(X_train, y_train)\n",
    "end_time = time.time()\n",
    "elapsed = end_time - start_time\n",
    "print(f\" Temps d'exécution total : {elapsed / 60:.2f} minutes ({elapsed:.1f} secondes)\")"
   ]
  },
  {
   "cell_type": "code",
   "execution_count": null,
   "id": "7bed87b1-b979-4095-9202-72eb97d891c0",
   "metadata": {},
   "outputs": [],
   "source": [
    "path = PATHS.models / \"mmo_comp_logreg_on_img-lgbm+txt-logreg.joblib\"\n",
    "model.save(path)"
   ]
  },
  {
   "cell_type": "markdown",
   "id": "1ac08e37-15ad-4da9-b775-caa16b021900",
   "metadata": {},
   "source": [
    "## 5. Evaluation"
   ]
  },
  {
   "cell_type": "code",
   "execution_count": null,
   "id": "ad67c0ac-9daa-4ce6-b6f3-ec43343c7974",
   "metadata": {},
   "outputs": [],
   "source": [
    "name = \"Multimodal Composite LogReg on img-LGBM + txt-LogReg\"\n",
    "path = PATHS.models / \"mmo_comp_logreg_on_img-lgbm+txt-logreg.joblib\"\n",
    "\n",
    "wrapper = ModelWrapperFactory.make_mmo_composite_wrapper(name, path)\n",
    "wrapper.visual_report()"
   ]
  },
  {
   "cell_type": "raw",
   "id": "1f6f28ad-66f6-4cf3-8aa3-b7bfe211a5f6",
   "metadata": {},
   "source": []
  }
 ],
 "metadata": {
  "kernelspec": {
   "display_name": "Python 3 (ipykernel)",
   "language": "python",
   "name": "python3"
  },
  "language_info": {
   "codemirror_mode": {
    "name": "ipython",
    "version": 3
   },
   "file_extension": ".py",
   "mimetype": "text/x-python",
   "name": "python",
   "nbconvert_exporter": "python",
   "pygments_lexer": "ipython3",
   "version": "3.12.10"
  }
 },
 "nbformat": 4,
 "nbformat_minor": 5
}
