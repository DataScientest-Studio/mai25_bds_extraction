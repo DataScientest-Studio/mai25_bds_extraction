{
 "cells": [
  {
   "cell_type": "markdown",
   "id": "a0a84f7f-71ef-49d6-9993-2e18d6f016c6",
   "metadata": {},
   "source": [
    "# Modèles multimodaux - CLIP"
   ]
  },
  {
   "cell_type": "markdown",
   "id": "e6abf6b4-8fec-440c-a7f1-33ac254319e2",
   "metadata": {},
   "source": [
    "## README\n",
    "Ce notebook permet la création et l'évaluation d'un modèle basé sur l'architecture existatne CLIP.\n",
    "\n",
    "# TODO\n",
    "\n",
    "Le chapitre 1 prépare les données nécessaires\n",
    "\n",
    "Le chapitre 2 crée et évalue un modèle de voting simple, par moyennage des prédictions de 2 modèles (1 images et 1 texte)\n",
    "\n",
    "Le chapitre 3 propose une version avancée, avec pondérations, apprises ou non, des résultats des deux modèles utilisés"
   ]
  },
  {
   "cell_type": "markdown",
   "id": "d44804c6-78ae-482f-84c6-f6a741e8bd85",
   "metadata": {},
   "source": [
    "## 1. Préparation"
   ]
  },
  {
   "cell_type": "code",
   "execution_count": null,
   "id": "5da9a69b-bef6-4d16-bd29-ed9c8f074f60",
   "metadata": {},
   "outputs": [],
   "source": [
    "import sys\n",
    "from pathlib import Path\n",
    "\n",
    "project_root = Path().resolve().parent\n",
    "if not project_root in [Path(p).resolve() for p in sys.path]:\n",
    "    sys.path.append(str(project_root))\n",
    "\n",
    "from src import PATHS"
   ]
  },
  {
   "cell_type": "code",
   "execution_count": null,
   "id": "b4ec9d71-5eca-472d-84fe-924c40100acf",
   "metadata": {},
   "outputs": [],
   "source": [
    "import os\n",
    "import time\n",
    "\n",
    "from src.visualization.visualize import visual_classification_report, plot_history\n",
    "\n",
    "from tensorflow.keras.models import Sequential\n",
    "from tensorflow.keras.layers import Dense, Dropout, LeakyReLU\n",
    "from tensorflow.keras.optimizers import Adam"
   ]
  },
  {
   "cell_type": "markdown",
   "id": "b8697f72-68e1-4ac8-a304-049643520506",
   "metadata": {},
   "source": [
    "## 2. Chargement des données\n",
    "On charge directement les embeddings sortant de CLIP"
   ]
  },
  {
   "cell_type": "code",
   "execution_count": null,
   "id": "550e591f-0910-496c-811a-75bc3072b6a8",
   "metadata": {},
   "outputs": [],
   "source": [
    "features = pd.read_parquet(os.path.join(PATHS.processed_data, 'df_clip_embeddings.parquet'))"
   ]
  },
  {
   "cell_type": "code",
   "execution_count": null,
   "id": "23eb4c85-57b6-40af-ab93-02210642d303",
   "metadata": {},
   "outputs": [],
   "source": [
    "data_sets = pd.read_parquet(os.path.join(PATHS.metadata, \"df_data_sets.parquet\"))\n",
    "labels = pd.read_parquet(os.path.join(PATHS.metadata, \"df_encoded_labels.parquet\"))"
   ]
  },
  {
   "cell_type": "raw",
   "id": "0a66fb76-53ee-421e-9030-5111489c9949",
   "metadata": {},
   "source": [
    "# pour ne travailler que sur un échantillon\n",
    "sample = pd.read_parquet(os.path.join(PATHS.metadata, 'samples', 'df_documents_sample_100k_3.parquet'))\n",
    "features = features.join(sample, how='inner')\n",
    "features.shape"
   ]
  },
  {
   "cell_type": "code",
   "execution_count": null,
   "id": "d481163a-41ba-4b54-84be-1d04a93cb8a5",
   "metadata": {},
   "outputs": [],
   "source": [
    "# au cas où features soit incomplet\n",
    "data_sets = data_sets.join(features[[]], how=\"inner\")\n",
    "labels = labels.join(features[[]], how=\"inner\")\n",
    "\n",
    "features.shape, data_sets.shape, labels.shape"
   ]
  },
  {
   "cell_type": "code",
   "execution_count": null,
   "id": "6c67ebb5-d49d-43ff-9c8e-808807053786",
   "metadata": {},
   "outputs": [],
   "source": [
    "X_train = features[data_sets.data_set == \"train\"]\n",
    "y_train = labels[data_sets.data_set == \"train\"]\n",
    "\n",
    "X_val = features[data_sets.data_set == \"val\"]\n",
    "y_val = labels[data_sets.data_set == \"val\"]\n",
    "\n",
    "X_test = features[data_sets.data_set == \"test\"]\n",
    "y_test = labels[data_sets.data_set == \"test\"]"
   ]
  },
  {
   "cell_type": "code",
   "execution_count": null,
   "id": "7cf86ee0-3fec-423b-984b-dfb4b949aedb",
   "metadata": {},
   "outputs": [],
   "source": [
    "del features, data_sets, labels"
   ]
  },
  {
   "cell_type": "markdown",
   "id": "18f572f1-dec9-4ef5-8b35-9389ca20c9d0",
   "metadata": {},
   "source": [
    "## 3. Création des callbacks"
   ]
  },
  {
   "cell_type": "code",
   "execution_count": null,
   "id": "22592bde-2357-4bde-a643-fe94d7ca5690",
   "metadata": {},
   "outputs": [],
   "source": [
    "from tensorflow.keras.callbacks import ReduceLROnPlateau, ModelCheckpoint, EarlyStopping\n",
    "\n",
    "reduce_lr = ReduceLROnPlateau(\n",
    "    monitor='val_loss',     \n",
    "    factor=0.5,             \n",
    "    patience=3,             \n",
    "    min_lr=1e-6,            \n",
    "    verbose=1              \n",
    ")\n",
    "\n",
    "checkpoint = ModelCheckpoint(\n",
    "    filepath=os.path.join(PATHS.models, 'checkpoints', 'best_model.keras'),\n",
    "    monitor='val_loss',\n",
    "    save_best_only=True,\n",
    "    mode='min',\n",
    "    verbose=1\n",
    ")\n",
    "os.makedirs(os.path.join(PATHS.models, 'checkpoints'), exist_ok=True)\n",
    "            \n",
    "early_stop = EarlyStopping(\n",
    "    monitor='val_loss',       \n",
    "    patience=10,\n",
    "    restore_best_weights=True,\n",
    "    verbose=1\n",
    ")"
   ]
  },
  {
   "cell_type": "markdown",
   "id": "2ffb8f41-d81a-49bc-9980-10bf2e99bffe",
   "metadata": {},
   "source": [
    "## 4. Modèles"
   ]
  },
  {
   "cell_type": "markdown",
   "id": "29e6cdde-0d4b-4eb5-bc56-faaeb13fcd00",
   "metadata": {},
   "source": [
    "### 4.1. Modèle 1"
   ]
  },
  {
   "cell_type": "code",
   "execution_count": null,
   "id": "07bd4bcb-e44e-4c2e-92c0-88c021205059",
   "metadata": {},
   "outputs": [],
   "source": [
    "# Création du modèle\n",
    "model = Sequential([\n",
    "    Dense(256, activation='relu', input_shape=(X_train.shape[1],)),\n",
    "    Dense(128, activation='relu'),\n",
    "    Dense(64, activation='relu'),\n",
    "    Dense(16, activation='softmax')\n",
    "])\n",
    "\n",
    "# Compilation\n",
    "model.compile(optimizer='adam',\n",
    "              loss='sparse_categorical_crossentropy',\n",
    "              metrics=['accuracy'])\n",
    "\n",
    "# Entrainement\n",
    "t0 = time.time()\n",
    "train_history = model.fit(\n",
    "                    X_train,\n",
    "                    y_train,\n",
    "                    epochs=50,\n",
    "                    batch_size=32,\n",
    "                    validation_data=(X_val, y_val),\n",
    "                    callbacks=[early_stop, checkpoint, reduce_lr]\n",
    "                )\n",
    "print(f\"Entraînement réalisé en {time.time()-t0:.2f} secondes.\")\n",
    "\n",
    "# Affichage des résultats\n",
    "plot_history(train_history)\n",
    "visual_classification_report(model, X_test, y_test, \"CLIP-based NN Model\", apply_argmax_to_predict=True)"
   ]
  },
  {
   "cell_type": "markdown",
   "id": "9b082caa-81c2-49d7-8784-69e19dbef63c",
   "metadata": {},
   "source": [
    "### 4.2. Modèle 2"
   ]
  },
  {
   "cell_type": "code",
   "execution_count": null,
   "id": "00ea3180-9ee9-4358-805c-d84187773eea",
   "metadata": {},
   "outputs": [],
   "source": [
    "# Création du modèle\n",
    "optimizer = Adam(learning_rate=1e-4)\n",
    "model = Sequential([\n",
    "    Dense(256, activation='relu', input_shape=(X_train.shape[1],)),\n",
    "    Dense(128, activation='relu'),\n",
    "    Dense(64, activation='relu'),\n",
    "    Dense(16, activation='softmax')\n",
    "])\n",
    "\n",
    "# Compilation\n",
    "model.compile(optimizer=optimizer,\n",
    "              loss='sparse_categorical_crossentropy',\n",
    "              metrics=['accuracy'])\n",
    "\n",
    "# Entrainement\n",
    "t0 = time.time()\n",
    "train_history = model.fit(\n",
    "                    X_train,\n",
    "                    y_train,\n",
    "                    epochs=50,\n",
    "                    batch_size=32,\n",
    "                    validation_data=(X_val, y_val),\n",
    "                    callbacks=[early_stop, checkpoint]\n",
    "                )\n",
    "print(f\"Entraînement réalisé en {time.time()-t0:.2f} secondes.\")\n",
    "\n",
    "# Affichage des résultats\n",
    "plot_history(train_history)\n",
    "visual_classification_report(model, X_test, y_test, \"CLIP-based NN Model\", apply_argmax_to_predict=True)"
   ]
  },
  {
   "cell_type": "markdown",
   "id": "17399c1d-9c1b-4680-83c9-7a61dc7f9136",
   "metadata": {},
   "source": [
    "### 4.3. Modèle 3"
   ]
  },
  {
   "cell_type": "code",
   "execution_count": null,
   "id": "f1932e84-8994-4828-9ba4-6b46c1dc5be3",
   "metadata": {},
   "outputs": [],
   "source": [
    "# Création du modèle\n",
    "optimizer = Adam(learning_rate=1e-5)\n",
    "model = Sequential([\n",
    "    Dense(256, activation='relu', input_shape=(X_train.shape[1],)),\n",
    "    Dense(128, activation='relu'),\n",
    "    Dense(64, activation='relu'),\n",
    "    Dense(16, activation='softmax')\n",
    "])\n",
    "\n",
    "# Compilation\n",
    "model.compile(optimizer=optimizer,\n",
    "              loss='sparse_categorical_crossentropy',\n",
    "              metrics=['accuracy'])\n",
    "\n",
    "# Entrainement\n",
    "t0 = time.time()\n",
    "train_history = model.fit(\n",
    "                    X_train,\n",
    "                    y_train,\n",
    "                    epochs=50,\n",
    "                    batch_size=32,\n",
    "                    validation_data=(X_val, y_val),\n",
    "                    callbacks=[early_stop, checkpoint]\n",
    "                )\n",
    "print(f\"Entraînement réalisé en {time.time()-t0:.2f} secondes.\")\n",
    "\n",
    "# Affichage des résultats\n",
    "plot_history(train_history)\n",
    "visual_classification_report(model, X_test, y_test, \"CLIP-based NN Model\", apply_argmax_to_predict=True)"
   ]
  },
  {
   "cell_type": "markdown",
   "id": "7728c710-e403-4ed6-94d4-a4e90bcb9790",
   "metadata": {},
   "source": [
    "### 4.4. Modèle 4"
   ]
  },
  {
   "cell_type": "code",
   "execution_count": null,
   "id": "571494d0-5e75-40b4-9eca-dfbe4f80250f",
   "metadata": {},
   "outputs": [],
   "source": [
    "# Création du modèle\n",
    "model = Sequential([\n",
    "    Dense(256, activation='relu', input_shape=(X_train.shape[1],)),\n",
    "    Dense(128, activation='relu'),\n",
    "    Dense(64, activation='relu'),\n",
    "    Dense(16, activation='softmax')\n",
    "])\n",
    "\n",
    "# Compilation\n",
    "model.compile(optimizer='adam',\n",
    "              loss='sparse_categorical_crossentropy',\n",
    "              metrics=['accuracy'])\n",
    "\n",
    "# Entrainement\n",
    "t0 = time.time()\n",
    "train_history = model.fit(\n",
    "                    X_train,\n",
    "                    y_train,\n",
    "                    epochs=50,\n",
    "                    batch_size=32,\n",
    "                    validation_data=(X_val, y_val),\n",
    "                    callbacks=[reduce_lr, early_stop, checkpoint]\n",
    "                )\n",
    "print(f\"Entraînement réalisé en {time.time()-t0:.2f} secondes.\")\n",
    "\n",
    "# Affichage des résultats\n",
    "plot_history(train_history)\n",
    "visual_classification_report(model, X_test, y_test, \"CLIP-based NN Model\", apply_argmax_to_predict=True)"
   ]
  },
  {
   "cell_type": "markdown",
   "id": "24079897-f02b-4110-acee-aab0a460f009",
   "metadata": {},
   "source": [
    "### 4.5. Modèle 5"
   ]
  },
  {
   "cell_type": "code",
   "execution_count": null,
   "id": "79109137-fd4a-48bd-bd92-1a9388e672ea",
   "metadata": {},
   "outputs": [],
   "source": [
    "# Création du modèle\n",
    "optimizer = Adam(learning_rate=1e-4)\n",
    "model = Sequential([\n",
    "    Dense(256, activation='relu', input_shape=(X_train.shape[1],)),\n",
    "    Dense(128, activation='relu'),\n",
    "    Dense(64, activation='relu'),\n",
    "    Dense(16, activation='softmax')\n",
    "])\n",
    "\n",
    "# Compilation\n",
    "model.compile(optimizer=optimizer,\n",
    "              loss='sparse_categorical_crossentropy',\n",
    "              metrics=['accuracy'])\n",
    "\n",
    "# Entrainement\n",
    "t0 = time.time()\n",
    "train_history = model.fit(\n",
    "                    X_train,\n",
    "                    y_train,\n",
    "                    epochs=50,\n",
    "                    batch_size=32,\n",
    "                    validation_data=(X_val, y_val),\n",
    "                    callbacks=[reduce_lr, early_stop, checkpoint]\n",
    "                )\n",
    "print(f\"Entraînement réalisé en {time.time()-t0:.2f} secondes.\")\n",
    "\n",
    "# Affichage des résultats\n",
    "plot_history(train_history)\n",
    "visual_classification_report(model, X_test, y_test, \"CLIP-based NN Model\", apply_argmax_to_predict=True)"
   ]
  },
  {
   "cell_type": "code",
   "execution_count": null,
   "id": "30f39f0c-feab-46e7-ace6-f5564675bbb0",
   "metadata": {},
   "outputs": [],
   "source": []
  },
  {
   "cell_type": "markdown",
   "id": "9f32049f-0b65-4113-8a63-c99ab1f7f42e",
   "metadata": {},
   "source": [
    "### 4.6. Modèle 6"
   ]
  },
  {
   "cell_type": "code",
   "execution_count": null,
   "id": "139917e3-6dac-492c-b661-09ec5587c29e",
   "metadata": {},
   "outputs": [],
   "source": [
    "# Création du modèle\n",
    "optimizer = Adam(learning_rate=1e-4)\n",
    "model = Sequential([\n",
    "    Dense(256, activation='relu', input_shape=(X_train.shape[1],)),\n",
    "    Dropout(0.4),\n",
    "    Dense(128, activation='relu'),\n",
    "    Dropout(0.3),\n",
    "    Dense(64, activation='relu'),\n",
    "    Dropout(0.2),\n",
    "    Dense(16, activation='softmax')  # 16 classes\n",
    "])\n",
    "\n",
    "# Compilation\n",
    "model.compile(optimizer=optimizer,\n",
    "              loss='sparse_categorical_crossentropy',\n",
    "              metrics=['accuracy'])\n",
    "\n",
    "# Entrainement\n",
    "t0 = time.time()\n",
    "train_history = model.fit(\n",
    "                    X_train,\n",
    "                    y_train,\n",
    "                    epochs=50,\n",
    "                    batch_size=32,\n",
    "                    validation_data=(X_val, y_val),\n",
    "                    callbacks=[reduce_lr, early_stop, checkpoint]\n",
    "                )\n",
    "print(f\"Entraînement réalisé en {time.time()-t0:.2f} secondes.\")\n",
    "\n",
    "# Affichage des résultats\n",
    "plot_history(train_history)\n",
    "visual_classification_report(model, X_test, y_test, \"CLIP-based NN Model\", apply_argmax_to_predict=True)"
   ]
  },
  {
   "cell_type": "markdown",
   "id": "29323aa6-e1eb-4800-b6d0-21c2e90bb5be",
   "metadata": {},
   "source": [
    "### 4.7. Modèle 7"
   ]
  },
  {
   "cell_type": "code",
   "execution_count": null,
   "id": "1817c3a5-d21f-4889-990f-c3d9f68ba5ec",
   "metadata": {},
   "outputs": [],
   "source": [
    "# Création du modèle\n",
    "optimizer = Adam(learning_rate=1e-4)\n",
    "model = Sequential([\n",
    "    Dense(512, activation='relu', input_shape=(X_train.shape[1],)),\n",
    "    Dense(256, activation='relu'),\n",
    "    Dense(128, activation='relu'),\n",
    "    Dense(16, activation='softmax')\n",
    "])\n",
    "\n",
    "# Compilation\n",
    "model.compile(optimizer=optimizer,\n",
    "              loss='sparse_categorical_crossentropy',\n",
    "              metrics=['accuracy'])\n",
    "\n",
    "# Entrainement\n",
    "t0 = time.time()\n",
    "train_history = model.fit(\n",
    "                    X_train,\n",
    "                    y_train,\n",
    "                    epochs=50,\n",
    "                    batch_size=32,\n",
    "                    validation_data=(X_val, y_val),\n",
    "                    callbacks=[reduce_lr, early_stop, checkpoint]\n",
    "                )\n",
    "print(f\"Entraînement réalisé en {time.time()-t0:.2f} secondes.\")\n",
    "\n",
    "# Affichage des résultats\n",
    "plot_history(train_history)\n",
    "visual_classification_report(model, X_test, y_test, \"CLIP-based NN Model\", apply_argmax_to_predict=True)"
   ]
  },
  {
   "cell_type": "markdown",
   "id": "283d49b7-2c3c-4b99-9e93-657b49ccd617",
   "metadata": {},
   "source": [
    "### 4.8. Modèle 8"
   ]
  },
  {
   "cell_type": "code",
   "execution_count": null,
   "id": "61c6b751-8857-47f8-ab62-db863e73dbfc",
   "metadata": {},
   "outputs": [],
   "source": [
    "# Création du modèle\n",
    "optimizer = Adam(learning_rate=1e-4)\n",
    "model = Sequential([\n",
    "    Dense(256, input_shape=(X_train.shape[1],)),\n",
    "    LeakyReLU(alpha=0.1),\n",
    "    Dense(128),\n",
    "    LeakyReLU(alpha=0.1),\n",
    "    Dense(64),\n",
    "    LeakyReLU(alpha=0.1),\n",
    "    Dense(16, activation='softmax')  # 16 classes\n",
    "])\n",
    "\n",
    "# Compilation\n",
    "model.compile(optimizer=optimizer,\n",
    "              loss='sparse_categorical_crossentropy',\n",
    "              metrics=['accuracy'])\n",
    "\n",
    "# Entrainement\n",
    "t0 = time.time()\n",
    "train_history = model.fit(\n",
    "                    X_train,\n",
    "                    y_train,\n",
    "                    epochs=50,\n",
    "                    batch_size=32,\n",
    "                    validation_data=(X_val, y_val),\n",
    "                    callbacks=[reduce_lr, early_stop, checkpoint]\n",
    "                )\n",
    "print(f\"Entraînement réalisé en {time.time()-t0:.2f} secondes.\")\n",
    "\n",
    "# Affichage des résultats\n",
    "plot_history(train_history)\n",
    "visual_classification_report(model, X_test, y_test, \"CLIP-based NN Model\", apply_argmax_to_predict=True)"
   ]
  },
  {
   "cell_type": "code",
   "execution_count": null,
   "id": "c71c549c-9345-4a1d-8715-f33150b07482",
   "metadata": {},
   "outputs": [],
   "source": []
  },
  {
   "cell_type": "markdown",
   "id": "b548f073-33c4-4171-9985-6396546e57ae",
   "metadata": {},
   "source": [
    "### 4.9. Modèle 9"
   ]
  },
  {
   "cell_type": "code",
   "execution_count": null,
   "id": "5054cfc6-afca-4fc2-84ef-520f82effded",
   "metadata": {},
   "outputs": [],
   "source": [
    "# Création du modèle\n",
    "optimizer = Adam(learning_rate=1e-4)\n",
    "model = Sequential([\n",
    "    Dense(256, input_shape=(X_train.shape[1],)),\n",
    "    Dropout(0.4),\n",
    "    LeakyReLU(alpha=0.1),\n",
    "    Dense(128),\n",
    "    Dropout(0.2),\n",
    "    LeakyReLU(alpha=0.1),\n",
    "    Dense(128),\n",
    "    Dropout(0.2),\n",
    "    LeakyReLU(alpha=0.1),\n",
    "    Dense(64),\n",
    "    Dropout(0.1),\n",
    "    LeakyReLU(alpha=0.1),\n",
    "    Dense(64),\n",
    "    Dropout(0,1),\n",
    "    LeakyReLU(alpha=0.1),\n",
    "    Dense(16, activation='softmax')  # 16 classes\n",
    "])\n",
    "\n",
    "# Compilation\n",
    "model.compile(optimizer=optimizer,\n",
    "              loss='sparse_categorical_crossentropy',\n",
    "              metrics=['accuracy'])\n",
    "\n",
    "# Entrainement\n",
    "t0 = time.time()\n",
    "train_history = model.fit(\n",
    "                    X_train,\n",
    "                    y_train,\n",
    "                    epochs=50,\n",
    "                    batch_size=32,\n",
    "                    validation_data=(X_val, y_val),\n",
    "                    callbacks=[reduce_lr, early_stop, checkpoint]\n",
    "                )\n",
    "print(f\"Entraînement réalisé en {time.time()-t0:.2f} secondes.\")\n",
    "\n",
    "# Affichage des résultats\n",
    "plot_history(train_history)\n",
    "visual_classification_report(model, X_test, y_test, \"CLIP-based NN Model\", apply_argmax_to_predict=True)"
   ]
  },
  {
   "cell_type": "code",
   "execution_count": null,
   "id": "829251e8-e02c-4928-a2c1-b9f22bc3f990",
   "metadata": {},
   "outputs": [],
   "source": []
  },
  {
   "cell_type": "markdown",
   "id": "c9fea8b3-98cc-4a88-afdd-d47780669a41",
   "metadata": {},
   "source": [
    "### 4.10. Modèle 10"
   ]
  },
  {
   "cell_type": "code",
   "execution_count": null,
   "id": "6d7cc766-ea63-46e7-ade1-3156fa09512b",
   "metadata": {},
   "outputs": [],
   "source": [
    "# Création du modèle\n",
    "optimizer = Adam(learning_rate=1e-4)\n",
    "model = Sequential([\n",
    "    Dense(64, input_shape=(X_train.shape[1],)),\n",
    "    LeakyReLU(alpha=0.1),\n",
    "    Dense(32),\n",
    "    LeakyReLU(alpha=0.1),\n",
    "    Dense(32),\n",
    "    LeakyReLU(alpha=0.1),\n",
    "    Dense(16, activation='softmax')  # 16 classes\n",
    "])\n",
    "\n",
    "# Compilation\n",
    "model.compile(optimizer=optimizer,\n",
    "              loss='sparse_categorical_crossentropy',\n",
    "              metrics=['accuracy'])\n",
    "\n",
    "# Entrainement\n",
    "t0 = time.time()\n",
    "train_history = model.fit(\n",
    "                    X_train,\n",
    "                    y_train,\n",
    "                    epochs=50,\n",
    "                    batch_size=32,\n",
    "                    validation_data=(X_val, y_val),\n",
    "                    callbacks=[reduce_lr, early_stop, checkpoint]\n",
    "                )\n",
    "print(f\"Entraînement réalisé en {time.time()-t0:.2f} secondes.\")\n",
    "\n",
    "# Affichage des résultats\n",
    "plot_history(train_history)\n",
    "visual_classification_report(model, X_test, y_test, \"CLIP-based NN Model\", apply_argmax_to_predict=True)"
   ]
  },
  {
   "cell_type": "code",
   "execution_count": null,
   "id": "8bd36cd0-e74b-4cc6-a603-792d62a59b07",
   "metadata": {},
   "outputs": [],
   "source": []
  },
  {
   "cell_type": "code",
   "execution_count": null,
   "id": "95b95824-fb53-4306-bf88-db295af6b6a8",
   "metadata": {},
   "outputs": [],
   "source": []
  },
  {
   "cell_type": "markdown",
   "id": "32214f83-47ae-4df4-b29d-5bad505d5005",
   "metadata": {},
   "source": [
    "### 4.11. Modèle 11"
   ]
  },
  {
   "cell_type": "code",
   "execution_count": null,
   "id": "f93ee91a-653d-486f-9d1c-f77bc2d453cb",
   "metadata": {},
   "outputs": [],
   "source": [
    "# Création du modèle\n",
    "optimizer = Adam(learning_rate=1e-4)\n",
    "model = Sequential([\n",
    "    Dense(512, activation='relu', input_shape=(X_train.shape[1],)),\n",
    "    Dropout(0.4),\n",
    "    Dense(128, activation='relu'),\n",
    "    Dropout(0.3),\n",
    "    Dense(32, activation='relu'),\n",
    "    Dropout(0.2),\n",
    "    Dense(16, activation='softmax')  # 16 classes\n",
    "])\n",
    "\n",
    "# Compilation\n",
    "model.compile(optimizer=optimizer,\n",
    "              loss='sparse_categorical_crossentropy',\n",
    "              metrics=['accuracy'])\n",
    "\n",
    "# Entrainement\n",
    "t0 = time.time()\n",
    "train_history = model.fit(\n",
    "                    X_train,\n",
    "                    y_train,\n",
    "                    epochs=50,\n",
    "                    batch_size=32,\n",
    "                    validation_data=(X_val, y_val),\n",
    "                    callbacks=[reduce_lr, early_stop, checkpoint]\n",
    "                )\n",
    "print(f\"Entraînement réalisé en {time.time()-t0:.2f} secondes.\")\n",
    "\n",
    "# Affichage des résultats\n",
    "plot_history(train_history)\n",
    "visual_classification_report(model, X_test, y_test, \"CLIP-based NN Model\", apply_argmax_to_predict=True)"
   ]
  },
  {
   "cell_type": "code",
   "execution_count": null,
   "id": "ed83bafd-6340-43e9-ac27-bd9beac335d4",
   "metadata": {},
   "outputs": [],
   "source": []
  },
  {
   "cell_type": "code",
   "execution_count": null,
   "id": "4ee56518-3ef6-45ad-b6fe-7ddaededd8b4",
   "metadata": {},
   "outputs": [],
   "source": []
  },
  {
   "cell_type": "markdown",
   "id": "cc141381-6c22-4c94-8530-aafaf4ef526e",
   "metadata": {},
   "source": [
    "### 4.12. Modèle 12"
   ]
  },
  {
   "cell_type": "code",
   "execution_count": null,
   "id": "bbf7021b-3fb6-4aec-b762-b19dd0073aac",
   "metadata": {},
   "outputs": [],
   "source": [
    "# Création du modèle\n",
    "optimizer = Adam(learning_rate=1e-4)\n",
    "model = Sequential([\n",
    "    Dense(512, input_shape=(X_train.shape[1],)),\n",
    "    LeakyReLU(alpha=0.1),\n",
    "    Dropout(0.4),\n",
    "    Dense(128),\n",
    "    LeakyReLU(alpha=0.1),\n",
    "    Dropout(0.3),\n",
    "    Dense(32),\n",
    "    LeakyReLU(alpha=0.1),\n",
    "    Dropout(0.2),\n",
    "    Dense(16, activation='softmax')  # 16 classes\n",
    "])\n",
    "\n",
    "# Compilation\n",
    "model.compile(optimizer=optimizer,\n",
    "              loss='sparse_categorical_crossentropy',\n",
    "              metrics=['accuracy'])\n",
    "\n",
    "# Entrainement\n",
    "t0 = time.time()\n",
    "train_history = model.fit(\n",
    "                    X_train,\n",
    "                    y_train,\n",
    "                    epochs=50,\n",
    "                    batch_size=32,\n",
    "                    validation_data=(X_val, y_val),\n",
    "                    callbacks=[reduce_lr, early_stop, checkpoint]\n",
    "                )\n",
    "print(f\"Entraînement réalisé en {time.time()-t0:.2f} secondes.\")\n",
    "\n",
    "# Affichage des résultats\n",
    "plot_history(train_history)\n",
    "visual_classification_report(model, X_test, y_test, \"CLIP-based NN Model\", apply_argmax_to_predict=True)"
   ]
  },
  {
   "cell_type": "code",
   "execution_count": null,
   "id": "f62e0316-36da-4083-bf30-03cb02269687",
   "metadata": {},
   "outputs": [],
   "source": []
  },
  {
   "cell_type": "code",
   "execution_count": null,
   "id": "ca1bb960-5913-4efe-b14b-bbda1cbcf78e",
   "metadata": {},
   "outputs": [],
   "source": []
  },
  {
   "cell_type": "code",
   "execution_count": null,
   "id": "1d04541a-8cc3-45d9-a19d-78f5ac4d377a",
   "metadata": {},
   "outputs": [],
   "source": []
  },
  {
   "cell_type": "code",
   "execution_count": null,
   "id": "f158aae4-769c-4a38-af10-43e5c2b7389c",
   "metadata": {},
   "outputs": [],
   "source": []
  },
  {
   "cell_type": "markdown",
   "id": "808fb6e8-6b50-4e85-9987-07fff4495a26",
   "metadata": {},
   "source": [
    "### 4.13. Modèle 13"
   ]
  },
  {
   "cell_type": "code",
   "execution_count": null,
   "id": "7f2b9561-e5ce-474d-97c3-1398eec6f857",
   "metadata": {},
   "outputs": [],
   "source": []
  },
  {
   "cell_type": "code",
   "execution_count": null,
   "id": "818b924b-c38b-4d4c-adbb-f3e4900d202f",
   "metadata": {},
   "outputs": [],
   "source": []
  },
  {
   "cell_type": "code",
   "execution_count": null,
   "id": "2c01592b-10b2-4d1d-afad-5f7d63aaf664",
   "metadata": {},
   "outputs": [],
   "source": [
    "model = Sequential([\n",
    "    Dense(512, activation='relu', input_shape=(X_train.shape[1],)),\n",
    "    Dropout(0.4),\n",
    "    Dense(128, activation='relu'),\n",
    "    Dropout(0.3),\n",
    "    Dense(32, activation='relu'),\n",
    "    Dropout(0.2),\n",
    "    Dense(16, activation='softmax')  # 16 classes\n",
    "])\n",
    "\n",
    "# Compilation avec sparse_categorical_crossentropy\n",
    "model.compile(optimizer='adam',\n",
    "              loss='sparse_categorical_crossentropy',\n",
    "              metrics=['accuracy'])\n",
    "\n",
    "train_history = model.fit(\n",
    "    X_train, y_train,\n",
    "    validation_data=(X_val, y_val),\n",
    "    epochs=50,\n",
    "    batch_size=32,\n",
    "    callbacks=[reduce_lr]\n",
    ")"
   ]
  },
  {
   "cell_type": "code",
   "execution_count": null,
   "id": "1c9bd14b-2433-4496-ab89-30ab3eff5c4d",
   "metadata": {},
   "outputs": [],
   "source": [
    "plot_history(train_history)"
   ]
  },
  {
   "cell_type": "code",
   "execution_count": null,
   "id": "a0b4e055-4afc-4fbe-87f8-f2d9743bc11c",
   "metadata": {},
   "outputs": [],
   "source": [
    "visual_classification_report(model, X_test, y_test, \"CLIP-based NN Model\")"
   ]
  },
  {
   "cell_type": "code",
   "execution_count": null,
   "id": "dceb8ef5-9df5-47c3-a077-c44781116124",
   "metadata": {},
   "outputs": [],
   "source": [
    "from tensorflow.keras.layers import Dense, LeakyReLU\n",
    "model = Sequential([\n",
    "    Dense(512, input_shape=(X_train.shape[1],)),\n",
    "    LeakyReLU(alpha=0.1),\n",
    "    Dropout(0.4),\n",
    "    Dense(128),\n",
    "    LeakyReLU(alpha=0.1),\n",
    "    Dropout(0.3),\n",
    "    Dense(32),\n",
    "    LeakyReLU(alpha=0.1),\n",
    "    Dropout(0.2),\n",
    "    Dense(16, activation='softmax')  # 16 classes\n",
    "])\n",
    "\n",
    "# Compilation avec sparse_categorical_crossentropy\n",
    "model.compile(optimizer='adam',\n",
    "              loss='sparse_categorical_crossentropy',\n",
    "              metrics=['accuracy'])\n",
    "\n",
    "\n",
    "\n",
    "train_history = model.fit(\n",
    "    X_train, y_train,\n",
    "    validation_data=(X_val, y_val),\n",
    "    epochs=50,\n",
    "    batch_size=32,\n",
    "    callbacks=[reduce_lr]\n",
    ")"
   ]
  },
  {
   "cell_type": "code",
   "execution_count": null,
   "id": "09b79fa0-79ee-4ad7-b4a6-d94571c2e770",
   "metadata": {},
   "outputs": [],
   "source": [
    "plot_history(train_history)"
   ]
  },
  {
   "cell_type": "code",
   "execution_count": null,
   "id": "7dfa8abb-fed5-45e1-bb54-5ba4759beec7",
   "metadata": {},
   "outputs": [],
   "source": [
    "visual_classification_report(model, X_test, y_test, \"CLIP-based NN Model\")"
   ]
  },
  {
   "cell_type": "code",
   "execution_count": null,
   "id": "c24a4fbb-9746-47f6-bc6b-39157fda0c8f",
   "metadata": {},
   "outputs": [],
   "source": []
  },
  {
   "cell_type": "code",
   "execution_count": null,
   "id": "739052a6-30b5-4f60-8a7d-d7d26a5288ef",
   "metadata": {},
   "outputs": [],
   "source": []
  },
  {
   "cell_type": "code",
   "execution_count": null,
   "id": "befb2a5d-6b4a-4bd5-b1db-706ddb867965",
   "metadata": {},
   "outputs": [],
   "source": []
  },
  {
   "cell_type": "code",
   "execution_count": null,
   "id": "340a687a-4c5f-459a-9c26-b11dee693614",
   "metadata": {},
   "outputs": [],
   "source": []
  }
 ],
 "metadata": {
  "kernelspec": {
   "display_name": "Python 3 (ipykernel)",
   "language": "python",
   "name": "python3"
  },
  "language_info": {
   "codemirror_mode": {
    "name": "ipython",
    "version": 3
   },
   "file_extension": ".py",
   "mimetype": "text/x-python",
   "name": "python",
   "nbconvert_exporter": "python",
   "pygments_lexer": "ipython3",
   "version": "3.12.10"
  }
 },
 "nbformat": 4,
 "nbformat_minor": 5
}
