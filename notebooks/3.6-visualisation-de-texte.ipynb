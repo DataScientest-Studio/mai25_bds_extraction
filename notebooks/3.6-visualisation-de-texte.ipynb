{
 "cells": [
  {
   "cell_type": "markdown",
   "id": "3ab906a1-4af0-4b1f-8224-6ed8b5aa1bbb",
   "metadata": {},
   "source": [
    "# Dataviz texte\n",
    "Ce notebook crée un nuage de mots sur les textes océrisés"
   ]
  },
  {
   "cell_type": "markdown",
   "id": "04cf9200-a72a-45d5-8f40-1ff3c065efb5",
   "metadata": {},
   "source": [
    "## 1. Préparation"
   ]
  },
  {
   "cell_type": "code",
   "execution_count": null,
   "id": "23c09c12-24e0-4837-948c-0af4db139811",
   "metadata": {},
   "outputs": [],
   "source": [
    "import sys\n",
    "from pathlib import Path\n",
    "\n",
    "project_root = Path().resolve().parent\n",
    "if not project_root in [Path(p).resolve() for p in sys.path]:\n",
    "    sys.path.append(str(project_root))\n",
    "\n",
    "from src import PATHS"
   ]
  },
  {
   "cell_type": "code",
   "execution_count": null,
   "id": "17113b82-051c-419e-afd3-ccc4652030b9",
   "metadata": {},
   "outputs": [],
   "source": [
    "import pandas as pd\n",
    "from matplotlib import pyplot as plt\n",
    "from wordcloud import WordCloud"
   ]
  },
  {
   "cell_type": "markdown",
   "id": "2665a328-7d8e-4311-bdfb-1aae1ffa874a",
   "metadata": {},
   "source": [
    "## 2. Sur les données brutes"
   ]
  },
  {
   "cell_type": "code",
   "execution_count": null,
   "id": "39a30fb4-ca8f-45ca-8475-328ecf6d3bd5",
   "metadata": {},
   "outputs": [],
   "source": [
    "serie = pd.read_parquet(PATHS.processed_data / \"df_raw_ocr.parquet\").raw_ocr.dropna()\n",
    "serie.head()"
   ]
  },
  {
   "cell_type": "code",
   "execution_count": null,
   "id": "853e5bbc-d9db-4852-aee6-fae675a9dee9",
   "metadata": {},
   "outputs": [],
   "source": [
    "text = \" \".join(serie.sample(10000).values)\n",
    "\n",
    "wordcloud = WordCloud(width=800, height=400, background_color='white').generate(text)\n",
    "\n",
    "plt.figure(figsize=(20, 10))\n",
    "plt.imshow(wordcloud, interpolation='bilinear')\n",
    "plt.axis('off')\n",
    "plt.title(\"Nuage de mots sur les données ocr brutes\")\n",
    "plt.show()\n",
    "\n",
    "# on observe la prédominance de mots de 1 lettres et de l'expression \"pgNbr\", \n",
    "# qui est un artéfact de numérisation ou d'océrisation\n"
   ]
  },
  {
   "cell_type": "markdown",
   "id": "c748084f-ee79-43a0-a2f5-78cdd599e4a5",
   "metadata": {},
   "source": [
    "## 2. Sur les données préprocessées\n",
    "Pour exécuter cette partie, il faut avoir exécuté le notebook 4.3 (text preprocessing)"
   ]
  },
  {
   "cell_type": "code",
   "execution_count": null,
   "id": "f13cb4eb-43e5-4892-8833-46d97578a0c8",
   "metadata": {},
   "outputs": [],
   "source": [
    "serie = pd.read_parquet(PATHS.processed_data / \"df_txt_ocr1.parquet\").ocr.dropna()\n",
    "serie.head()"
   ]
  },
  {
   "cell_type": "code",
   "execution_count": null,
   "id": "fa6f9322-2471-46a2-ba5f-86c722d51bd4",
   "metadata": {},
   "outputs": [],
   "source": [
    "text = \" \".join(serie.sample(10000).values)\n",
    "\n",
    "wordcloud = WordCloud(width=800, height=400, background_color='white').generate(text)\n",
    "\n",
    "plt.figure(figsize=(20, 10))\n",
    "plt.imshow(wordcloud, interpolation='bilinear')\n",
    "plt.axis('off')\n",
    "plt.title(\"Nuage de mots sur les données ocr brutes\")\n",
    "plt.show()\n",
    "\n",
    "# il reste des mots de 2 lettres qui ne semblent pas avoir vraiment de sens\n",
    "# mais on observe beaucoup moins de pollution par des artéfacts d'océrisation\n"
   ]
  },
  {
   "cell_type": "code",
   "execution_count": null,
   "id": "ce4b5fc7-9b2f-47d7-8ce9-d16704e00104",
   "metadata": {},
   "outputs": [],
   "source": []
  }
 ],
 "metadata": {
  "kernelspec": {
   "display_name": "Python 3 (ipykernel)",
   "language": "python",
   "name": "python3"
  },
  "language_info": {
   "codemirror_mode": {
    "name": "ipython",
    "version": 3
   },
   "file_extension": ".py",
   "mimetype": "text/x-python",
   "name": "python",
   "nbconvert_exporter": "python",
   "pygments_lexer": "ipython3",
   "version": "3.12.10"
  }
 },
 "nbformat": 4,
 "nbformat_minor": 5
}
