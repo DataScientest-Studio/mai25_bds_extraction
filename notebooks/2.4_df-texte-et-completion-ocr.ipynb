{
 "cells": [
  {
   "cell_type": "markdown",
   "id": "96a873bd-c824-4abc-97ae-c1995e2d771c",
   "metadata": {},
   "source": [
    "# Création DataFrame IIT_CDIP_COLL_XML_FEATURES"
   ]
  },
  {
   "cell_type": "markdown",
   "id": "4b2f69fa-179c-4dc8-bd79-86a87c6f4cc0",
   "metadata": {},
   "source": [
    "## README\n",
    "Après comparaison des différentes dataframes, il apparait que la base de données ayant la meilleure complétude et les odnnées naturellement les plus propres est celle contenue dans df_iit_cdip_coll_xml_ltdlwocr_features.\n",
    "\n",
    "En choisissant de ne traiter un document que sur les seules informations qu'il contient (et donc sans les métadonnées telles que son emetteur, son récipiendaire, ...), nous avons choisi de ne concerver que l'ocr.\n",
    "\n",
    "Ce notebook permet de créer un dataframe qui contiendra ces seules données (chapitre 2).\n",
    "\n",
    "Dans un deuxième temps (chapitre 3), les données manquantes seront complétées par utilisation d'un outil d'océrisation sur les images IIT-CDIP (meilleure résolution que RVL-CDIP) correspondantes.\n"
   ]
  },
  {
   "cell_type": "markdown",
   "id": "ba9ac3b2-34f0-4771-864c-56431bed3dd7",
   "metadata": {},
   "source": [
    "## 1. Préparation"
   ]
  },
  {
   "cell_type": "code",
   "execution_count": 1,
   "id": "23c09c12-24e0-4837-948c-0af4db139811",
   "metadata": {},
   "outputs": [],
   "source": [
    "import sys\n",
    "from pathlib import Path\n",
    "\n",
    "project_root = Path().resolve().parent\n",
    "if not project_root in [Path(p).resolve() for p in sys.path]:\n",
    "    sys.path.append(str(project_root))\n",
    "\n",
    "from src import PATHS"
   ]
  },
  {
   "cell_type": "code",
   "execution_count": 34,
   "id": "91d20fdd-ae3f-45b5-87b3-f5c7544e87c6",
   "metadata": {},
   "outputs": [],
   "source": [
    "import pandas as pd\n",
    "from PIL import Image\n",
    "import pytesseract\n",
    "from tqdm import tqdm"
   ]
  },
  {
   "cell_type": "markdown",
   "id": "c708c844-5844-4695-b8d9-8f2f7d85d869",
   "metadata": {},
   "source": [
    "## 2. Préparation de la base de données"
   ]
  },
  {
   "cell_type": "code",
   "execution_count": 45,
   "id": "951509bd-28e0-484f-ba85-e73d259f56ce",
   "metadata": {},
   "outputs": [
    {
     "data": {
      "text/plain": [
       "ocr_output    11356\n",
       "dtype: int64"
      ]
     },
     "execution_count": 45,
     "metadata": {},
     "output_type": "execute_result"
    }
   ],
   "source": [
    "df_ocr = pd.read_parquet(PATHS.processed_data / \"df_iit_cdip_coll_xml_ltdlwocr_features.parquet\")[[\"ocr_output\"]]\n",
    "df_ocr.isna().sum()"
   ]
  },
  {
   "cell_type": "markdown",
   "id": "b484abd5-148f-458a-8386-0536bafd82c6",
   "metadata": {},
   "source": [
    "## 3. Complétion des ocr manquants"
   ]
  },
  {
   "cell_type": "code",
   "execution_count": 25,
   "id": "0561e0e1-69c7-4cd9-a429-63c535aea702",
   "metadata": {},
   "outputs": [],
   "source": [
    "df_documents = pd.read_parquet(PATHS.metadata / \"df_documents.parquet\")\n",
    "missing_ocrs = df_documents[df_documents.join(df_ocr).ocr_output.isna()]"
   ]
  },
  {
   "cell_type": "code",
   "execution_count": 30,
   "id": "be217274-3f51-4a44-8248-97c89a00fd53",
   "metadata": {},
   "outputs": [],
   "source": [
    "image_paths = PATHS.data / pd.read_parquet(PATHS.metadata / \"df_filepaths.parquet\").iit_image_path"
   ]
  },
  {
   "cell_type": "code",
   "execution_count": 22,
   "id": "e714116e-0a32-4cfd-9ddd-ffd263afef64",
   "metadata": {},
   "outputs": [
    {
     "name": "stdout",
     "output_type": "stream",
     "text": [
      "Tesseract version: 5.5.1\n",
      "pytesseract est bien configuré.\n"
     ]
    }
   ],
   "source": [
    "import pytesseract\n",
    "try:\n",
    "    version = pytesseract.get_tesseract_version()\n",
    "    print(\"Tesseract version:\", version)\n",
    "    print(\"pytesseract est bien configuré.\")\n",
    "except Exception as e:\n",
    "    print(\"Erreur:\", e)"
   ]
  },
  {
   "cell_type": "code",
   "execution_count": 23,
   "id": "2053b4e2-a3a7-44ed-81ac-5c50f601596a",
   "metadata": {},
   "outputs": [
    {
     "name": "stdout",
     "output_type": "stream",
     "text": [
      "Tesseract version: 5.5.1\n",
      "pytesseract est bien configuré.\n"
     ]
    }
   ],
   "source": [
    "# EN CAS D'ERREUR\n",
    "# Si tesseract est bien installé mais ne se trouve pas dans le path, il est possible de définir son chemin avec cette commande:\n",
    "pytesseract.pytesseract.tesseract_cmd = \"/opt/homebrew/bin/tesseract\" # Chemin à mettre à jour le cas echeant\n",
    "\n",
    "try:\n",
    "    version = pytesseract.get_tesseract_version()\n",
    "    print(\"Tesseract version:\", version)\n",
    "    print(\"pytesseract est bien configuré.\")\n",
    "except Exception as e:\n",
    "    print(\"Erreur:\", e)"
   ]
  },
  {
   "cell_type": "code",
   "execution_count": 24,
   "id": "ec88fa4d-ea90-4bdd-b5e3-75e23205e41c",
   "metadata": {},
   "outputs": [],
   "source": [
    "def extract_text_from_image(image_path: str) -> str:\n",
    "    image = Image.open(image_path)\n",
    "    text = pytesseract.image_to_string(image)\n",
    "    return text"
   ]
  },
  {
   "cell_type": "code",
   "execution_count": null,
   "id": "4abf8b5a-eed1-4d5d-bd79-1b917407d41e",
   "metadata": {},
   "outputs": [
    {
     "name": "stderr",
     "output_type": "stream",
     "text": [
      " 69%|██████████████████████████████████████████████████████████████████████████████████████████████▉                                           | 9182/13346 [2:08:58<29:28,  2.35it/s]"
     ]
    }
   ],
   "source": [
    "# Environ 3h00 de calcul pour 13346+ lignes\n",
    "ocrs = []\n",
    "for file_path in tqdm(image_paths[missing_ocrs.index].values):\n",
    "    ocrs.append(extract_text_from_image(file_path))\n",
    "pd.DataFrame(ocrs, index=missing_ocrs.index)"
   ]
  },
  {
   "cell_type": "code",
   "execution_count": null,
   "id": "a5553acb-c999-4074-87f9-093ee4d55de5",
   "metadata": {},
   "outputs": [],
   "source": [
    "recomputed_ocrs = pd.DataFrame(ocrs, index=missing_ocrs, columns = [\"ocr_output\"])"
   ]
  },
  {
   "cell_type": "code",
   "execution_count": null,
   "id": "d71c17a8-55f5-4b1d-b548-45ee9e9e3adf",
   "metadata": {},
   "outputs": [],
   "source": [
    "df_ocr.combine_first(recomputed_ocrs).isna().sum()"
   ]
  },
  {
   "cell_type": "markdown",
   "id": "a37fd946-91d5-4c86-bdf8-e41eb02b3222",
   "metadata": {},
   "source": [
    "### 3.2. Sauvegarde des DataFrames"
   ]
  },
  {
   "cell_type": "code",
   "execution_count": null,
   "id": "5f3d4dcd-919e-42a1-94bf-3d4fc5c634a6",
   "metadata": {},
   "outputs": [],
   "source": [
    "df_ocr.to_parquet(PATHS.processed_data / \"df_raw_ocr.parquet\")"
   ]
  }
 ],
 "metadata": {
  "kernelspec": {
   "display_name": "Python 3 (ipykernel)",
   "language": "python",
   "name": "python3"
  },
  "language_info": {
   "codemirror_mode": {
    "name": "ipython",
    "version": 3
   },
   "file_extension": ".py",
   "mimetype": "text/x-python",
   "name": "python",
   "nbconvert_exporter": "python",
   "pygments_lexer": "ipython3",
   "version": "3.12.10"
  }
 },
 "nbformat": 4,
 "nbformat_minor": 5
}
