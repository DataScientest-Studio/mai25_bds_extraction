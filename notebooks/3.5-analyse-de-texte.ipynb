{
 "cells": [
  {
   "cell_type": "markdown",
   "id": "1bb11ded-23ae-41fe-9b9e-bc0c90a61598",
   "metadata": {},
   "source": [
    "# Preprocessing text-mining\n",
    "Ce notebook explore les données ocr burtes afin d'en comprendre les principales caractéristiques. Il ne contient, en lui-meme, pas de résultat mais a permis d'identifier les pistes de traitements qui ont permis:\n",
    "- de choisir d'utiliser les données ltdrwocr\n",
    "- d'identifier les améliorations qui seront mises en oevre dans le notebook de preprocessing du texte (4.3)"
   ]
  },
  {
   "cell_type": "code",
   "execution_count": null,
   "id": "23c09c12-24e0-4837-948c-0af4db139811",
   "metadata": {},
   "outputs": [],
   "source": [
    "import sys\n",
    "from pathlib import Path\n",
    "\n",
    "project_root = Path().resolve().parent\n",
    "if not project_root in [Path(p).resolve() for p in sys.path]:\n",
    "    sys.path.append(str(project_root))\n",
    "\n",
    "from src import PATHS"
   ]
  },
  {
   "cell_type": "code",
   "execution_count": null,
   "id": "3fb46a27-3bcd-48f1-89cb-f87de0c2cc23",
   "metadata": {},
   "outputs": [],
   "source": [
    "import os\n",
    "import time\n",
    "import numpy as np\n",
    "import pandas as pd\n",
    "import seaborn as sns\n",
    "from matplotlib import pyplot as plt"
   ]
  },
  {
   "cell_type": "markdown",
   "id": "ef79ab98-f718-4a54-8966-b0b48eefb537",
   "metadata": {},
   "source": [
    "# 1. Chargement des données"
   ]
  },
  {
   "cell_type": "code",
   "execution_count": null,
   "id": "db57da6a-d148-4746-8e02-7819efe00452",
   "metadata": {},
   "outputs": [],
   "source": [
    "df = pd.read_parquet(PATHS.processed_data / \"df_raw_ocr.parquet\")\\\n",
    "    .join(pd.read_parquet(PATHS.metadata / \"df_encoded_labels.parquet\"))\\\n",
    "    .join(pd.read_parquet(PATHS.metadata / \"data_sets.parquet\"))\n",
    "df.head()"
   ]
  },
  {
   "cell_type": "code",
   "execution_count": null,
   "id": "199581c3-a2a7-48e6-99b4-485e81a561cf",
   "metadata": {},
   "outputs": [],
   "source": [
    "df = df.dropna()\n",
    "# df.drop(columns=\"raw_ocr\").groupby(\"data_set\").value_counts()\n",
    "plt.figure(figsize =(10, 5))\n",
    "plt.subplot(121)\n",
    "sns.countplot(\n",
    "    data = df,\n",
    "    x = \"label\",\n",
    "    hue = \"data_set\",\n",
    "    stat=\"percent\"\n",
    "\n",
    ")\n",
    "plt.title(\"En pourcentage du nombre de lignes total\")\n",
    "plt.subplot(122)\n",
    "\n",
    "# je n'ai pas réussi à faire ce graphe avec seaborn nativement...\n",
    "df_grouped = (\n",
    "    df.groupby([\"data_set\", \"label\"])\n",
    "    .size()\n",
    "    .reset_index(name=\"count\")\n",
    ")\n",
    "df_grouped[\"percent\"] = df_grouped.groupby(\"data_set\")[\"count\"].transform(lambda x: x / x.sum() * 100)\n",
    "\n",
    "sns.barplot(\n",
    "    data=df_grouped,\n",
    "    x=\"label\",\n",
    "    y=\"percent\",\n",
    "    hue=\"data_set\"\n",
    ")\n",
    "plt.title(\"En pourcentage du nombre de lignes du data_set\")\n",
    "plt.suptitle(\"Distributions des différents labels\")"
   ]
  },
  {
   "cell_type": "markdown",
   "id": "c2e3900c-5aee-44fd-a57d-7a70a7a8fcfc",
   "metadata": {},
   "source": [
    "Les distributions sont globalement uniformes, avec un affaiblissement des catégories 8, 4 et 3."
   ]
  },
  {
   "cell_type": "code",
   "execution_count": null,
   "id": "a9ea527e-51d3-452c-b29d-a2779978344c",
   "metadata": {},
   "outputs": [],
   "source": [
    "train = df[df.data_set == \"train\"].drop(columns=\"data_set\")\n",
    "test = df[df.data_set == \"test\"].drop(columns=\"data_set\")\n",
    "val = df[df.data_set == \"val\"].drop(columns=\"data_set\")"
   ]
  },
  {
   "cell_type": "markdown",
   "id": "40bd5ea9-6717-4ae5-870c-a4890768913c",
   "metadata": {},
   "source": [
    "A partir de maintenant, nous ne travaillons que sur train"
   ]
  },
  {
   "cell_type": "markdown",
   "id": "fd23bfcb-9ffe-4de7-b085-9406824121cc",
   "metadata": {},
   "source": [
    "# 2. Etude manuelle des défauts d'OCR"
   ]
  },
  {
   "cell_type": "code",
   "execution_count": null,
   "id": "7360bf51-9a4f-4111-9295-6ac14912286a",
   "metadata": {},
   "outputs": [],
   "source": [
    "# OPERATION PREALABLE // A RETIRER QUAND PROCESSUS STABLE\n",
    "\n",
    "train = train[:1000]"
   ]
  },
  {
   "cell_type": "code",
   "execution_count": null,
   "id": "f8e104bc-1b8a-4bc5-815f-326861be8ba1",
   "metadata": {},
   "outputs": [],
   "source": [
    "# Pour faciliter les premières analyses, on va se limiter aux ocr dont le nombre de caractères n'est pas trop long:\n",
    "train_short_ocrs = train[train.raw_ocr.str.len()<500]\n",
    "# len(train_short_ocrs) @=197"
   ]
  },
  {
   "cell_type": "code",
   "execution_count": null,
   "id": "ce4d24b2-5cfd-4ec6-a299-abbf2814fe6d",
   "metadata": {},
   "outputs": [],
   "source": [
    "# La fonction ocr_insight permet d'afficher une image et son texte océrisé côte à côte.\n",
    "# Cela va nous permettre de mieux comprendre certains ocr\n",
    "from PIL import Image\n",
    "import io\n",
    "import base64\n",
    "from IPython.display import display, HTML\n",
    "\n",
    "image_paths = pd.read_parquet(documents_file)\\\n",
    "    .set_index(\"document_id\")\\\n",
    "    [[\"rvl_image_path\", \"iit_image_path\"]]\n",
    "\n",
    "def display_tiff_pages(tiff_path):\n",
    "    img = Image.open(tiff_path)\n",
    "\n",
    "    for i in range(img.n_frames):\n",
    "        img.seek(i)  # Aller à la page i\n",
    "        buffered = BytesIO()\n",
    "        img.save(buffered, format=\"PNG\")\n",
    "        img_b64 = base64.b64encode(buffered.getvalue()).decode()\n",
    "        \n",
    "        html_blocks.append(f'<img src=\"data:image/png;base64,{img_b64}\" style=\"width: 60%; margin-bottom: 20px;\" />')\n",
    "\n",
    "    display(HTML(\"<br>\".join(html_blocks)))\n",
    "\n",
    "\n",
    "\n",
    "\n",
    "def get_image(document_id):\n",
    "    \"\"\"Return a BytesIO png converted image, which will be compatible with html display\"\"\"\n",
    "    image_path = os.path.join(\n",
    "        data_path,\n",
    "        image_paths.loc[document_id, \"iit_image_path\"]\n",
    "    )\n",
    "    \n",
    "    html_blocks = []\n",
    "    img = Image.open(image_path)\n",
    "    \n",
    "    for i in range(img.n_frames):\n",
    "        img.seek(i)  # Aller à la page i\n",
    "        buffered = io.BytesIO()\n",
    "        img.save(buffered, format=\"PNG\")\n",
    "        img_b64 = base64.b64encode(buffered.getvalue()).decode()\n",
    "        \n",
    "        html_blocks.append(f'<img src=\"data:image/png;base64,{img_b64}\" />')\n",
    "    return html_blocks\n",
    "    \n",
    "def ocr_insight(document_id):\n",
    "    text = train.loc[document_id, \"raw_ocr\"]\n",
    "    raw_text = repr(text)\n",
    "    interpretated_text = '\\n'.join([\n",
    "        f\"<p>{line}</p>\"\n",
    "        for line in text.splitlines()])\n",
    "    image = get_image(document_id)\n",
    "    \n",
    "    html_code = f\"\"\"\n",
    "    <div style=\"display: flex; align-items: center;\">\n",
    "      <div style=\"width: 40%; max-height: 600px; overflow-y: auto\">\n",
    "        <p><strong>Texte brut :</strong></p>\n",
    "        <p>{raw_text}</p>\n",
    "        <p><strong>Texte interprété :</strong></p>\n",
    "        {interpretated_text}\n",
    "      </div>\n",
    "      <div style=\"width: 60%\"; max-height: 600px>\n",
    "        {\"<br>\".join(get_image(document_id))}\n",
    "    </div>@\n",
    "    </div>\n",
    "    \"\"\"\n",
    "#      <img src=\"data:image/png;base64,{image}\" style=\"width: 60%; margin-right: 20px;\">\n",
    "    display(HTML(html_code))"
   ]
  },
  {
   "cell_type": "code",
   "execution_count": null,
   "id": "4c70fade-a028-41ca-8aad-4e6f57399963",
   "metadata": {},
   "outputs": [],
   "source": [
    "ocr_insight(train_short_ocrs.index[0])\n"
   ]
  },
  {
   "cell_type": "markdown",
   "id": "fc2251da-6261-4fc0-889b-6fc9e113ce0e",
   "metadata": {},
   "source": [
    "<span style=\"color:blue\">**Analyse :**</span>\n",
    "- pgNbr inutile\n",
    "- une typo (6ring qui est sans doute bring)"
   ]
  },
  {
   "cell_type": "code",
   "execution_count": null,
   "id": "e6a02860-96ed-4286-9fda-062543743e7b",
   "metadata": {},
   "outputs": [],
   "source": [
    "ocr_insight(train_short_ocrs.index[1])\n"
   ]
  },
  {
   "cell_type": "markdown",
   "id": "b4871134-829a-4947-aaa2-df17ad500719",
   "metadata": {},
   "source": [
    "<span style=\"color:blue\">**Analyse :**</span>\n",
    "- OCR inexploitable (aucune information captée du fait de l'écriture manuscrite)\n",
    "- nombre de pages (2)  difficile à interpréter (le document ne semble en contenir qu'une)\n",
    "- le nombre de page est un artéfact de la numérisation ==> a supprimer car ce n'est pas une information provenant du document"
   ]
  },
  {
   "cell_type": "code",
   "execution_count": null,
   "id": "e9d9ebd6-319b-4917-92f9-688c624cf1f5",
   "metadata": {},
   "outputs": [],
   "source": [
    "ocr_insight(train_short_ocrs.index[2])\n"
   ]
  },
  {
   "cell_type": "markdown",
   "id": "a06255b4-21af-434c-a0f3-42d38396e8a5",
   "metadata": {},
   "source": [
    "<span style=\"color:blue\">**Analyse :**</span>\n",
    "- OCR parfait (hors pgNbr)"
   ]
  },
  {
   "cell_type": "code",
   "execution_count": null,
   "id": "c5f2375c-5174-433c-9590-3639d14280e1",
   "metadata": {},
   "outputs": [],
   "source": [
    "ocr_insight(train_short_ocrs.index[3])\n"
   ]
  },
  {
   "cell_type": "markdown",
   "id": "49a04892-525d-4d6e-aea8-d360884c1a6e",
   "metadata": {},
   "source": [
    "<span style=\"color:blue\">**Analyse :**</span>\n",
    "- OCR globalement bon (perturbation sur les taches et manques de précision: \"Rw\" pour \"Rev\",...\n",
    "- texte manuscrit ignorées\n",
    "- ordre de lecture naturel non respecté (pour le tableau approvals, on parcourt la premiere colonne jusq'a 3 puis les entetes de colonne, puis la suite de la premiere colonne\n",
    "- artéfact \"f li\"\n",
    "- toujours le pgNbr"
   ]
  },
  {
   "cell_type": "code",
   "execution_count": null,
   "id": "b30a5cc0-5ae1-4d95-a52c-760ad910d52d",
   "metadata": {},
   "outputs": [],
   "source": [
    "ocr_insight(train_short_ocrs.index[4])\n"
   ]
  },
  {
   "cell_type": "markdown",
   "id": "4e9571e8-78c2-45a9-bdc2-e6aa992c605c",
   "metadata": {},
   "source": [
    "<span style=\"color:blue\">**Analyse :**</span>\n",
    "- non détection du texte blanc sur fond noir\n",
    "- non détection du texte dans l'encart en bas à gauche (comme si un traitement par lignesavait choisi de ne pas le traiter)\n",
    "- assez peu de mauvaises détections\n",
    "- textes du bas souffrant d'erreurs: nicmine pour nicotine, mdds pour milds, rigarette pour cigarette\n",
    "- toujours le pgNbr"
   ]
  },
  {
   "cell_type": "code",
   "execution_count": null,
   "id": "8f5449d7-198d-44ff-8154-e42ffcb51972",
   "metadata": {},
   "outputs": [],
   "source": [
    "# @Alexis, je te laisse continuer si tu veux..."
   ]
  },
  {
   "cell_type": "markdown",
   "id": "e89908b8-f856-4611-97aa-2503a4c087ed",
   "metadata": {},
   "source": [
    "## Conclusion\n",
    "Pour les traitements à venir, nous avons observé qu'il pourrait être utile:\n",
    "- retirer toutes les informations relatives au pgNbr=x;\n",
    "- \"déséchapper\" tous les caractères html (&lt, &amp, ...) // non vu ici mais est facilement identifié avec train[train.raw_ocr.str.contains(\"&lt\")]\n",
    "- corriger avec un outil spécialisé les erreurs d'océrisation, avec si possible prise en compte du contexte;\n",
    "- ne pas espérer avoir de résultats sur les textes écrits à la main\n",
    "- de supprimer les caractères spéciaux, voire les lignes contenant plus de ces caractères erronés que de caractères alphanumériques;\n",
    "- de conserver aussi longtemps que possible les lignes, qui sont en général cohérentes;\n",
    "- de considérer, in fine comme na les documents qui ne contiennent plus assez d'information (nombre de mots trop faible)"
   ]
  },
  {
   "cell_type": "markdown",
   "id": "def3f099-c30d-4857-bf7e-3b870d1fc8d8",
   "metadata": {},
   "source": [
    "# 3. Vérification d'hypothèses"
   ]
  },
  {
   "cell_type": "markdown",
   "id": "78a10de9-a502-46c8-8fa3-355736ed7be9",
   "metadata": {},
   "source": [
    "## 3.1. Isolement des \"Handwritten\" par un pattern spécifique\n",
    "On a remarqué que les ocr correspondant à des handwritten étaient souvent formés de la même manière. Nous allons essayer de trouver un pattern qui permette de les isoler avec un bon score d'accuracy.\n",
    "Nous travaillons sur le jeu de données train, pour éviter toute fuite de données."
   ]
  },
  {
   "cell_type": "code",
   "execution_count": null,
   "id": "37a89850-e97d-429f-bafc-c9af993e076b",
   "metadata": {},
   "outputs": [],
   "source": [
    "df_hw_train = df[(df.label == 3) & (df.data_set == \"train\")]\n",
    "df_others_train = df[(df.label != 3) & (df.data_set == \"train\")]"
   ]
  },
  {
   "cell_type": "code",
   "execution_count": null,
   "id": "faeae739-6502-45f0-91ed-ad094f8655f6",
   "metadata": {},
   "outputs": [],
   "source": [
    "df_hw_train.head(10)"
   ]
  },
  {
   "cell_type": "raw",
   "id": "bb768264-6062-4063-95a7-cfc736b60968",
   "metadata": {},
   "source": [
    "ocr_insight('aad56d00')"
   ]
  },
  {
   "cell_type": "code",
   "execution_count": null,
   "id": "1c727692-7669-4bcb-aa60-2d05474b1232",
   "metadata": {},
   "outputs": [],
   "source": [
    "# On va verifier combien de documents contiennent plus de 5 mots de deux lettres.\n"
   ]
  },
  {
   "cell_type": "code",
   "execution_count": null,
   "id": "bb076bcf-58b7-44be-ab1b-d1c0c38482b1",
   "metadata": {},
   "outputs": [],
   "source": [
    "import re\n",
    "\n",
    "# A améliorer pour prendre en compte les lignes\n",
    "# sans doute trop brutal / il faudra le réviser sur d'autres versions ultérieures?\n",
    "def basic_word_filter(text):\n",
    "    if not text:\n",
    "        return text\n",
    "    text = text.lower()\n",
    "    # Attention, c'est brutal, ca supprime tous les chiffres aussi...\n",
    "    word_regex = re.compile(r'[a-z]{4,}')\n",
    "    text = ' '.join(word_regex.findall(text))\n",
    "    \n",
    "    return text"
   ]
  },
  {
   "cell_type": "code",
   "execution_count": null,
   "id": "f35eb287-ac53-4aeb-9fd2-482104235238",
   "metadata": {},
   "outputs": [],
   "source": [
    "def word_count(text):\n",
    "    words = text.split(' ')\n",
    "    return len(words)\n",
    "    \n",
    "text = \"pgnbr vt rr zlle am ln oajl amp pgnbr\""
   ]
  },
  {
   "cell_type": "code",
   "execution_count": null,
   "id": "75b7b2b3-fa7a-4e1e-a775-f38714af8f6a",
   "metadata": {},
   "outputs": [],
   "source": [
    "def handwritten_filter(text):\n",
    "    \"\"\"says if a text is handwritten or not\"\"\"\n",
    "    if word_count(basic_word_filter(text)) < 15:\n",
    "        return True\n",
    "    else:\n",
    "        return False"
   ]
  },
  {
   "cell_type": "code",
   "execution_count": null,
   "id": "6d2924b0-1db7-496e-8614-9a94d3fa3385",
   "metadata": {},
   "outputs": [],
   "source": []
  },
  {
   "cell_type": "raw",
   "id": "d107ef04-79f3-4781-99f6-944b31cbcf79",
   "metadata": {},
   "source": [
    "type(df.data_set)"
   ]
  },
  {
   "cell_type": "raw",
   "id": "25045b4c-6b8d-469e-bdf9-b33cda43baf0",
   "metadata": {},
   "source": [
    "type(df[\"data_set\"])"
   ]
  },
  {
   "cell_type": "raw",
   "id": "f5c5b893-8f37-4762-b585-e497e695b42a",
   "metadata": {},
   "source": [
    "type(df[[\"data_set\"]])"
   ]
  },
  {
   "cell_type": "raw",
   "id": "23484e80-53ae-4cd2-9b43-ed0dcfc426c8",
   "metadata": {},
   "source": [
    "tmp = df[[\"data_set\"]]\n",
    "tmp[\"toto\"] = df.data_set.str.upper()\n",
    "tmp.insert("
   ]
  },
  {
   "cell_type": "raw",
   "id": "9f9e18e7-5c99-4123-afe0-624f25c160b6",
   "metadata": {},
   "source": [
    "tmp = df.data_set\n",
    "tmp[\"toto\"] = df.data_set.str.upper()\n",
    "tmp"
   ]
  },
  {
   "cell_type": "code",
   "execution_count": null,
   "id": "32385a8a-0bf5-417d-9cf7-dd827b0e8c22",
   "metadata": {},
   "outputs": [],
   "source": [
    "X_train = df[df.data_set == \"train\"].drop(columns=[\"label\", \"data_set\"])\n",
    "y_train = df[df[\"data_set\"] == \"train\"][\"label\"] == 3"
   ]
  },
  {
   "cell_type": "code",
   "execution_count": null,
   "id": "5ca3428c-9dae-4c46-89b2-8fdc25028187",
   "metadata": {},
   "outputs": [],
   "source": [
    "y_pred = X_train.raw_ocr.apply(handwritten_filter)"
   ]
  },
  {
   "cell_type": "code",
   "execution_count": null,
   "id": "3c09997c-8400-4f66-90a4-90db9c363644",
   "metadata": {},
   "outputs": [],
   "source": [
    "from sklearn.metrics import classification_report"
   ]
  },
  {
   "cell_type": "code",
   "execution_count": null,
   "id": "2fe21a8f-b524-4bec-b42a-8f1d59f7312b",
   "metadata": {},
   "outputs": [],
   "source": [
    "print(classification_report(y_train, y_pred))"
   ]
  },
  {
   "cell_type": "code",
   "execution_count": null,
   "id": "37ea0a54-63ee-4c72-8e04-e217494f0be5",
   "metadata": {},
   "outputs": [],
   "source": [
    "wc_results = X_train.raw_ocr.apply(basic_word_filter).apply(word_count)"
   ]
  },
  {
   "cell_type": "raw",
   "id": "7e1dab62-a230-495e-8d70-d9ea8b5a7c73",
   "metadata": {},
   "source": [
    "plt.xlim("
   ]
  },
  {
   "cell_type": "code",
   "execution_count": null,
   "id": "cb25bf3d-11d8-43d1-b7c2-ec3716836f1c",
   "metadata": {},
   "outputs": [],
   "source": [
    "import seaborn as sns\n",
    "from matplotlib import pyplot as plt\n",
    "\n",
    "plt.figure(figsize=(20,10))\n",
    "sns.histplot(wc_results.values, bins = [0,1,2,3,4,5, 10, 15, 20, 30, 40, 50,100]);\n",
    "# plt.xlim(0, 10);"
   ]
  },
  {
   "cell_type": "code",
   "execution_count": null,
   "id": "98eda7f1-fcd7-49cd-bfd7-cc384e6059fe",
   "metadata": {},
   "outputs": [],
   "source": []
  },
  {
   "cell_type": "code",
   "execution_count": null,
   "id": "51055738-65fb-4b28-bb53-994513667b46",
   "metadata": {},
   "outputs": [],
   "source": [
    "df_hw_train[df_hw_train.raw_ocr.apply(basic_word_filter).apply(word_count) <10]"
   ]
  },
  {
   "cell_type": "code",
   "execution_count": null,
   "id": "d5610d6a-dcf0-4f48-aa4c-dd7a921d293e",
   "metadata": {},
   "outputs": [],
   "source": [
    "df_others_train[df_others_train.raw_ocr.apply(basic_word_filter).apply(word_count) <10]"
   ]
  },
  {
   "cell_type": "code",
   "execution_count": null,
   "id": "e772bea5-046f-4893-93ce-4eb1bcdcdbb3",
   "metadata": {},
   "outputs": [],
   "source": [
    "len(df_others_train)"
   ]
  },
  {
   "cell_type": "code",
   "execution_count": null,
   "id": "8d98bd69-a246-4dcb-a885-2ef805ba1fbc",
   "metadata": {},
   "outputs": [],
   "source": [
    "# Avec un filtre à 10 mots, on arrive a identifier environ 15500 handwritten sur 20000\n",
    "# dans le même temps, on identifierait à tort 16665 documents sur 290000 \n"
   ]
  },
  {
   "cell_type": "raw",
   "id": "26d9207d-79ca-408a-8d57-4e9bc678e533",
   "metadata": {},
   "source": [
    "df_hw_train.raw_ocr.values[:10]"
   ]
  }
 ],
 "metadata": {
  "kernelspec": {
   "display_name": "Python 3 (ipykernel)",
   "language": "python",
   "name": "python3"
  },
  "language_info": {
   "codemirror_mode": {
    "name": "ipython",
    "version": 3
   },
   "file_extension": ".py",
   "mimetype": "text/x-python",
   "name": "python",
   "nbconvert_exporter": "python",
   "pygments_lexer": "ipython3",
   "version": "3.12.10"
  }
 },
 "nbformat": 4,
 "nbformat_minor": 5
}
