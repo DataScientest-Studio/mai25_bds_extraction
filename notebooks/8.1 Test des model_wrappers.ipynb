{
 "cells": [
  {
   "cell_type": "code",
   "execution_count": null,
   "id": "5da9a69b-bef6-4d16-bd29-ed9c8f074f60",
   "metadata": {},
   "outputs": [],
   "source": [
    "import sys\n",
    "from pathlib import Path\n",
    "import pandas as pd\n",
    "from tqdm import tqdm\n",
    "project_root = Path().resolve().parent\n",
    "if not project_root in [Path(p).resolve() for p in sys.path]:\n",
    "    sys.path.append(str(project_root))\n",
    "\n",
    "from src import PATHS"
   ]
  },
  {
   "cell_type": "code",
   "execution_count": null,
   "id": "ef35c278-32ee-45e4-90d5-31b483d22f0c",
   "metadata": {},
   "outputs": [],
   "source": [
    "from src.models.model_wrappers import ModelWrapperFactory"
   ]
  },
  {
   "cell_type": "code",
   "execution_count": null,
   "id": "9b496ba6-46bb-4bc9-bc7f-fc07c2cef705",
   "metadata": {},
   "outputs": [],
   "source": [
    "documents = pd.read_parquet(PATHS.metadata / \"df_documents.parquet\")\n",
    "labels = pd.read_parquet(PATHS.metadata / \"df_encoded_labels.parquet\").label"
   ]
  },
  {
   "cell_type": "markdown",
   "id": "4eebfdae-6d90-467a-817c-1dc098c47dd6",
   "metadata": {},
   "source": [
    "### _________________________________________________________________________________________________________________________________________________________________________________________________________________"
   ]
  },
  {
   "cell_type": "markdown",
   "id": "20406983-704c-4cde-b6af-656f432a7488",
   "metadata": {},
   "source": [
    "# TEST"
   ]
  },
  {
   "cell_type": "code",
   "execution_count": null,
   "id": "3d86e599-f68a-412d-8e02-d200be441c5b",
   "metadata": {},
   "outputs": [],
   "source": [
    "registered = ModelWrapperFactory.get_registered()\n",
    "registered"
   ]
  },
  {
   "cell_type": "code",
   "execution_count": null,
   "id": "b12c6e7a-89ba-491e-8c3a-d3fb6cefe64a",
   "metadata": {},
   "outputs": [],
   "source": [
    "# Tableau de predictions"
   ]
  },
  {
   "cell_type": "code",
   "execution_count": null,
   "id": "27694d8d-5c65-4e8e-a768-ccd841a63f01",
   "metadata": {},
   "outputs": [],
   "source": [
    "# to_load = registered\n",
    "to_load = [\n",
    "    'Image-based ResNet50 frozen',\n",
    "    'Image-based VGG16 unfreezed',\n",
    "    'Image-based LGBM',\n",
    "    'Text-based Logistic Regressor',\n",
    "    'Text-based MLP1',\n",
    "    'Text-based MLP3',\n",
    "    'MMO-Composite LogReg on img-LGBM+txt-LogReg',\n",
    "    'MMO-CLIP-Based Logistic Regressor',\n",
    "    'MMO-CLIP-Based MLP12'\n",
    "]\n",
    "model_wrappers = [ModelWrapperFactory.load_existing(mw) for mw in tqdm(to_load)]"
   ]
  },
  {
   "cell_type": "raw",
   "id": "930809ab-46f3-4526-8ad7-764c8fb87245",
   "metadata": {},
   "source": [
    "# Predictions sur un extrait de RVL-CDIP\n",
    "document_sample = documents.sample(50).index\n",
    "results = [f\"{m.name:45}\" + \"|\".join([f\"{i:2d}\" for i in m.predict(document_sample)]) for m in tqdm(model_wrappers)]\n",
    "\n",
    "# Affichage tableau de synthèse\n",
    "print(f\"{'Label':45}\" + \"|\".join([f\"{i:2d}\" for i in labels[document_sample].values]))\n",
    "print(\"-\"*194)    \n",
    "for r in results:\n",
    "    print(r)"
   ]
  },
  {
   "cell_type": "code",
   "execution_count": null,
   "id": "ffe89ff2-04d4-4a7a-a6b5-6aa68700b4fb",
   "metadata": {},
   "outputs": [],
   "source": [
    "# Predictions sur des documents importés (il faut avoir utilisé le notebook 8.2 avant\n",
    "import pandas as pd\n",
    "import numpy as np\n",
    "\n",
    "documents = pd.read_parquet(PATHS.metadata / \"df_documents.parquet\").index\n",
    "documents_rvl = pd.read_parquet(PATHS.metadata / \"df_documents_save.parquet\").index\n",
    "imported_ids = [i for i in documents if i not in documents_rvl]\n"
   ]
  },
  {
   "cell_type": "code",
   "execution_count": null,
   "id": "b4f4b94d-12f6-46cb-b5b3-1a02039019b8",
   "metadata": {},
   "outputs": [],
   "source": [
    "if len(imported_ids) > 50:\n",
    "    document_sample = np.random.choice(imported_ids, 50)\n",
    "else:\n",
    "    document_sample = imported_ids\n",
    "if imported_ids:\n",
    "    results = [f\"{m.name:45}\" + \"|\".join([f\"{i:2d}\" for i in m.predict(document_sample)]) for m in tqdm(model_wrappers)]\n",
    "    \n",
    "    # Affichage tableau de synthèse\n",
    "    for r in results:\n",
    "        print(r)\n",
    "else:\n",
    "    print(\"Aucun document à prédire. Si vous avez fait un import récent, pensez à relancer le noyau de ce notebook pour que la liste des documents importés soit mise à jour.\")"
   ]
  },
  {
   "cell_type": "markdown",
   "id": "39498833-6a64-4a4e-9bd5-1d990f03aba3",
   "metadata": {},
   "source": [
    "### _________________________________________________________________________________________________________________________________________________________________________________________________________________"
   ]
  },
  {
   "cell_type": "markdown",
   "id": "90b00366-1098-4157-bd33-74d5043e2724",
   "metadata": {},
   "source": [
    "# Calcul de tous les performance summary\n",
    "Pour une premiere inférence, peut se révéler très long (40K inférence par modele), notamment sur les modeles img-DL (jusqu'à près de 2h par modèle)\n",
    "une fois calculés, les performance summary sont automatiquement sauveagardés dans le dossier models"
   ]
  },
  {
   "cell_type": "raw",
   "id": "2289f304-6d12-4345-93ae-d0e0383809aa",
   "metadata": {},
   "source": [
    "for name in tqdm(registered):\n",
    "    ModelWrapperFactory.load_existing(name).performance_summary"
   ]
  },
  {
   "cell_type": "code",
   "execution_count": null,
   "id": "7581ac0f-87a4-4f59-b15c-9a6fcc8c7597",
   "metadata": {},
   "outputs": [],
   "source": []
  }
 ],
 "metadata": {
  "kernelspec": {
   "display_name": "Python 3 (ipykernel)",
   "language": "python",
   "name": "python3"
  },
  "language_info": {
   "codemirror_mode": {
    "name": "ipython",
    "version": 3
   },
   "file_extension": ".py",
   "mimetype": "text/x-python",
   "name": "python",
   "nbconvert_exporter": "python",
   "pygments_lexer": "ipython3",
   "version": "3.12.10"
  }
 },
 "nbformat": 4,
 "nbformat_minor": 5
}
