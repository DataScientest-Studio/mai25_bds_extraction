{
 "cells": [
  {
   "cell_type": "markdown",
   "id": "be0d10ba-61d6-4cd8-a997-e7d91f4a7d25",
   "metadata": {},
   "source": [
    "## 1. Préparation"
   ]
  },
  {
   "cell_type": "code",
   "execution_count": null,
   "id": "a6b9cb12-fdd6-4479-bcc4-030b18ea03cc",
   "metadata": {},
   "outputs": [],
   "source": [
    "import sys\n",
    "from pathlib import Path\n",
    "\n",
    "project_root = Path().resolve().parent\n",
    "if not project_root in [Path(p).resolve() for p in sys.path]:\n",
    "    sys.path.append(str(project_root))\n",
    "\n",
    "from src import PATHS\n",
    "from src.data_completion import get_images_to_fix, convert_iit_to_rvl_tiff"
   ]
  },
  {
   "cell_type": "code",
   "execution_count": null,
   "id": "eece38f8-1ce4-4156-a70c-91d5d93fb009",
   "metadata": {},
   "outputs": [],
   "source": [
    "import pandas as pd"
   ]
  },
  {
   "cell_type": "markdown",
   "id": "0fdf549f-5fb6-4510-93df-c0212e207e13",
   "metadata": {},
   "source": [
    "## 2. Complétion"
   ]
  },
  {
   "cell_type": "markdown",
   "id": "886eed3f-fbe8-4e82-932e-163341244e12",
   "metadata": {},
   "source": [
    "### Vérification des images"
   ]
  },
  {
   "cell_type": "code",
   "execution_count": null,
   "id": "16fe9158-ff4b-4ad8-99a2-99a793789613",
   "metadata": {},
   "outputs": [],
   "source": [
    "df = pd.read_parquet(PATHS.metadata / \"df_filepaths.parquet\")[[\"rvl_image_path\", \"iit_image_path\"]]\n",
    "df[\"rvl\"] = PATHS.data / df.rvl_image_path\n",
    "df[\"iit\"] = PATHS.data / df.iit_image_path\n",
    "image_paths = df[[\"rvl\", \"iit\"]]\n",
    "image_paths.head(2)"
   ]
  },
  {
   "cell_type": "code",
   "execution_count": null,
   "id": "31314ea6-e144-4846-a86f-46510b4be645",
   "metadata": {},
   "outputs": [],
   "source": [
    "to_repair = get_images_to_fix(df.rvl)\n",
    "to_repair"
   ]
  },
  {
   "cell_type": "markdown",
   "id": "945983d7-958a-4ec4-aaf9-5cdf2839c656",
   "metadata": {},
   "source": [
    "### Recréation des images manquantes à partir d'IIT CDIP"
   ]
  },
  {
   "cell_type": "code",
   "execution_count": null,
   "id": "7115522a-ba63-4d54-ad09-3263a21a9c82",
   "metadata": {},
   "outputs": [],
   "source": [
    "for rvl_file_path in to_repair:\n",
    "    iit_file_path = image_paths[image_paths.rvl == rvl_file_path].iit.iloc[0]\n",
    "    convert_iit_to_rvl_tiff(iit_file_path, rvl_file_path)"
   ]
  }
 ],
 "metadata": {
  "kernelspec": {
   "display_name": "Python 3 (ipykernel)",
   "language": "python",
   "name": "python3"
  },
  "language_info": {
   "codemirror_mode": {
    "name": "ipython",
    "version": 3
   },
   "file_extension": ".py",
   "mimetype": "text/x-python",
   "name": "python",
   "nbconvert_exporter": "python",
   "pygments_lexer": "ipython3",
   "version": "3.12.10"
  }
 },
 "nbformat": 4,
 "nbformat_minor": 5
}
