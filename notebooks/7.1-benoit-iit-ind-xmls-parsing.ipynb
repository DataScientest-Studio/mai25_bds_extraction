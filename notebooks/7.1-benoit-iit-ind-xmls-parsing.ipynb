{
 "cells": [
  {
   "cell_type": "markdown",
   "id": "96a873bd-c824-4abc-97ae-c1995e2d771c",
   "metadata": {},
   "source": [
    "# Création DataFrame IIT_CDIP_IND_XML_FEATURES"
   ]
  },
  {
   "cell_type": "markdown",
   "id": "4b2f69fa-179c-4dc8-bd79-86a87c6f4cc0",
   "metadata": {},
   "source": [
    "## README\n",
    "Ce notebook permet d'exploiter les fichiers xml individuels des fichiers présents sur la base de données IIT-CDIP, et de rassembler les informations extraites dans le DataFrame iit_cdip_ind_features\n",
    "\n",
    "Il réalise tout d'abord certaines opérations préalables (chapitre 1), dont la définition des variables globales d'exécution (**A METTRE A JOUR LORS D'UNE PREMIERE UTILISATION**)\n",
    "\n",
    "A l'issue (chapitre 2), il permet de créer le DataFrame, qui contient les informations suivantes:\n",
    "- document_id\n",
    "- iit_individual_xml_path\n",
    "- bt: non encore déterminé\n",
    "- title\n",
    "- document_date\n",
    "- dt: non encore déterminé\n",
    "- author\n",
    "- pages_amount\n",
    "- scan_date\n",
    "- ocr_text\n",
    "- np: non encore déterminé\n",
    "- ca: non encore déterminé\n",
    "- no: non encore déterminé\n",
    "- fn: non encore déterminé\n",
    "- trc: non encore déterminé\n",
    "- bx: non encore déterminé\n",
    "- pc: non encore déterminé\n",
    "- cr: non encore déterminé"
   ]
  },
  {
   "cell_type": "markdown",
   "id": "ba9ac3b2-34f0-4771-864c-56431bed3dd7",
   "metadata": {},
   "source": [
    "## 1. Préparation"
   ]
  },
  {
   "cell_type": "code",
   "execution_count": null,
   "id": "91d20fdd-ae3f-45b5-87b3-f5c7544e87c6",
   "metadata": {},
   "outputs": [],
   "source": [
    "import os\n",
    "import time\n",
    "import numpy as np\n",
    "import pandas as pd\n",
    "\n",
    "from lxml import etree\n",
    "from functools import reduce\n",
    "from utils import remove_ds_store_files"
   ]
  },
  {
   "cell_type": "code",
   "execution_count": null,
   "id": "b8b31dbe-4038-4b72-8b72-14c92edc6b7f",
   "metadata": {},
   "outputs": [],
   "source": [
    "project_path = '/Users/ben/Work/mle/ds-project/mai25_bds_extraction/' # à modifier par chacun en fonction de son arborescence\n",
    "\n",
    "data_path = os.path.join(project_path, 'data')\n",
    "raw_data_path = os.path.join(data_path, 'raw')\n",
    "processed_data_path = os.path.join(data_path, 'processed')\n",
    "\n",
    "raw_rvl_cdip_path = os.path.join(raw_data_path, 'RVL-CDIP')\n",
    "rvl_cdip_images_path = os.path.join(raw_rvl_cdip_path, 'images')\n",
    "rvl_cdip_labels_path = os.path.join(raw_rvl_cdip_path, 'labels')\n",
    "\n",
    "iit_cdip_images_path = os.path.join(raw_data_path, 'IIT-CDIP', 'images')\n",
    "iit_cdip_xmls_path = os.path.join(raw_data_path, 'IIT-CDIP', 'xmls')"
   ]
  },
  {
   "cell_type": "markdown",
   "id": "ba08754f-0501-4e1d-b7e5-137c1814ee77",
   "metadata": {},
   "source": [
    "## 2. Création du DataFrame IIT_CDIP_IND_XML_FEATURES"
   ]
  },
  {
   "cell_type": "markdown",
   "id": "e0417d73-b234-48c8-890a-7b656202b54d",
   "metadata": {},
   "source": [
    "## 2.1. Création de la base de la DataFrame"
   ]
  },
  {
   "cell_type": "code",
   "execution_count": null,
   "id": "1af6421d-9c35-4d0a-8620-f5e13817502a",
   "metadata": {},
   "outputs": [],
   "source": [
    "df_documents = pd.read_parquet(os.path.join(processed_data_path, \"df_documents.parquet\"))\n",
    "df_documents.head()"
   ]
  },
  {
   "cell_type": "markdown",
   "id": "725145cf-fdb2-4afb-9c74-a8fafe1f5c0e",
   "metadata": {},
   "source": [
    "Seule une partie des documents possèdent un fichier xml individuel. On sélectionne donc les lignes concernées avant de procéder à l'extraction des features dans les xml."
   ]
  },
  {
   "cell_type": "code",
   "execution_count": null,
   "id": "ad918490-db68-4dd0-bac9-d294e9756315",
   "metadata": {},
   "outputs": [],
   "source": [
    "df_base = df_documents[~df_documents.iit_individual_xml_path.isna()][[\"document_id\", \"iit_individual_xml_path\"]]"
   ]
  },
  {
   "cell_type": "code",
   "execution_count": null,
   "id": "efaf92d8-e701-4eb9-bd8f-870877565002",
   "metadata": {},
   "outputs": [],
   "source": [
    "len(df_base)"
   ]
  },
  {
   "cell_type": "code",
   "execution_count": null,
   "id": "5ef13899-7ccb-4184-9bb6-60bb34465c14",
   "metadata": {},
   "outputs": [],
   "source": [
    "df_base.head()"
   ]
  },
  {
   "cell_type": "markdown",
   "id": "53b9d296-ad16-4c99-b966-50d28002c2d8",
   "metadata": {},
   "source": [
    "## 2.2. Extraction des features des xml"
   ]
  },
  {
   "cell_type": "code",
   "execution_count": null,
   "id": "f3102b31-8be2-46de-857e-d62503b9394d",
   "metadata": {},
   "outputs": [],
   "source": [
    "tags = []\n",
    "parser = etree.XMLParser(recover=True, encoding=\"ISO-8859-1\")\n",
    "for index, row in df_base.iterrows():\n",
    "    document_id, relative_path = row.values.tolist()\n",
    "    filename = os.path.join(data_path, relative_path)\n",
    "    try:\n",
    "        tree = etree.parse(filename, parser)\n",
    "        root = tree.getroot()\n",
    "        for element in root.iterchildren(tag=etree.Element):\n",
    "            if element.tag not in tags:\n",
    "                tags.append(element.tag)\n",
    "    except Exception as e:\n",
    "        print(f\"Erreur avec le fichier {filename}\")\n",
    "print(tags)"
   ]
  },
  {
   "cell_type": "markdown",
   "id": "b879c15b-6bf6-4e83-97bd-00d30ce684ca",
   "metadata": {},
   "source": [
    "A partir de cette liste de tags, on créer un dictionnaire de correspondance. Il nous servira, en fin de processus d'extraction à renommer les colonnes de la DataFrame. Les correspondances ont été établies en analysant les données contenues par les différents tags."
   ]
  },
  {
   "cell_type": "markdown",
   "id": "765fccfb-7205-4bcf-80da-9497eea68a64",
   "metadata": {},
   "source": [
    "Extrait du README qui accompagne les fichiers texte de IIT-CDIP:\n",
    "\n",
    "*The records contain both text and metadata. The text was produced by applying optical character recognition (OCR) to document images in TIFF format. The metadata was produced by the tobacco organizations using a variety of techniques. It includes a title, a listing of the senders and recipients of the document, important names mentioned in the document, controlled vocabulary categories, geographical and organizational context data, and other information. Not all metadata fields are available for all documents, the formatting is inconsistent, and there is an unknown level of errors and omissions.*"
   ]
  },
  {
   "cell_type": "code",
   "execution_count": null,
   "id": "b505171b-9d45-4967-a5a2-3ab35a760e9f",
   "metadata": {},
   "outputs": [],
   "source": [
    "parsed_fields = {\n",
    "    'tid': 'document_id',\n",
    "    'bt': 'bt',\n",
    "    'ti': 'title',\n",
    "    'dd': 'document_date',\n",
    "    'dt': 'dt',\n",
    "    'au': 'author',\n",
    "    'pg': 'pages_amount',\n",
    "    'dl': 'scan_date',\n",
    "    'ot': 'ocr_text',\n",
    "    'np': 'np',\n",
    "    'ca': 'ca',\n",
    "    'no': 'no',\n",
    "    'fn': 'fn',\n",
    "    'rc': 'trc',\n",
    "    'bx': 'bx',\n",
    "    'pc': 'pc',\n",
    "    'cr': 'cr'\n",
    "}"
   ]
  },
  {
   "cell_type": "code",
   "execution_count": null,
   "id": "f7e1695f-ac00-4b10-819d-0e1298d04c81",
   "metadata": {},
   "outputs": [],
   "source": [
    "def extract_info_from_xmls():\n",
    "    parser = etree.XMLParser(recover=True, encoding=\"ISO-8859-1\")\n",
    "    tmp_list = []\n",
    "    for index, row in df_base.iterrows():\n",
    "        document_id, relative_path = row.values.tolist()\n",
    "        filename = os.path.join(data_path, relative_path)\n",
    "    #    print(filename)\n",
    "        try:\n",
    "            tree = etree.parse(filename, parser)\n",
    "            root = tree.getroot()\n",
    "            tmp_list.append({\n",
    "                key: root.findtext(key) if root.findtext(key) is not None else np.nan\n",
    "                    for key in parsed_fields})\n",
    "        except Exception as e:\n",
    "            print(f\"Erreur avec le fichier {filename}\")\n",
    "    df = pd.DataFrame(tmp_list)\n",
    "    df.rename(columns = parsed_fields, inplace=True)\n",
    "    return df\n"
   ]
  },
  {
   "cell_type": "code",
   "execution_count": null,
   "id": "2950b06e-742b-4839-9e15-4bfee56e2e0b",
   "metadata": {},
   "outputs": [],
   "source": [
    "t = time.time()\n",
    "df_xmls = extract_info_from_xmls()\n",
    "print(f\"Duree d'exécution: {time.time() - t:.3f} secondes.\")\n",
    "df_xmls.head()"
   ]
  },
  {
   "cell_type": "markdown",
   "id": "a37fd946-91d5-4c86-bdf8-e41eb02b3222",
   "metadata": {},
   "source": [
    "## 2.3. Création de la DataFrame et sauvegarde"
   ]
  },
  {
   "cell_type": "code",
   "execution_count": null,
   "id": "5f3d4dcd-919e-42a1-94bf-3d4fc5c634a6",
   "metadata": {},
   "outputs": [],
   "source": [
    "df_iit_cdip_ind_xml_features = df_base.merge(df_xmls, on=\"document_id\", how=\"left\")\n",
    "df_iit_cdip_ind_xml_features.head()"
   ]
  },
  {
   "cell_type": "code",
   "execution_count": null,
   "id": "9f442637-f4ab-45cc-b648-37fcdc3cf3d8",
   "metadata": {},
   "outputs": [],
   "source": [
    "df_iit_cdip_ind_xml_features.to_parquet(os.path.join(processed_data_path, \"df_iit_cdip_ind_xml_features.parquet\"))"
   ]
  }
 ],
 "metadata": {
  "kernelspec": {
   "display_name": "Python 3 (ipykernel)",
   "language": "python",
   "name": "python3"
  },
  "language_info": {
   "codemirror_mode": {
    "name": "ipython",
    "version": 3
   },
   "file_extension": ".py",
   "mimetype": "text/x-python",
   "name": "python",
   "nbconvert_exporter": "python",
   "pygments_lexer": "ipython3",
   "version": "3.12.10"
  }
 },
 "nbformat": 4,
 "nbformat_minor": 5
}
