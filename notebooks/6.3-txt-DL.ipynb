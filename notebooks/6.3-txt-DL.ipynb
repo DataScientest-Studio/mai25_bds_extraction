{
 "cells": [
  {
   "cell_type": "markdown",
   "id": "537a9253-75f2-4328-a36c-73dc72d938df",
   "metadata": {},
   "source": [
    "# Modèles ML par traitement du texte"
   ]
  },
  {
   "cell_type": "markdown",
   "id": "1145dcb0-8ff3-4ba2-a342-aea1db31e627",
   "metadata": {},
   "source": [
    "## README\n",
    "Ce notebook permet la création et l'évaluation de modèles ML sur le texte.\n",
    "\n",
    "Il s'appuie pour cela sur les données ocr pré-processées contenues dans la df df_txt_ocr1"
   ]
  },
  {
   "cell_type": "markdown",
   "id": "65adf2da-af14-4bea-a4a3-a8eb1068ba3a",
   "metadata": {},
   "source": [
    "## 1. Préparation"
   ]
  },
  {
   "cell_type": "code",
   "execution_count": null,
   "id": "f229e0fc-fe3b-4823-b872-5857ece3cc8a",
   "metadata": {},
   "outputs": [],
   "source": [
    "import sys\n",
    "from pathlib import Path\n",
    "\n",
    "project_root = Path().resolve().parent\n",
    "if not project_root in [Path(p).resolve() for p in sys.path]:\n",
    "    sys.path.append(str(project_root))\n",
    "\n",
    "from src import PATHS"
   ]
  },
  {
   "cell_type": "code",
   "execution_count": null,
   "id": "e669accd-0178-496d-832d-cbbd72809df2",
   "metadata": {},
   "outputs": [],
   "source": [
    "import joblib\n",
    "import pandas as pd\n",
    "import seaborn as sns\n",
    "from matplotlib import pyplot as plt\n",
    "\n",
    "import tensorflow as tf\n",
    "from tensorflow.keras.models import Sequential\n",
    "from tensorflow.keras.layers import Dense, Dropout, Input\n",
    "\n",
    "from sklearn.neural_network import MLPClassifier\n",
    "from sklearn.model_selection import GridSearchCV\n",
    "from sklearn.metrics import classification_report, confusion_matrix"
   ]
  },
  {
   "cell_type": "markdown",
   "id": "4a1737d5-404d-45ff-9c99-915f993cdf45",
   "metadata": {},
   "source": [
    "## 2. Chargement des données"
   ]
  },
  {
   "cell_type": "code",
   "execution_count": null,
   "id": "6167dd0c-986b-407c-9bde-a82d4e9a76e8",
   "metadata": {},
   "outputs": [],
   "source": [
    "features = pd.read_parquet(PATHS.processed_data / 'df_txt_ocr1.parquet')\n",
    "features.shape"
   ]
  },
  {
   "cell_type": "code",
   "execution_count": null,
   "id": "23eb4c85-57b6-40af-ab93-02210642d303",
   "metadata": {},
   "outputs": [],
   "source": [
    "data_sets = pd.read_parquet(PATHS.metadata / \"df_data_sets.parquet\")\n",
    "labels = pd.read_parquet(PATHS.metadata / \"df_encoded_labels.parquet\")"
   ]
  },
  {
   "cell_type": "raw",
   "id": "711f7833-5f39-4fd2-b835-35e473249b8b",
   "metadata": {},
   "source": [
    "## pour ne travailler que sur un échantillon :"
   ]
  },
  {
   "cell_type": "code",
   "execution_count": null,
   "id": "c393500c-0d68-48bd-b54a-a8e324c7a005",
   "metadata": {},
   "outputs": [],
   "source": [
    "sample = pd.read_parquet(PATHS.samples / 'df_documents_sample_4k_3.parquet')\n",
    "features = features.join(sample, how='inner')\n",
    "features.shape"
   ]
  },
  {
   "cell_type": "code",
   "execution_count": null,
   "id": "d481163a-41ba-4b54-84be-1d04a93cb8a5",
   "metadata": {},
   "outputs": [],
   "source": [
    "# au cas où features soit incomplet\n",
    "data_sets = data_sets.join(features[[]], how=\"inner\")\n",
    "labels = labels.join(features[[]], how=\"inner\")\n",
    "\n",
    "features.shape, data_sets.shape, labels.shape"
   ]
  },
  {
   "cell_type": "code",
   "execution_count": null,
   "id": "6c67ebb5-d49d-43ff-9c8e-808807053786",
   "metadata": {},
   "outputs": [],
   "source": [
    "X = features.ocr # (vectorizer expects 1D array)\n",
    "y = labels.label\n",
    "\n",
    "X_train = X[data_sets.data_set == \"train\"]\n",
    "y_train = y[data_sets.data_set == \"train\"]\n",
    "\n",
    "X_val = X[data_sets.data_set == \"val\"]\n",
    "y_val = y[data_sets.data_set == \"val\"]\n",
    "\n",
    "X_test = X[data_sets.data_set == \"test\"]\n",
    "y_test = y[data_sets.data_set == \"test\"]\n",
    "\n",
    "# On libère de la mémoire\n",
    "del features, labels, data_sets"
   ]
  },
  {
   "cell_type": "markdown",
   "id": "fab7a370-9e1d-4e72-93c6-7883f4b46da4",
   "metadata": {},
   "source": [
    "## 3. Vectorisation"
   ]
  },
  {
   "cell_type": "code",
   "execution_count": null,
   "id": "c210ab84-a6af-41c5-bf2f-fc03243a3543",
   "metadata": {},
   "outputs": [],
   "source": [
    "vectorizer = joblib.load(PATHS.models / \"txt_tfid_vectorizer.joblib\") # le vectorizer a déjà été entrainé dans le notebook ML (5.3)\n",
    "X_train_vect = vectorizer.transform(X_train) # vectorizer est déjà fited\n",
    "X_val_vect   = vectorizer.transform(X_val)\n",
    "X_test_vect = vectorizer.transform(X_test)"
   ]
  },
  {
   "cell_type": "markdown",
   "id": "55e90eaf-c927-46e0-b708-c49ca4550dc7",
   "metadata": {},
   "source": [
    "## 4. Modélisation"
   ]
  },
  {
   "cell_type": "markdown",
   "id": "e7223ed8-91dd-460f-a3b3-511d88d3393c",
   "metadata": {},
   "source": [
    "### 4.1 Premier MLP"
   ]
  },
  {
   "cell_type": "code",
   "execution_count": null,
   "id": "78f8e132-3efe-4440-8080-892000eacb7c",
   "metadata": {},
   "outputs": [],
   "source": [
    "# Définition du modèle MLP\n",
    "first_mlp = Sequential([\n",
    "    Input(shape=(X_train_vect.shape[1],)),  \n",
    "    Dense(128, activation='relu'),\n",
    "    Dropout(0.5),\n",
    "    Dense(64, activation='relu'),\n",
    "    Dropout(0.3),\n",
    "    Dense(16, activation='softmax')  # Softmax pour multi-classe\n",
    "])\n",
    "\n",
    "first_mlp.compile(optimizer='adam',\n",
    "                  loss='sparse_categorical_crossentropy',\n",
    "                  metrics=['accuracy'])\n",
    "\n",
    "# Entraînement\n",
    "first_mlp.fit(X_train_vect.toarray(), y_train,\n",
    "              epochs=5, batch_size=32,\n",
    "              validation_data=(X_val_vect.toarray(), y_val))\n"
   ]
  },
  {
   "cell_type": "code",
   "execution_count": null,
   "id": "0984f64d-59be-4460-8137-64ae90328fee",
   "metadata": {},
   "outputs": [],
   "source": [
    "y_pred = np.argmax(first_mlp.predict(X_val_vect), axis=1)\n",
    "print(classification_report(y_val, y_pred))"
   ]
  },
  {
   "cell_type": "markdown",
   "id": "12cd70f9-f1b7-4a70-99b2-bfee8910a9ea",
   "metadata": {},
   "source": [
    "### 4.2 Second MLP"
   ]
  },
  {
   "cell_type": "code",
   "execution_count": null,
   "id": "f3d06141-d8e3-4081-8506-2b99d8589392",
   "metadata": {},
   "outputs": [],
   "source": [
    "# Modèle MLP léger (scikit-learn)\n",
    "second_mlp = MLPClassifier(hidden_layer_sizes=(100,), max_iter=300, random_state=42)\n",
    "second_mlp.fit(X_train_vect, y_train)"
   ]
  },
  {
   "cell_type": "code",
   "execution_count": null,
   "id": "5918a72f-58f0-4f52-abe4-123cf89777b0",
   "metadata": {},
   "outputs": [],
   "source": [
    "y_pred = second_mlp.predict(X_val_vect)\n",
    "print(classification_report(y_val, y_pred))"
   ]
  },
  {
   "cell_type": "code",
   "execution_count": null,
   "id": "8d3cffdc-7277-4152-bff8-7230ea499a06",
   "metadata": {},
   "outputs": [],
   "source": [
    "# Matrice de confusion\n",
    "cm = confusion_matrix(y_val, y_pred)\n",
    "\n",
    "# Création de la heatmap\n",
    "plt.figure(figsize=(10, 8))\n",
    "sns.heatmap(cm, annot=True, fmt=\"d\", cmap=\"Blues\")\n",
    "\n",
    "plt.xlabel(\"Prédit\")\n",
    "plt.ylabel(\"Réel\")\n",
    "plt.title(\"Matrice de confusion - MLPClassifier\")\n",
    "plt.tight_layout()\n",
    "plt.show()"
   ]
  },
  {
   "cell_type": "code",
   "execution_count": null,
   "id": "1fa02340-6c00-4ed1-a3c9-4a25381338bb",
   "metadata": {},
   "outputs": [],
   "source": [
    "plt.plot(second_mlp.loss_curve_)\n",
    "plt.title(\"Courbe de perte - MLP\")\n",
    "plt.xlabel(\"Itérations\")\n",
    "plt.ylabel(\"Loss\")\n",
    "plt.grid(True)\n",
    "plt.show()"
   ]
  },
  {
   "cell_type": "markdown",
   "id": "d1d765ec-e5d9-47d0-ba6c-8a8e2698004a",
   "metadata": {},
   "source": [
    "### 4.3 Recherche de paramètres optimaux"
   ]
  },
  {
   "cell_type": "code",
   "execution_count": null,
   "id": "7e2c8105-8bf4-4387-ae7a-048e59dccbc5",
   "metadata": {},
   "outputs": [],
   "source": [
    "param_grid = {\n",
    "    'hidden_layer_sizes': [(100,), (128,), (100, 50), (128, 64)],\n",
    "    'activation': ['relu', 'tanh'],\n",
    "    'alpha': [0.0001, 0.001, 0.01],  # régularisation L2\n",
    "    'learning_rate': ['constant', 'adaptive']\n",
    "}\n",
    "\n",
    "grid = GridSearchCV(MLPClassifier(max_iter=10, random_state=42), param_grid, cv=3, scoring='accuracy', verbose=2)\n",
    "grid.fit(X_train_vect, y_train)\n",
    "\n",
    "print(\"Meilleurs paramètres :\", grid.best_params_)\n"
   ]
  },
  {
   "cell_type": "code",
   "execution_count": null,
   "id": "9a8d22a3-bf5e-4d4d-8a57-10b50c51ca97",
   "metadata": {},
   "outputs": [],
   "source": [
    "print(classification_report(y_val, y_pred, target_names=encoder.classes_.astype(str)))\n"
   ]
  },
  {
   "cell_type": "code",
   "execution_count": null,
   "id": "3127206d-ef1f-4336-a6e5-10478d5c10b5",
   "metadata": {},
   "outputs": [],
   "source": [
    "# Meilleurs paramètres : {'activation': 'tanh', 'alpha': 0.0001, 'hidden_layer_sizes': (128, 64), 'learning_rate': 'constant'}"
   ]
  },
  {
   "cell_type": "code",
   "execution_count": null,
   "id": "39e206cb-c346-44ce-9ae9-50c0d1ae31ec",
   "metadata": {},
   "outputs": [],
   "source": [
    "third_mlp = MLPClassifier(hidden_layer_sizes=(128,64), max_iter=300, random_state=42, activation='tanh')\n",
    "third_mlp.fit(X_train_vect, y_train)"
   ]
  },
  {
   "cell_type": "code",
   "execution_count": null,
   "id": "2de2770f-4e56-49ee-942a-b29844ad71ed",
   "metadata": {},
   "outputs": [],
   "source": []
  },
  {
   "cell_type": "code",
   "execution_count": null,
   "id": "b8ee776b-4216-4798-97e0-f844caac3726",
   "metadata": {},
   "outputs": [],
   "source": []
  },
  {
   "cell_type": "code",
   "execution_count": null,
   "id": "598ee947-1a8d-49cc-8678-a1db53ff21b4",
   "metadata": {},
   "outputs": [],
   "source": []
  },
  {
   "cell_type": "code",
   "execution_count": null,
   "id": "e703a149-ec5a-4d7c-9bf8-c4205b37c76e",
   "metadata": {},
   "outputs": [],
   "source": []
  },
  {
   "cell_type": "code",
   "execution_count": null,
   "id": "36321eda-fc7f-497d-bc56-bed46332ada4",
   "metadata": {},
   "outputs": [],
   "source": []
  },
  {
   "cell_type": "code",
   "execution_count": null,
   "id": "55c377b2-d99c-49eb-b895-1ae2b6918990",
   "metadata": {},
   "outputs": [],
   "source": []
  },
  {
   "cell_type": "markdown",
   "id": "4c4ac144-e5b7-4373-8986-3e9823029645",
   "metadata": {},
   "source": [
    "# 5. Sauvegarde du modèle"
   ]
  },
  {
   "cell_type": "code",
   "execution_count": null,
   "id": "e8a19841-2849-4a68-8277-5041608f4bb2",
   "metadata": {},
   "outputs": [],
   "source": [
    "model_mlp.save(PATHS.models / \"txt_mlp.keras\")"
   ]
  }
 ],
 "metadata": {
  "kernelspec": {
   "display_name": "Python 3 (ipykernel)",
   "language": "python",
   "name": "python3"
  },
  "language_info": {
   "codemirror_mode": {
    "name": "ipython",
    "version": 3
   },
   "file_extension": ".py",
   "mimetype": "text/x-python",
   "name": "python",
   "nbconvert_exporter": "python",
   "pygments_lexer": "ipython3",
   "version": "3.12.10"
  }
 },
 "nbformat": 4,
 "nbformat_minor": 5
}
