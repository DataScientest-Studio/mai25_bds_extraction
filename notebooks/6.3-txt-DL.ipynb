{
 "cells": [
  {
   "cell_type": "markdown",
   "id": "537a9253-75f2-4328-a36c-73dc72d938df",
   "metadata": {},
   "source": [
    "# Modèles ML par traitement du texte"
   ]
  },
  {
   "cell_type": "markdown",
   "id": "1145dcb0-8ff3-4ba2-a342-aea1db31e627",
   "metadata": {},
   "source": [
    "## README\n",
    "Ce notebook permet la création et l'évaluation de modèles ML sur le texte.\n",
    "\n",
    "Il s'appuie pour cela sur les données ocr pré-processées contenues dans la df df_txt_ocr1"
   ]
  },
  {
   "cell_type": "markdown",
   "id": "65adf2da-af14-4bea-a4a3-a8eb1068ba3a",
   "metadata": {},
   "source": [
    "## 1. Préparation"
   ]
  },
  {
   "cell_type": "code",
   "execution_count": null,
   "id": "f229e0fc-fe3b-4823-b872-5857ece3cc8a",
   "metadata": {},
   "outputs": [],
   "source": [
    "import sys\n",
    "from pathlib import Path\n",
    "\n",
    "project_root = Path().resolve().parent\n",
    "if not project_root in [Path(p).resolve() for p in sys.path]:\n",
    "    sys.path.append(str(project_root))\n",
    "\n",
    "from src import PATHS"
   ]
  },
  {
   "cell_type": "code",
   "execution_count": null,
   "id": "e669accd-0178-496d-832d-cbbd72809df2",
   "metadata": {},
   "outputs": [],
   "source": [
    "import joblib\n",
    "import pandas as pd\n",
    "from matplotlib import pyplot as plt\n",
    "\n",
    "import tensorflow as tf\n",
    "from tensorflow.keras.models import Sequential\n",
    "from tensorflow.keras.layers import Dense, Dropout\n",
    "from sklearn.preprocessing import LabelEncoder\n",
    "from sklearn.metrics import classification_report"
   ]
  },
  {
   "cell_type": "markdown",
   "id": "4a1737d5-404d-45ff-9c99-915f993cdf45",
   "metadata": {},
   "source": [
    "## 2. Chargement des données"
   ]
  },
  {
   "cell_type": "code",
   "execution_count": null,
   "id": "6167dd0c-986b-407c-9bde-a82d4e9a76e8",
   "metadata": {},
   "outputs": [],
   "source": [
    "features = pd.read_parquet(PATHS.processed_data / 'df_txt_ocr1.parquet')\n",
    "features.shape"
   ]
  },
  {
   "cell_type": "code",
   "execution_count": null,
   "id": "23eb4c85-57b6-40af-ab93-02210642d303",
   "metadata": {},
   "outputs": [],
   "source": [
    "data_sets = pd.read_parquet(PATHS.metadata / \"df_data_sets.parquet\")\n",
    "labels = pd.read_parquet(PATHS.metadata / \"df_encoded_labels.parquet\")"
   ]
  },
  {
   "cell_type": "raw",
   "id": "711f7833-5f39-4fd2-b835-35e473249b8b",
   "metadata": {},
   "source": [
    "## pour ne travailler que sur un échantillon :"
   ]
  },
  {
   "cell_type": "raw",
   "id": "3abbe94c-f49a-44af-ac61-8907acb5f600",
   "metadata": {},
   "source": [
    "sample = pd.read_parquet(PATHS.samples / 'df_documents_sample_40k_3.parquet')\n",
    "features = features.join(sample, how='inner')\n",
    "features.shape"
   ]
  },
  {
   "cell_type": "code",
   "execution_count": null,
   "id": "d481163a-41ba-4b54-84be-1d04a93cb8a5",
   "metadata": {},
   "outputs": [],
   "source": [
    "# au cas où features soit incomplet\n",
    "data_sets = data_sets.join(features[[]], how=\"inner\")\n",
    "labels = labels.join(features[[]], how=\"inner\")\n",
    "\n",
    "features.shape, data_sets.shape, labels.shape"
   ]
  },
  {
   "cell_type": "code",
   "execution_count": null,
   "id": "6c67ebb5-d49d-43ff-9c8e-808807053786",
   "metadata": {},
   "outputs": [],
   "source": [
    "X = features.ocr # (vectorizer expects 1D array)\n",
    "y = labels.label\n",
    "\n",
    "X_train = X[data_sets.data_set == \"train\"]\n",
    "y_train = y[data_sets.data_set == \"train\"]\n",
    "\n",
    "X_val = X[data_sets.data_set == \"val\"]\n",
    "y_val = y[data_sets.data_set == \"val\"]\n",
    "\n",
    "X_test = X[data_sets.data_set == \"test\"]\n",
    "y_test = y[data_sets.data_set == \"test\"]\n",
    "\n",
    "# On libère de la mémoire\n",
    "del features, labels, data_sets"
   ]
  },
  {
   "cell_type": "markdown",
   "id": "fab7a370-9e1d-4e72-93c6-7883f4b46da4",
   "metadata": {},
   "source": [
    "## 3. Vectorisation"
   ]
  },
  {
   "cell_type": "code",
   "execution_count": null,
   "id": "c210ab84-a6af-41c5-bf2f-fc03243a3543",
   "metadata": {},
   "outputs": [],
   "source": [
    "vectorizer = joblib.load(PATHS.models / \"txt_tfid_vectorizer.joblib\") # le vectorizer a déjà été entrainé dans le notebook ML (5.3)\n",
    "X_train_vect = vectorizer.transform(X_train) # vectorizer est déjà fited\n",
    "X_val_vect   = vectorizer.transform(X_val)\n",
    "X_test_vect = vectorizer.transform(X_test)"
   ]
  },
  {
   "cell_type": "markdown",
   "id": "55e90eaf-c927-46e0-b708-c49ca4550dc7",
   "metadata": {},
   "source": [
    "## 4. Modélisation"
   ]
  },
  {
   "cell_type": "code",
   "execution_count": null,
   "id": "78f8e132-3efe-4440-8080-892000eacb7c",
   "metadata": {},
   "outputs": [],
   "source": [
    "# Définition du modèle MLP\n",
    "model_mlp = Sequential([\n",
    "    Dense(128, activation='relu', input_shape=(X_train_vect.shape[1],)),\n",
    "    Dropout(0.5),\n",
    "    Dense(64, activation='relu'),\n",
    "    Dropout(0.3),\n",
    "    Dense(16, activation='softmax')  # Softmax pour multi-classe\n",
    "])\n",
    "\n",
    "model_mlp.compile(optimizer='adam',\n",
    "                  loss='sparse_categorical_crossentropy',\n",
    "                  metrics=['accuracy'])\n",
    "\n",
    "# Entraînement\n",
    "model_mlp.fit(X_train_vect.toarray(), y_train,\n",
    "              epochs=5, batch_size=32,\n",
    "              validation_data=(X_val_vect.toarray(), y_val))\n"
   ]
  },
  {
   "cell_type": "markdown",
   "id": "4c4ac144-e5b7-4373-8986-3e9823029645",
   "metadata": {},
   "source": [
    "# 5. Sauvegarde du modèle"
   ]
  },
  {
   "cell_type": "code",
   "execution_count": null,
   "id": "e8a19841-2849-4a68-8277-5041608f4bb2",
   "metadata": {},
   "outputs": [],
   "source": [
    "model_mlp.save(PATHS.models / \"txt_mlp.keras\")"
   ]
  }
 ],
 "metadata": {
  "kernelspec": {
   "display_name": "Python 3 (ipykernel)",
   "language": "python",
   "name": "python3"
  },
  "language_info": {
   "codemirror_mode": {
    "name": "ipython",
    "version": 3
   },
   "file_extension": ".py",
   "mimetype": "text/x-python",
   "name": "python",
   "nbconvert_exporter": "python",
   "pygments_lexer": "ipython3",
   "version": "3.12.10"
  }
 },
 "nbformat": 4,
 "nbformat_minor": 5
}
