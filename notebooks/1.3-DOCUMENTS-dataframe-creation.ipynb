{
 "cells": [
  {
   "cell_type": "markdown",
   "id": "cf06b663-d258-478e-9397-7332fbcb60ea",
   "metadata": {},
   "source": [
    "# Création des dataframes de base"
   ]
  },
  {
   "cell_type": "markdown",
   "id": "312083fe-fb50-4e4e-a9cf-2bc415ceca31",
   "metadata": {},
   "source": [
    "## README\n",
    "Ce notebook permet de créer plusieurs dataframe, qui pourront être utilisées par la suite dans les différents notebook. Pour toutes les dataframe dont les lignes correspondent à des documents, l'index sera l'identifiant du document en question, tel que défini dans le jeu de données IIT_CDIP. Cela garantit l'unicité de cet identifiant, et facilitera pour toute la suite des travaux les jointures entre documents. \n",
    "\n",
    "Il réalise tout d'abord certaines opérations préalables (chapitre 1), dont la configuration des répertoires du projet\n",
    "\n",
    "A l'issue (chapitre 2), il permet de créer les DataFrame utiles à la suite du projet et dont les caractéristiques sont rappelées dans le compte-rendu de projet. "
   ]
  },
  {
   "cell_type": "markdown",
   "id": "e8a9fb77-d844-448e-85a6-d083added15c",
   "metadata": {},
   "source": [
    "## 1. Préparation"
   ]
  },
  {
   "cell_type": "code",
   "execution_count": null,
   "id": "14002c72-907c-45ff-9a05-59a1304eeea3",
   "metadata": {},
   "outputs": [],
   "source": [
    "import sys\n",
    "from pathlib import Path\n",
    "\n",
    "project_root = Path().resolve().parent\n",
    "if not project_root in [Path(p).resolve() for p in sys.path]:\n",
    "    sys.path.append(str(project_root))\n",
    "\n",
    "from src import PATHS"
   ]
  },
  {
   "cell_type": "code",
   "execution_count": null,
   "id": "27a80f19-05e8-400a-9cfa-78c06ae1cbb0",
   "metadata": {},
   "outputs": [],
   "source": [
    "import os\n",
    "import time\n",
    "import numpy as np\n",
    "import pandas as pd\n",
    "from lxml import etree\n",
    "from functools import reduce\n",
    "from utils import remove_ds_store_files"
   ]
  },
  {
   "cell_type": "code",
   "execution_count": null,
   "id": "c8fc2081-3618-4bee-ab4e-c7cfd42450e4",
   "metadata": {},
   "outputs": [],
   "source": [
    "project_path = '/Users/ben/Work/mle/ds-project/mai25_bds_extraction/' # à modifier par chacun en fonction de son arborescence\n",
    "\n",
    "data_path = os.path.join(project_path, 'data')\n",
    "raw_data_path = os.path.join(data_path, 'raw')\n",
    "processed_data_path = os.path.join(data_path, 'processed')\n",
    "metadata_data_path = os.path.join(data_path, 'metadata')\n",
    "\n",
    "raw_rvl_cdip_path = os.path.join(raw_data_path, 'RVL-CDIP')\n",
    "rvl_cdip_images_path = os.path.join(raw_rvl_cdip_path, 'images')\n",
    "rvl_cdip_labels_path = os.path.join(raw_rvl_cdip_path, 'labels')\n",
    "\n",
    "iit_cdip_images_path = os.path.join(raw_data_path, 'IIT-CDIP', 'images')\n",
    "iit_cdip_xmls_path = os.path.join(raw_data_path, 'IIT-CDIP', 'xmls')"
   ]
  },
  {
   "cell_type": "markdown",
   "id": "6529464b-9eeb-4565-b6e6-fd7b73c8cade",
   "metadata": {},
   "source": [
    "## 2. Création du DataFrame DOCUMENTS"
   ]
  },
  {
   "cell_type": "markdown",
   "id": "dd7529cf-ac9f-4d5c-bee7-9f051211181d",
   "metadata": {},
   "source": [
    "### 2.1 Filename, rvl_image_path "
   ]
  },
  {
   "cell_type": "code",
   "execution_count": null,
   "id": "2460e3d2-e6f5-4c13-95a9-1bb3f40255bc",
   "metadata": {},
   "outputs": [],
   "source": [
    "def get_documents_base():\n",
    "    tmp_list = []\n",
    "    for foldername, _, filenames in os.walk(PATHS.rvl_cdip_images):\n",
    "        for filename in filenames:\n",
    "            if filename.endswith(\".tif\"):\n",
    "                tmp_list.append((\n",
    "                    os.path.basename(foldername), \n",
    "                    filename,\n",
    "                    os.path.join(os.path.relpath(foldername, PATHS.data), filename),\n",
    "                ))\n",
    "    tmp_list.sort()\n",
    "    return pd.DataFrame(tmp_list, columns = [\"document_id\", \"filename\", \"rvl_image_path\"])"
   ]
  },
  {
   "cell_type": "code",
   "execution_count": null,
   "id": "83943d34-883d-4999-8f5f-d38543255646",
   "metadata": {},
   "outputs": [],
   "source": [
    "t = time.time()\n",
    "df_base = get_documents_base()\n",
    "print(f\"Duree d'exécution: {time.time() - t:.3f} secondes.\")\n",
    "df_base.head()"
   ]
  },
  {
   "cell_type": "markdown",
   "id": "fd235a2a-967d-4cf8-8372-ace25a27b309",
   "metadata": {},
   "source": [
    "### 2.2 Labels et Data Sets"
   ]
  },
  {
   "cell_type": "code",
   "execution_count": null,
   "id": "9b944c87-96d5-46c6-b5a3-9858a2267498",
   "metadata": {},
   "outputs": [],
   "source": [
    "def get_labels_and_data_sets():\n",
    "    data_sets = [\"train.txt\", \"val.txt\", \"test.txt\"]\n",
    "    dataframes = []\n",
    "    for data_set in data_sets:\n",
    "        df = pd.read_csv(os.path.join(PATHS.labels, data_set), sep= ' ', names = [\"image_path\", \"label\"])\n",
    "        df.insert(\n",
    "            loc = 0,\n",
    "            column = \"document_id\",\n",
    "            value = df.image_path.apply(lambda x: x.split(\"/\")[-2])\n",
    "        )\n",
    "        df.insert(\n",
    "            loc = 3,\n",
    "            column = \"data_set\",\n",
    "            value = data_set[:-4]\n",
    "        )\n",
    "        df.drop(columns=\"image_path\", inplace=True)\n",
    "        dataframes.append(df)\n",
    "    return pd.concat(dataframes).sort_values(by=\"document_id\").reset_index(drop=True)"
   ]
  },
  {
   "cell_type": "code",
   "execution_count": null,
   "id": "7348d195-18d6-4896-8d1e-4835dc962ece",
   "metadata": {},
   "outputs": [],
   "source": [
    "t = time.time()\n",
    "df_labels_and_data_sets = get_labels_and_data_sets()\n",
    "print(f\"Duree d'exécution: {time.time() - t:.3f} secondes.\")\n",
    "df_labels_and_data_sets.head()"
   ]
  },
  {
   "cell_type": "markdown",
   "id": "7ee775c3-d198-4031-81fa-ecf91a242d5c",
   "metadata": {},
   "source": [
    "### 2.3 iit_image_path, iit_individual_xml_path "
   ]
  },
  {
   "cell_type": "code",
   "execution_count": null,
   "id": "641d4c4f-d040-4285-a34c-1030567fb819",
   "metadata": {},
   "outputs": [],
   "source": [
    "def get_iit_individual_data():\n",
    "    tmp_list = []\n",
    "    for foldername, _, filenames in os.walk(PATHS.iit_cdip_images):\n",
    "        tif_path = None\n",
    "        xml_path = None\n",
    "        for filename in filenames:\n",
    "            if filename.endswith(\".tif\"):\n",
    "                tif_path = os.path.join(os.path.relpath(foldername, PATHS.data), filename)\n",
    "            if filename.endswith(\".xml\"):\n",
    "                xml_path = os.path.join(os.path.relpath(foldername, PATHS.data), filename)\n",
    "        if tif_path or xml_path:\n",
    "            tmp_list.append((\n",
    "                os.path.basename(foldername), \n",
    "                tif_path,\n",
    "                xml_path\n",
    "            ))\n",
    "    tmp_list.sort()\n",
    "    return pd.DataFrame(tmp_list, columns = [\"document_id\", \"iit_image_path\", \"iit_individual_xml_path\"]).replace({None: np.nan})"
   ]
  },
  {
   "cell_type": "code",
   "execution_count": null,
   "id": "3607e003-573c-4de7-9d15-9d19e5c1c7b3",
   "metadata": {},
   "outputs": [],
   "source": [
    "t = time.time()\n",
    "df_iit_ind = get_iit_individual_data()\n",
    "print(f\"Duree d'exécution: {time.time() - t:.3f} secondes.\")\n",
    "df_iit_ind.head()"
   ]
  },
  {
   "cell_type": "markdown",
   "id": "3765f443-08d6-420f-ac5f-2672b7d8838d",
   "metadata": {},
   "source": [
    "### 2.4 iit_collective_xml_path"
   ]
  },
  {
   "cell_type": "code",
   "execution_count": null,
   "id": "3ce4aa8a-6367-4803-9a0e-3214465ab2dc",
   "metadata": {},
   "outputs": [],
   "source": [
    "def get_iit_collective_data():\n",
    "    tmp_list = []\n",
    "    for foldername, _, filenames in os.walk(PATHS.iit_cdip_xmls):\n",
    "        for filename in filenames:\n",
    "            if filename.endswith(\".xml\"):\n",
    "                xml_file = os.path.join(os.path.relpath(foldername, PATHS.data), filename)\n",
    "                parser = etree.XMLParser(recover=True)\n",
    "                tree = etree.parse(os.path.join(PATHS.data, xml_file), parser)\n",
    "                root = tree.getroot()\n",
    "                ids_in_file = [record.find(\"docid\").text for record in root.findall(\"record\")]\n",
    "                tmp_list += [(id_, xml_file) for id_ in ids_in_file]\n",
    "    tmp_list.sort()\n",
    "    return pd.DataFrame(tmp_list, columns = [\"document_id\", \"iit_collective_xml_path\"])"
   ]
  },
  {
   "cell_type": "code",
   "execution_count": null,
   "id": "d3b7e67e-6169-4fed-ba3c-9514d104b8e2",
   "metadata": {},
   "outputs": [],
   "source": [
    "t = time.time()\n",
    "df_iit_coll = get_iit_collective_data()\n",
    "print(f\"Duree d'exécution: {time.time() - t:.3f} secondes.\")\n",
    "df_iit_coll.head()"
   ]
  },
  {
   "cell_type": "markdown",
   "id": "dfc82701-20dd-4b6e-b707-89aaef8da252",
   "metadata": {},
   "source": [
    "### 2.5 Concaténation"
   ]
  },
  {
   "cell_type": "code",
   "execution_count": null,
   "id": "ddc90d55-6348-4e81-a35d-d89da4c6cd01",
   "metadata": {},
   "outputs": [],
   "source": [
    "dfs = [df_base, df_labels_and_data_sets, df_iit_ind, df_iit_coll]  # liste de DataFrames\n",
    "df_documents = reduce(lambda left, right: pd.merge(left, right, on='document_id', how=\"left\"), dfs)\n",
    "df_documents.set_index('document_id', inplace = True)\n",
    "df_documents.head()"
   ]
  },
  {
   "cell_type": "code",
   "execution_count": null,
   "id": "5639f8e2-e48d-4921-bce5-814f48e89eae",
   "metadata": {},
   "outputs": [],
   "source": [
    "df_documents.dtypes"
   ]
  },
  {
   "cell_type": "code",
   "execution_count": null,
   "id": "6d51c2a7-ef28-4564-8901-c73da219ad6a",
   "metadata": {},
   "outputs": [],
   "source": [
    "# on abserve qu'il manque des documents en termes d'xml\n",
    "# cet aspect sera traité ultérieurement (preprocessing texte)\n",
    "df_documents.isna().sum()"
   ]
  },
  {
   "cell_type": "markdown",
   "id": "42bae580-2abf-4c23-8d04-6086cb0245ad",
   "metadata": {},
   "source": [
    "### 2.6 Sauvegarde\n",
    "Un comparatif sur la Dafaframe df_documents met en avant le gain de place obtenu avec parquet (24 Mo, par rapport à pickle (82 Mo) ou csb (88 Mo))."
   ]
  },
  {
   "cell_type": "code",
   "execution_count": null,
   "id": "5adc2c60-5cb0-43dd-9283-3caea583715d",
   "metadata": {},
   "outputs": [],
   "source": [
    "# df_documents.to_pickle(os.path.join(processed_data_path, \"df_documents.pkl\")) # environ 82 Mo\n",
    "# df_documents.to_csv(os.path.join(processed_data_path, \"df_documents.csv\")) # environ 88 Mo\n",
    "# df_documents.to_parquet(os.path.join(processed_data_path, \"df_documents.parquet\")) # environ 24 Mo"
   ]
  },
  {
   "cell_type": "code",
   "execution_count": null,
   "id": "cedd46ee-20ea-467d-ab11-af826925fdd0",
   "metadata": {},
   "outputs": [],
   "source": [
    "df_documents[[]].to_parquet(os.path.join(PATHS.metadata, \"df_documents.parquet\"))"
   ]
  },
  {
   "cell_type": "code",
   "execution_count": null,
   "id": "a3efa962-2d16-4f6d-b50c-50940bd158a3",
   "metadata": {},
   "outputs": [],
   "source": [
    "df_documents[['filename', 'rvl_image_path', 'iit_image_path', 'iit_individual_xml_path', 'iit_collective_xml_path']].\\\n",
    "    to_parquet(PATHS.metadata / \"df_filepaths.parquet\")"
   ]
  },
  {
   "cell_type": "code",
   "execution_count": null,
   "id": "013da48d-09a6-4be8-ad6a-dff0bf62c497",
   "metadata": {},
   "outputs": [],
   "source": [
    "df_documents[[\"label\"]].to_parquet(PATHS.metadata / \"df_encoded_labels.parquet\")"
   ]
  },
  {
   "cell_type": "code",
   "execution_count": null,
   "id": "15d5ca38-b1d0-4719-8518-91909a699048",
   "metadata": {},
   "outputs": [],
   "source": [
    "# info from data/raw/RVL-CDIP/readme.txt\n",
    "labels_map = {\n",
    "    0: \"letter\",\n",
    "    1: \"form\",\n",
    "    2: \"email\",\n",
    "    3: \"handwritten\",\n",
    "    4: \"advertisement\",\n",
    "    5: \"scientific report\",\n",
    "    6: \"scientific publication\",\n",
    "    7: \"specification\",\n",
    "    8: \"file folder\",\n",
    "    9: \"news article\",\n",
    "    10: \"budget\",\n",
    "    11: \"invoice\",\n",
    "    12: \"presentation\",\n",
    "    13: \"questionnaire\",\n",
    "    14: \"resume\",\n",
    "    15: \"memo\"\n",
    "}"
   ]
  },
  {
   "cell_type": "code",
   "execution_count": null,
   "id": "a396b54e-d2fd-4661-b1bb-339c17486b47",
   "metadata": {},
   "outputs": [],
   "source": [
    "df_documents[[\"label\"]].replace(labels_map).to_parquet(PATHS.metadata / \"df_plain_labels.parquet\")"
   ]
  },
  {
   "cell_type": "code",
   "execution_count": null,
   "id": "959c91c3-aec1-4029-b597-a829c96ff384",
   "metadata": {},
   "outputs": [],
   "source": [
    "pd.DataFrame(labels_map.items(), columns= [\"encoded_label\", \"plain_label\"]).set_index(\"encoded_label\").\\\n",
    "    to_parquet(PATHS.metadata / \"df_labels_mapping.parquet\")"
   ]
  },
  {
   "cell_type": "code",
   "execution_count": null,
   "id": "75fc0716-2178-4699-855a-3aaa18c630af",
   "metadata": {},
   "outputs": [],
   "source": [
    "df_documents[[\"data_set\"]].replace(labels_map).to_parquet(PATHS.metadata / \"df_data_sets.parquet\")"
   ]
  }
 ],
 "metadata": {
  "kernelspec": {
   "display_name": "Python 3 (ipykernel)",
   "language": "python",
   "name": "python3"
  },
  "language_info": {
   "codemirror_mode": {
    "name": "ipython",
    "version": 3
   },
   "file_extension": ".py",
   "mimetype": "text/x-python",
   "name": "python",
   "nbconvert_exporter": "python",
   "pygments_lexer": "ipython3",
   "version": "3.12.10"
  }
 },
 "nbformat": 4,
 "nbformat_minor": 5
}
