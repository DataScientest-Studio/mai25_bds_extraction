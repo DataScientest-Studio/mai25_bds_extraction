{
 "cells": [
  {
   "cell_type": "markdown",
   "id": "cf06b663-d258-478e-9397-7332fbcb60ea",
   "metadata": {},
   "source": [
    "# Création DataFrame DOCUMENTS"
   ]
  },
  {
   "cell_type": "markdown",
   "id": "312083fe-fb50-4e4e-a9cf-2bc415ceca31",
   "metadata": {},
   "source": [
    "## README\n",
    "Ce notebook permet de télécharger sur le site de huggingface les images de la BDD RVL-CDIP.\n",
    "\n",
    "Il réalise tout d'abord certaines opérations préalables (chapitre 1), dont la définition des variables globales d'exécution (**A METTRE A JOUR LORS D'UNE PREMIERE UTILISATION**)\n",
    "\n",
    "A l'issue (chapitre 2), il permet de créer un premier DataFrame intitulé DOCUMENTS,  qui rassemble les informations de bases relatives aux documents de la base de données RVL-CDIP:\n",
    "- document_id\n",
    "- filename\n",
    "- label\n",
    "- data_set\n",
    "- rvl_image_path\n",
    "- iit_image_path\n",
    "- iit_individual_xml_path\n",
    "- iit_grouped_xml_path"
   ]
  },
  {
   "cell_type": "markdown",
   "id": "a3320b29-b1f3-4ff5-b93a-6909b3d89062",
   "metadata": {},
   "source": [
    "## 1. Préparation"
   ]
  },
  {
   "cell_type": "code",
   "execution_count": 1,
   "id": "27a80f19-05e8-400a-9cfa-78c06ae1cbb0",
   "metadata": {},
   "outputs": [],
   "source": [
    "import os\n",
    "import time\n",
    "import numpy as np\n",
    "import pandas as pd\n",
    "from lxml import etree\n",
    "from functools import reduce\n",
    "from utils import remove_ds_store_files"
   ]
  },
  {
   "cell_type": "code",
   "execution_count": 2,
   "id": "c8fc2081-3618-4bee-ab4e-c7cfd42450e4",
   "metadata": {},
   "outputs": [],
   "source": [
    "project_path = '/Users/ben/Work/mle/ds-project/mai25_bds_extraction/' # à modifier par chacun en fonction de son arborescence\n",
    "\n",
    "data_path = os.path.join(project_path, 'data')\n",
    "raw_data_path = os.path.join(data_path, 'raw')\n",
    "processed_data_path = os.path.join(data_path, 'processed')\n",
    "\n",
    "raw_rvl_cdip_path = os.path.join(raw_data_path, 'RVL-CDIP')\n",
    "rvl_cdip_images_path = os.path.join(raw_rvl_cdip_path, 'images')\n",
    "rvl_cdip_labels_path = os.path.join(raw_rvl_cdip_path, 'labels')\n",
    "\n",
    "iit_cdip_images_path = os.path.join(raw_data_path, 'IIT-CDIP', 'images')\n",
    "iit_cdip_xmls_path = os.path.join(raw_data_path, 'IIT-CDIP', 'xmls')"
   ]
  },
  {
   "cell_type": "markdown",
   "id": "6529464b-9eeb-4565-b6e6-fd7b73c8cade",
   "metadata": {},
   "source": [
    "## 2. Création du DataFrame DOCUMENTS"
   ]
  },
  {
   "cell_type": "markdown",
   "id": "dd7529cf-ac9f-4d5c-bee7-9f051211181d",
   "metadata": {},
   "source": [
    "### 2.1 Filename, rvl_image_path "
   ]
  },
  {
   "cell_type": "code",
   "execution_count": 3,
   "id": "2460e3d2-e6f5-4c13-95a9-1bb3f40255bc",
   "metadata": {},
   "outputs": [],
   "source": [
    "def get_documents_base():\n",
    "    tmp_list = []\n",
    "    for foldername, _, filenames in os.walk(rvl_cdip_images_path):\n",
    "        for filename in filenames:\n",
    "            if filename.endswith(\".tif\"):\n",
    "                tmp_list.append((\n",
    "                    os.path.basename(foldername), \n",
    "                    filename,\n",
    "                    os.path.join(os.path.relpath(foldername, data_path), filename),\n",
    "                ))\n",
    "    tmp_list.sort()\n",
    "    return pd.DataFrame(tmp_list, columns = [\"document_id\", \"filename\", \"rvl_image_path\"])"
   ]
  },
  {
   "cell_type": "code",
   "execution_count": 4,
   "id": "83943d34-883d-4999-8f5f-d38543255646",
   "metadata": {},
   "outputs": [
    {
     "name": "stdout",
     "output_type": "stream",
     "text": [
      "Duree d'exécution: 18.183 secondes.\n"
     ]
    },
    {
     "data": {
      "text/html": [
       "<div>\n",
       "<style scoped>\n",
       "    .dataframe tbody tr th:only-of-type {\n",
       "        vertical-align: middle;\n",
       "    }\n",
       "\n",
       "    .dataframe tbody tr th {\n",
       "        vertical-align: top;\n",
       "    }\n",
       "\n",
       "    .dataframe thead th {\n",
       "        text-align: right;\n",
       "    }\n",
       "</style>\n",
       "<table border=\"1\" class=\"dataframe\">\n",
       "  <thead>\n",
       "    <tr style=\"text-align: right;\">\n",
       "      <th></th>\n",
       "      <th>document_id</th>\n",
       "      <th>filename</th>\n",
       "      <th>rvl_image_path</th>\n",
       "    </tr>\n",
       "  </thead>\n",
       "  <tbody>\n",
       "    <tr>\n",
       "      <th>0</th>\n",
       "      <td>aaa06d00</td>\n",
       "      <td>50486482-6482.tif</td>\n",
       "      <td>raw/RVL-CDIP/images/imagesa/a/a/a/aaa06d00/504...</td>\n",
       "    </tr>\n",
       "    <tr>\n",
       "      <th>1</th>\n",
       "      <td>aaa08d00</td>\n",
       "      <td>2072197187.tif</td>\n",
       "      <td>raw/RVL-CDIP/images/imagesa/a/a/a/aaa08d00/207...</td>\n",
       "    </tr>\n",
       "    <tr>\n",
       "      <th>2</th>\n",
       "      <td>aaa09e00</td>\n",
       "      <td>2029372116.tif</td>\n",
       "      <td>raw/RVL-CDIP/images/imagesa/a/a/a/aaa09e00/202...</td>\n",
       "    </tr>\n",
       "    <tr>\n",
       "      <th>3</th>\n",
       "      <td>aaa10c00</td>\n",
       "      <td>2085133627a.tif</td>\n",
       "      <td>raw/RVL-CDIP/images/imagesa/a/a/a/aaa10c00/208...</td>\n",
       "    </tr>\n",
       "    <tr>\n",
       "      <th>4</th>\n",
       "      <td>aaa11d00</td>\n",
       "      <td>515558347+-8348.tif</td>\n",
       "      <td>raw/RVL-CDIP/images/imagesa/a/a/a/aaa11d00/515...</td>\n",
       "    </tr>\n",
       "  </tbody>\n",
       "</table>\n",
       "</div>"
      ],
      "text/plain": [
       "  document_id             filename  \\\n",
       "0    aaa06d00    50486482-6482.tif   \n",
       "1    aaa08d00       2072197187.tif   \n",
       "2    aaa09e00       2029372116.tif   \n",
       "3    aaa10c00      2085133627a.tif   \n",
       "4    aaa11d00  515558347+-8348.tif   \n",
       "\n",
       "                                      rvl_image_path  \n",
       "0  raw/RVL-CDIP/images/imagesa/a/a/a/aaa06d00/504...  \n",
       "1  raw/RVL-CDIP/images/imagesa/a/a/a/aaa08d00/207...  \n",
       "2  raw/RVL-CDIP/images/imagesa/a/a/a/aaa09e00/202...  \n",
       "3  raw/RVL-CDIP/images/imagesa/a/a/a/aaa10c00/208...  \n",
       "4  raw/RVL-CDIP/images/imagesa/a/a/a/aaa11d00/515...  "
      ]
     },
     "execution_count": 4,
     "metadata": {},
     "output_type": "execute_result"
    }
   ],
   "source": [
    "t = time.time()\n",
    "df_base = get_documents_base()\n",
    "print(f\"Duree d'exécution: {time.time() - t:.3f} secondes.\")\n",
    "df_base.head()"
   ]
  },
  {
   "cell_type": "markdown",
   "id": "fd235a2a-967d-4cf8-8372-ace25a27b309",
   "metadata": {},
   "source": [
    "### 2.2 Labels et Data Sets"
   ]
  },
  {
   "cell_type": "code",
   "execution_count": 5,
   "id": "9b944c87-96d5-46c6-b5a3-9858a2267498",
   "metadata": {},
   "outputs": [],
   "source": [
    "def get_labels_and_data_sets():\n",
    "    data_sets = [\"train.txt\", \"val.txt\", \"test.txt\"]\n",
    "    dataframes = []\n",
    "    for data_set in data_sets:\n",
    "        df = pd.read_csv(os.path.join(rvl_cdip_labels_path, data_set), sep= ' ', names = [\"image_path\", \"label\"])\n",
    "        df.insert(\n",
    "            loc = 0,\n",
    "            column = \"document_id\",\n",
    "            value = df.image_path.apply(lambda x: x.split(\"/\")[-2])\n",
    "        )\n",
    "        df.insert(\n",
    "            loc = 3,\n",
    "            column = \"data_set\",\n",
    "            value = data_set[:-4]\n",
    "        )\n",
    "        df.drop(columns=\"image_path\", inplace=True)\n",
    "        dataframes.append(df)\n",
    "    return pd.concat(dataframes).sort_values(by=\"document_id\").reset_index(drop=True)"
   ]
  },
  {
   "cell_type": "code",
   "execution_count": 6,
   "id": "7348d195-18d6-4896-8d1e-4835dc962ece",
   "metadata": {},
   "outputs": [
    {
     "name": "stdout",
     "output_type": "stream",
     "text": [
      "Duree d'exécution: 0.517 secondes.\n"
     ]
    },
    {
     "data": {
      "text/html": [
       "<div>\n",
       "<style scoped>\n",
       "    .dataframe tbody tr th:only-of-type {\n",
       "        vertical-align: middle;\n",
       "    }\n",
       "\n",
       "    .dataframe tbody tr th {\n",
       "        vertical-align: top;\n",
       "    }\n",
       "\n",
       "    .dataframe thead th {\n",
       "        text-align: right;\n",
       "    }\n",
       "</style>\n",
       "<table border=\"1\" class=\"dataframe\">\n",
       "  <thead>\n",
       "    <tr style=\"text-align: right;\">\n",
       "      <th></th>\n",
       "      <th>document_id</th>\n",
       "      <th>label</th>\n",
       "      <th>data_set</th>\n",
       "    </tr>\n",
       "  </thead>\n",
       "  <tbody>\n",
       "    <tr>\n",
       "      <th>0</th>\n",
       "      <td>aaa06d00</td>\n",
       "      <td>6</td>\n",
       "      <td>test</td>\n",
       "    </tr>\n",
       "    <tr>\n",
       "      <th>1</th>\n",
       "      <td>aaa08d00</td>\n",
       "      <td>9</td>\n",
       "      <td>train</td>\n",
       "    </tr>\n",
       "    <tr>\n",
       "      <th>2</th>\n",
       "      <td>aaa09e00</td>\n",
       "      <td>11</td>\n",
       "      <td>val</td>\n",
       "    </tr>\n",
       "    <tr>\n",
       "      <th>3</th>\n",
       "      <td>aaa10c00</td>\n",
       "      <td>2</td>\n",
       "      <td>train</td>\n",
       "    </tr>\n",
       "    <tr>\n",
       "      <th>4</th>\n",
       "      <td>aaa11d00</td>\n",
       "      <td>3</td>\n",
       "      <td>train</td>\n",
       "    </tr>\n",
       "  </tbody>\n",
       "</table>\n",
       "</div>"
      ],
      "text/plain": [
       "  document_id  label data_set\n",
       "0    aaa06d00      6     test\n",
       "1    aaa08d00      9    train\n",
       "2    aaa09e00     11      val\n",
       "3    aaa10c00      2    train\n",
       "4    aaa11d00      3    train"
      ]
     },
     "execution_count": 6,
     "metadata": {},
     "output_type": "execute_result"
    }
   ],
   "source": [
    "t = time.time()\n",
    "df_labels_and_data_sets = get_labels_and_data_sets()\n",
    "print(f\"Duree d'exécution: {time.time() - t:.3f} secondes.\")\n",
    "df_labels_and_data_sets.head()"
   ]
  },
  {
   "cell_type": "markdown",
   "id": "7ee775c3-d198-4031-81fa-ecf91a242d5c",
   "metadata": {},
   "source": [
    "### 2.3 iit_image_path, iit_individual_xml_path "
   ]
  },
  {
   "cell_type": "code",
   "execution_count": 7,
   "id": "641d4c4f-d040-4285-a34c-1030567fb819",
   "metadata": {},
   "outputs": [],
   "source": [
    "def get_iit_individual_data():\n",
    "    tmp_list = []\n",
    "    for foldername, _, filenames in os.walk(iit_cdip_images_path):\n",
    "        tif_path = None\n",
    "        xml_path = None\n",
    "        for filename in filenames:\n",
    "            if filename.endswith(\".tif\"):\n",
    "                tif_path = os.path.join(os.path.relpath(foldername, data_path), filename),\n",
    "            if filename.endswith(\".xml\"):\n",
    "                xml_path = os.path.join(os.path.relpath(foldername, data_path), filename),\n",
    "        if tif_path or xml_path:\n",
    "            tmp_list.append((\n",
    "                os.path.basename(foldername), \n",
    "                tif_path,\n",
    "                xml_path\n",
    "            ))\n",
    "    tmp_list.sort()\n",
    "    return pd.DataFrame(tmp_list, columns = [\"document_id\", \"iit_image_path\", \"iit_individual_xml_path\"]).replace({None: np.nan})"
   ]
  },
  {
   "cell_type": "code",
   "execution_count": 8,
   "id": "3607e003-573c-4de7-9d15-9d19e5c1c7b3",
   "metadata": {},
   "outputs": [
    {
     "name": "stdout",
     "output_type": "stream",
     "text": [
      "Duree d'exécution: 21.376 secondes.\n"
     ]
    },
    {
     "data": {
      "text/html": [
       "<div>\n",
       "<style scoped>\n",
       "    .dataframe tbody tr th:only-of-type {\n",
       "        vertical-align: middle;\n",
       "    }\n",
       "\n",
       "    .dataframe tbody tr th {\n",
       "        vertical-align: top;\n",
       "    }\n",
       "\n",
       "    .dataframe thead th {\n",
       "        text-align: right;\n",
       "    }\n",
       "</style>\n",
       "<table border=\"1\" class=\"dataframe\">\n",
       "  <thead>\n",
       "    <tr style=\"text-align: right;\">\n",
       "      <th></th>\n",
       "      <th>document_id</th>\n",
       "      <th>iit_image_path</th>\n",
       "      <th>iit_individual_xml_path</th>\n",
       "    </tr>\n",
       "  </thead>\n",
       "  <tbody>\n",
       "    <tr>\n",
       "      <th>0</th>\n",
       "      <td>aaa06d00</td>\n",
       "      <td>(raw/IIT-CDIP/images/imagesa/a/a/a/aaa06d00/50...</td>\n",
       "      <td>(raw/IIT-CDIP/images/imagesa/a/a/a/aaa06d00/aa...</td>\n",
       "    </tr>\n",
       "    <tr>\n",
       "      <th>1</th>\n",
       "      <td>aaa08d00</td>\n",
       "      <td>(raw/IIT-CDIP/images/imagesa/a/a/a/aaa08d00/20...</td>\n",
       "      <td>(raw/IIT-CDIP/images/imagesa/a/a/a/aaa08d00/aa...</td>\n",
       "    </tr>\n",
       "    <tr>\n",
       "      <th>2</th>\n",
       "      <td>aaa09e00</td>\n",
       "      <td>(raw/IIT-CDIP/images/imagesa/a/a/a/aaa09e00/20...</td>\n",
       "      <td>(raw/IIT-CDIP/images/imagesa/a/a/a/aaa09e00/aa...</td>\n",
       "    </tr>\n",
       "    <tr>\n",
       "      <th>3</th>\n",
       "      <td>aaa10c00</td>\n",
       "      <td>(raw/IIT-CDIP/images/imagesa/a/a/a/aaa10c00/20...</td>\n",
       "      <td>(raw/IIT-CDIP/images/imagesa/a/a/a/aaa10c00/aa...</td>\n",
       "    </tr>\n",
       "    <tr>\n",
       "      <th>4</th>\n",
       "      <td>aaa11d00</td>\n",
       "      <td>(raw/IIT-CDIP/images/imagesa/a/a/a/aaa11d00/51...</td>\n",
       "      <td>(raw/IIT-CDIP/images/imagesa/a/a/a/aaa11d00/aa...</td>\n",
       "    </tr>\n",
       "  </tbody>\n",
       "</table>\n",
       "</div>"
      ],
      "text/plain": [
       "  document_id                                     iit_image_path  \\\n",
       "0    aaa06d00  (raw/IIT-CDIP/images/imagesa/a/a/a/aaa06d00/50...   \n",
       "1    aaa08d00  (raw/IIT-CDIP/images/imagesa/a/a/a/aaa08d00/20...   \n",
       "2    aaa09e00  (raw/IIT-CDIP/images/imagesa/a/a/a/aaa09e00/20...   \n",
       "3    aaa10c00  (raw/IIT-CDIP/images/imagesa/a/a/a/aaa10c00/20...   \n",
       "4    aaa11d00  (raw/IIT-CDIP/images/imagesa/a/a/a/aaa11d00/51...   \n",
       "\n",
       "                             iit_individual_xml_path  \n",
       "0  (raw/IIT-CDIP/images/imagesa/a/a/a/aaa06d00/aa...  \n",
       "1  (raw/IIT-CDIP/images/imagesa/a/a/a/aaa08d00/aa...  \n",
       "2  (raw/IIT-CDIP/images/imagesa/a/a/a/aaa09e00/aa...  \n",
       "3  (raw/IIT-CDIP/images/imagesa/a/a/a/aaa10c00/aa...  \n",
       "4  (raw/IIT-CDIP/images/imagesa/a/a/a/aaa11d00/aa...  "
      ]
     },
     "execution_count": 8,
     "metadata": {},
     "output_type": "execute_result"
    }
   ],
   "source": [
    "t = time.time()\n",
    "df_iit_ind = get_iit_individual_data()\n",
    "print(f\"Duree d'exécution: {time.time() - t:.3f} secondes.\")\n",
    "df_iit_ind.head()"
   ]
  },
  {
   "cell_type": "markdown",
   "id": "3765f443-08d6-420f-ac5f-2672b7d8838d",
   "metadata": {},
   "source": [
    "### 2.4 iit_collective_xml_path"
   ]
  },
  {
   "cell_type": "code",
   "execution_count": 9,
   "id": "3ce4aa8a-6367-4803-9a0e-3214465ab2dc",
   "metadata": {},
   "outputs": [],
   "source": [
    "def get_iit_collective_data():\n",
    "    tmp_list = []\n",
    "    for foldername, _, filenames in os.walk(iit_cdip_xmls_path):\n",
    "        for filename in filenames:\n",
    "            if filename.endswith(\".xml\"):\n",
    "                xml_file = os.path.join(os.path.relpath(foldername, data_path), filename)\n",
    "                parser = etree.XMLParser(recover=True)\n",
    "                tree = etree.parse(os.path.join(data_path, xml_file), parser)\n",
    "                root = tree.getroot()\n",
    "                ids_in_file = [record.find(\"docid\").text for record in root.findall(\"record\")]\n",
    "                tmp_list += [(id_, xml_file) for id_ in ids_in_file]\n",
    "    tmp_list.sort()\n",
    "    return pd.DataFrame(tmp_list, columns = [\"document_id\", \"iit_collective_xml_path\"])"
   ]
  },
  {
   "cell_type": "code",
   "execution_count": 10,
   "id": "d3b7e67e-6169-4fed-ba3c-9514d104b8e2",
   "metadata": {},
   "outputs": [
    {
     "name": "stdout",
     "output_type": "stream",
     "text": [
      "Duree d'exécution: 10.164 secondes.\n"
     ]
    },
    {
     "data": {
      "text/html": [
       "<div>\n",
       "<style scoped>\n",
       "    .dataframe tbody tr th:only-of-type {\n",
       "        vertical-align: middle;\n",
       "    }\n",
       "\n",
       "    .dataframe tbody tr th {\n",
       "        vertical-align: top;\n",
       "    }\n",
       "\n",
       "    .dataframe thead th {\n",
       "        text-align: right;\n",
       "    }\n",
       "</style>\n",
       "<table border=\"1\" class=\"dataframe\">\n",
       "  <thead>\n",
       "    <tr style=\"text-align: right;\">\n",
       "      <th></th>\n",
       "      <th>document_id</th>\n",
       "      <th>iit_collective_xml_path</th>\n",
       "    </tr>\n",
       "  </thead>\n",
       "  <tbody>\n",
       "    <tr>\n",
       "      <th>0</th>\n",
       "      <td>aaa06d00</td>\n",
       "      <td>raw/IIT-CDIP/xmls/aa.xml</td>\n",
       "    </tr>\n",
       "    <tr>\n",
       "      <th>1</th>\n",
       "      <td>aaa08d00</td>\n",
       "      <td>raw/IIT-CDIP/xmls/aa.xml</td>\n",
       "    </tr>\n",
       "    <tr>\n",
       "      <th>2</th>\n",
       "      <td>aaa09e00</td>\n",
       "      <td>raw/IIT-CDIP/xmls/aa.xml</td>\n",
       "    </tr>\n",
       "    <tr>\n",
       "      <th>3</th>\n",
       "      <td>aaa10c00</td>\n",
       "      <td>raw/IIT-CDIP/xmls/aa.xml</td>\n",
       "    </tr>\n",
       "    <tr>\n",
       "      <th>4</th>\n",
       "      <td>aaa11d00</td>\n",
       "      <td>raw/IIT-CDIP/xmls/aa.xml</td>\n",
       "    </tr>\n",
       "  </tbody>\n",
       "</table>\n",
       "</div>"
      ],
      "text/plain": [
       "  document_id   iit_collective_xml_path\n",
       "0    aaa06d00  raw/IIT-CDIP/xmls/aa.xml\n",
       "1    aaa08d00  raw/IIT-CDIP/xmls/aa.xml\n",
       "2    aaa09e00  raw/IIT-CDIP/xmls/aa.xml\n",
       "3    aaa10c00  raw/IIT-CDIP/xmls/aa.xml\n",
       "4    aaa11d00  raw/IIT-CDIP/xmls/aa.xml"
      ]
     },
     "execution_count": 10,
     "metadata": {},
     "output_type": "execute_result"
    }
   ],
   "source": [
    "t = time.time()\n",
    "df_iit_coll = get_iit_collective_data()\n",
    "print(f\"Duree d'exécution: {time.time() - t:.3f} secondes.\")\n",
    "df_iit_coll.head()"
   ]
  },
  {
   "cell_type": "markdown",
   "id": "dfc82701-20dd-4b6e-b707-89aaef8da252",
   "metadata": {},
   "source": [
    "### 2.5 Fusion et sauvegarde"
   ]
  },
  {
   "cell_type": "code",
   "execution_count": 11,
   "id": "ddc90d55-6348-4e81-a35d-d89da4c6cd01",
   "metadata": {},
   "outputs": [],
   "source": [
    "dfs = [df_base, df_labels_and_data_sets, df_iit_ind, df_iit_coll]  # liste de DataFrames\n",
    "df_documents = reduce(lambda left, right: pd.merge(left, right, on='document_id', how=\"left\"), dfs)"
   ]
  },
  {
   "cell_type": "code",
   "execution_count": 12,
   "id": "6d51c2a7-ef28-4564-8901-c73da219ad6a",
   "metadata": {},
   "outputs": [
    {
     "data": {
      "text/plain": [
       "document_id                     0\n",
       "filename                        0\n",
       "rvl_image_path                  0\n",
       "label                           0\n",
       "data_set                        0\n",
       "iit_image_path                  0\n",
       "iit_individual_xml_path    241651\n",
       "iit_collective_xml_path      1990\n",
       "dtype: int64"
      ]
     },
     "execution_count": 12,
     "metadata": {},
     "output_type": "execute_result"
    }
   ],
   "source": [
    "# ATTENTION: PROBLEME A INVESTIGUER SUR LA COLONNE iit_collective_xml_path:\n",
    "df_documents.isna().sum()"
   ]
  },
  {
   "cell_type": "code",
   "execution_count": 13,
   "id": "cedd46ee-20ea-467d-ab11-af826925fdd0",
   "metadata": {},
   "outputs": [],
   "source": [
    "# df_documents.to_pickle(os.path.join(processed_data_path, \"df_documents.pkl\")) # environ 82 Mo\n",
    "# df_documents.to_csv(os.path.join(processed_data_path, \"df_documents.csv\")) # environ 88 Mo\n",
    "df_documents.to_parquet(os.path.join(processed_data_path, \"df_documents.parquet\")) # environ 24 Mo"
   ]
  }
 ],
 "metadata": {
  "kernelspec": {
   "display_name": "Python 3 (ipykernel)",
   "language": "python",
   "name": "python3"
  },
  "language_info": {
   "codemirror_mode": {
    "name": "ipython",
    "version": 3
   },
   "file_extension": ".py",
   "mimetype": "text/x-python",
   "name": "python",
   "nbconvert_exporter": "python",
   "pygments_lexer": "ipython3",
   "version": "3.12.10"
  }
 },
 "nbformat": 4,
 "nbformat_minor": 5
}
