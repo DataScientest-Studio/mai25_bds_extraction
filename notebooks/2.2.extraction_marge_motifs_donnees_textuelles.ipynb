{
 "cells": [
  {
   "cell_type": "code",
   "execution_count": 1,
   "id": "ba547d5a-ad01-41ba-a304-8c1e0a77eadd",
   "metadata": {},
   "outputs": [],
   "source": [
    "import os\n",
    "from PIL import Image, UnidentifiedImageError\n",
    "from PIL.TiffTags import TAGS\n",
    "import pandas as pd\n",
    "import numpy as np\n",
    "import cv2\n",
    "\n",
    "import pytesseract\n",
    "pytesseract.pytesseract.tesseract_cmd = r\"C:\\Program Files\\Tesseract-OCR\\tesseract.exe\" #il faut mettre là où tesseract est installé\n",
    "\n",
    "import time\n",
    "from tqdm.notebook import tqdm"
   ]
  },
  {
   "cell_type": "code",
   "execution_count": 2,
   "id": "df3de0f6-8e17-45b9-aa90-0a978966613e",
   "metadata": {},
   "outputs": [],
   "source": [
    "#################################### A MODIFIER SELON SA PROPRE ARBORESCENCE\n",
    "project_path = 'D:/Projet/mai25_bds_extraction/' \n",
    "####################################\n",
    "\n",
    "raw_data_path = os.path.join(project_path, 'data', 'raw')\n",
    "processed_data_path = os.path.join(project_path, 'data', 'processed')\n",
    "\n",
    "rvl_cdip_images_path = os.path.join(raw_data_path, 'RVL-CDIP', 'images')"
   ]
  },
  {
   "cell_type": "code",
   "execution_count": 3,
   "id": "d6ce6354-9d2f-4b08-8a15-6e93df887b33",
   "metadata": {},
   "outputs": [],
   "source": [
    "def get_rvl_cdip_image_files(path):\n",
    "    tmp_list = []\n",
    "    for foldername, _, filenames in os.walk(path):\n",
    "        if filenames:\n",
    "            filename = filenames[0]\n",
    "            # we check that the structure is relevant to our expectation with 2 assert\n",
    "            assert len(filenames) == 1\n",
    "            if filename.startswith('.'): # avoid to consider files like .DS_Store on mac\n",
    "                continue\n",
    "            assert filename.endswith(\".tif\"), f\"{foldername},{filename}\"\n",
    "            tmp_list.append([\n",
    "                os.path.relpath(foldername, rvl_cdip_images_path),\n",
    "                filename\n",
    "            ])\n",
    "    return pd.DataFrame(tmp_list, columns = [\"relative_path\", \"filename\"])\n"
   ]
  },
  {
   "cell_type": "code",
   "execution_count": 4,
   "id": "20a8537d-a8d2-464f-9d1d-8e7abdb0d4ee",
   "metadata": {},
   "outputs": [
    {
     "name": "stdout",
     "output_type": "stream",
     "text": [
      "Duree d'exécution: 102.193 secondes.\n",
      "(400000 images traitées)\n",
      "\n"
     ]
    },
    {
     "data": {
      "text/html": [
       "<div>\n",
       "<style scoped>\n",
       "    .dataframe tbody tr th:only-of-type {\n",
       "        vertical-align: middle;\n",
       "    }\n",
       "\n",
       "    .dataframe tbody tr th {\n",
       "        vertical-align: top;\n",
       "    }\n",
       "\n",
       "    .dataframe thead th {\n",
       "        text-align: right;\n",
       "    }\n",
       "</style>\n",
       "<table border=\"1\" class=\"dataframe\">\n",
       "  <thead>\n",
       "    <tr style=\"text-align: right;\">\n",
       "      <th></th>\n",
       "      <th>relative_path</th>\n",
       "      <th>filename</th>\n",
       "    </tr>\n",
       "  </thead>\n",
       "  <tbody>\n",
       "    <tr>\n",
       "      <th>0</th>\n",
       "      <td>imagesa\\a\\a\\a\\aaa06d00</td>\n",
       "      <td>50486482-6482.tif</td>\n",
       "    </tr>\n",
       "    <tr>\n",
       "      <th>1</th>\n",
       "      <td>imagesa\\a\\a\\a\\aaa08d00</td>\n",
       "      <td>2072197187.tif</td>\n",
       "    </tr>\n",
       "    <tr>\n",
       "      <th>2</th>\n",
       "      <td>imagesa\\a\\a\\a\\aaa09e00</td>\n",
       "      <td>2029372116.tif</td>\n",
       "    </tr>\n",
       "    <tr>\n",
       "      <th>3</th>\n",
       "      <td>imagesa\\a\\a\\a\\aaa10c00</td>\n",
       "      <td>2085133627a.tif</td>\n",
       "    </tr>\n",
       "    <tr>\n",
       "      <th>4</th>\n",
       "      <td>imagesa\\a\\a\\a\\aaa11d00</td>\n",
       "      <td>515558347+-8348.tif</td>\n",
       "    </tr>\n",
       "  </tbody>\n",
       "</table>\n",
       "</div>"
      ],
      "text/plain": [
       "            relative_path             filename\n",
       "0  imagesa\\a\\a\\a\\aaa06d00    50486482-6482.tif\n",
       "1  imagesa\\a\\a\\a\\aaa08d00       2072197187.tif\n",
       "2  imagesa\\a\\a\\a\\aaa09e00       2029372116.tif\n",
       "3  imagesa\\a\\a\\a\\aaa10c00      2085133627a.tif\n",
       "4  imagesa\\a\\a\\a\\aaa11d00  515558347+-8348.tif"
      ]
     },
     "execution_count": 4,
     "metadata": {},
     "output_type": "execute_result"
    }
   ],
   "source": [
    "t = time.time()\n",
    "df = get_rvl_cdip_image_files(rvl_cdip_images_path)\n",
    "print(f\"Duree d'exécution: {time.time() - t:.3f} secondes.\")\n",
    "print(f\"({len(df)} images traitées)\\n\")\n",
    "\n",
    "df.head()"
   ]
  },
  {
   "cell_type": "markdown",
   "id": "36dc66d8-9f53-43be-bd6a-222276469d2d",
   "metadata": {},
   "source": [
    "## Que veut-on extraire des images ? \n",
    "Dans un premier notebook on avait extrait :\n",
    "- format (en fait tout est en .tiff)\n",
    "- taille (longueur et largeur, normalement, la plus grande dimension de l'image devrait être mise à 1000)\n",
    "- mode (ici en fait ce sont toutes des images en nuances de gris, sur 8 bits)\n",
    "- nombre de pages par image\n",
    "- niveau de flou - grace à la variance du laplacien\n",
    "- le bruit de l'image (quand des points apparaîssent sur un fond censé être blanc par exemple)\n",
    "- densité (quantité de pixels noirs par rapport à la quantité de pixels blancs)\n",
    "\n",
    "Lors de cette 2e itération, sont extraits:\n",
    "- le nombre de blocs de texte\n",
    "- la quantité de blanc autour du contenu/présence d'une bordure\n",
    "- la présence de motifs réguliers\n",
    "- la détection des caractères de texte"
   ]
  },
  {
   "cell_type": "code",
   "execution_count": 8,
   "id": "6a4ba33e-4513-4a6b-b08c-9e136a64c368",
   "metadata": {},
   "outputs": [],
   "source": [
    "# on cherche le nombre de blocs de texte\n",
    "\"\"\" Méthode :\n",
    "Binarisation avec seuillage adaptatif\n",
    "Morphologie pour connecter les lettres (dilatation légère)\n",
    "cv2.findContours pour détecter les blocs\n",
    "Filtrage des très petits éléments (bruit)\n",
    "\"\"\"\n",
    "def blocs(image_path):\n",
    "    img = cv2.imread(image_path, cv2.IMREAD_GRAYSCALE)\n",
    "    blurred = cv2.medianBlur(img, 3)\n",
    "    thresh = cv2.adaptiveThreshold(blurred, 255, \n",
    "                                   cv2.ADAPTIVE_THRESH_MEAN_C, \n",
    "                                   cv2.THRESH_BINARY_INV, 15, 10)\n",
    "    \n",
    "    # Dilatation horizontale forte pour relier les mots/lignes\n",
    "    kernel = cv2.getStructuringElement(cv2.MORPH_RECT, (25, 3))\n",
    "    dilated = cv2.dilate(thresh, kernel, iterations=1)\n",
    "\n",
    "    contours, _ = cv2.findContours(dilated, cv2.RETR_EXTERNAL, cv2.CHAIN_APPROX_SIMPLE)\n",
    "\n",
    "    blocks = []\n",
    "    for cnt in contours:\n",
    "        x, y, w, h = cv2.boundingRect(cnt)\n",
    "        area = w * h\n",
    "        if area > 5000 and h > 10:  # Élimine petits bruits et points isolés\n",
    "            blocks.append((x, y, w, h))\n",
    "\n",
    "    return len(blocks)"
   ]
  },
  {
   "cell_type": "code",
   "execution_count": 9,
   "id": "fcb575b3-49a0-4cf3-936e-dc8c0f32086c",
   "metadata": {},
   "outputs": [],
   "source": [
    "#on cherche la taille de la bordure blanche si elle existe\n",
    "\"\"\" Méthode :\n",
    "Binarisation inverse\n",
    "Bounding box du contenu\n",
    "Mesure des marges gauche/droite/haut/bas\n",
    "\"\"\"\n",
    "def bordure(image_path):\n",
    "    img = cv2.imread(image_path, cv2.IMREAD_GRAYSCALE)\n",
    "    _, binary = cv2.threshold(img, 0, 255, cv2.THRESH_BINARY_INV + cv2.THRESH_OTSU)\n",
    "\n",
    "    coords = cv2.findNonZero(binary)\n",
    "    x, y, w, h = cv2.boundingRect(coords)\n",
    "    h_img, w_img = img.shape\n",
    "\n",
    "    top_margin = y / h_img\n",
    "    bottom_margin = (h_img - (y + h)) / h_img\n",
    "    left_margin = x / w_img\n",
    "    right_margin = (w_img - (x + w)) / w_img\n",
    "\n",
    "    return {\n",
    "        'top_margin': top_margin,\n",
    "        'bottom_margin': bottom_margin,\n",
    "        'left_margin': left_margin,\n",
    "        'right_margin': right_margin\n",
    "    }"
   ]
  },
  {
   "cell_type": "code",
   "execution_count": 10,
   "id": "9d4067c1-1f34-4b71-9761-9c63bdba5d0e",
   "metadata": {},
   "outputs": [],
   "source": [
    "# on cherche des motids dans la dimension de fourrier\n",
    "\"\"\" Méthode :\n",
    "Transformer l’image avec FFT\n",
    "Observer la densité hors du centre\n",
    "Ratio d’énergie dans les hautes fréquences\n",
    "\"\"\"\n",
    "def motifs(image_path):\n",
    "    img = cv2.imread(image_path, cv2.IMREAD_GRAYSCALE)\n",
    "    f = np.fft.fft2(img)\n",
    "    fshift = np.fft.fftshift(f)\n",
    "    magnitude = np.abs(fshift)\n",
    "\n",
    "    h, w = magnitude.shape\n",
    "    center = magnitude[h//2-10:h//2+10, w//2-10:w//2+10]\n",
    "    high_freq = magnitude.sum() - center.sum()\n",
    "    ratio = high_freq / magnitude.sum()\n",
    "    \n",
    "    return ratio"
   ]
  },
  {
   "cell_type": "code",
   "execution_count": 11,
   "id": "d5fb70f5-b8dd-46f9-8747-4061bd39e6a1",
   "metadata": {},
   "outputs": [],
   "source": [
    "# détection des caracteres avec tesseract\n",
    "\n",
    "import pytesseract\n",
    "\n",
    "def features(image_path):\n",
    "    img = cv2.imread(image_path, cv2.IMREAD_GRAYSCALE)\n",
    "    text = pytesseract.image_to_string(img)\n",
    "    \n",
    "    nb_lines = text.count('\\n')\n",
    "    nb_words = len(text.split())\n",
    "    nb_digits = sum(c.isdigit() for c in text)\n",
    "    nb_letters = sum(c.isalpha() for c in text)\n",
    "\n",
    "    return {\n",
    "        'num_lines': nb_lines,\n",
    "        'num_words': nb_words,\n",
    "        'digit_ratio': nb_digits / (nb_digits + nb_letters + 1e-5),\n",
    "    }"
   ]
  },
  {
   "cell_type": "markdown",
   "id": "81917d13-fa47-4951-ad77-04351be472bf",
   "metadata": {},
   "source": [
    "# Attention\n",
    "### Dans la cellule suivante, 5 coeurs de l'ordinateur sont utilisés (n_jobs = 5), à changer si besoin"
   ]
  },
  {
   "cell_type": "code",
   "execution_count": 12,
   "id": "13c84f79-988d-4247-b755-b4cf712344cb",
   "metadata": {},
   "outputs": [
    {
     "name": "stdout",
     "output_type": "stream",
     "text": [
      "[Erreur lecture] D:/Projet/mai25_bds_extraction/data\\raw\\RVL-CDIP\\images\\imagese\\e\\j\\e\\eje42e00\\2500126531_2500126536.tif → OpenCV(4.10.0) C:\\b\\abs_a3k2mim6t7\\croot\\opencv-suite_1744821726920\\work\\modules\\imgproc\\src\\median_blur.dispatch.cpp:283: error: (-215:Assertion failed) !_src0.empty() in function 'cv::medianBlur'\n",
      "\n",
      "Durée d'exécution: 203056.436 secondes.\n",
      "(400000 images traitées)\n"
     ]
    }
   ],
   "source": [
    "from joblib import Parallel, delayed\n",
    "import pandas as pd\n",
    "import os\n",
    "import time\n",
    "\n",
    "def get_image_data(file_path):\n",
    "    if not os.path.exists(file_path):\n",
    "        print(f\"[Manquant] {file_path}\")\n",
    "        return [np.nan] * 4\n",
    "    try:\n",
    "        bloc = blocs(file_path)\n",
    "        feature = features(file_path)\n",
    "        bord = bordure(file_path)\n",
    "        motif = motifs(file_path)\n",
    "        return bloc, feature, bord, motif\n",
    "    except Exception as e:\n",
    "        print(f\"[Erreur lecture] {file_path} → {e}\")\n",
    "        return [np.nan] * 4\n",
    "\n",
    "def process_one_image(row_dict, base_path):\n",
    "    relative_path = row_dict[\"relative_path\"]\n",
    "    filename = row_dict[\"filename\"]\n",
    "    file_path = os.path.join(base_path, relative_path, filename)\n",
    "    return get_image_data(file_path)\n",
    "\n",
    "#maintenant on travaille en parallèle sur 5 coeurs (j'en ai 8 sur mon ordinateur)\n",
    "base_path = rvl_cdip_images_path\n",
    "n_jobs = 5\n",
    "\n",
    "t = time.time()\n",
    "results = Parallel(n_jobs=n_jobs, backend=\"threading\")(\n",
    "    delayed(process_one_image)(row.to_dict(), base_path) for _, row in df.iterrows()\n",
    ")\n",
    "print(f\"Durée d'exécution: {time.time() - t:.3f} secondes.\")\n",
    "print(f\"({len(results)} images traitées)\")\n"
   ]
  },
  {
   "cell_type": "code",
   "execution_count": 13,
   "id": "1068e2a0-d706-425a-84a5-560b11edda1a",
   "metadata": {},
   "outputs": [],
   "source": [
    "results_df = pd.DataFrame(results, columns=[\"bloc\", \"feature\", \"bord\", \"motif\"], index=df.index)\n",
    "df = pd.concat([df, results_df], axis=1)\n",
    "df.to_csv(os.path.join(project_path, 'data', 'extracted', 'rvl_cdip_draft_2.csv'))"
   ]
  },
  {
   "cell_type": "code",
   "execution_count": null,
   "id": "b895b7e3-6ca0-4e91-ba72-0dde2ce44606",
   "metadata": {},
   "outputs": [],
   "source": []
  }
 ],
 "metadata": {
  "kernelspec": {
   "display_name": "Python 3 (ipykernel)",
   "language": "python",
   "name": "python3"
  },
  "language_info": {
   "codemirror_mode": {
    "name": "ipython",
    "version": 3
   },
   "file_extension": ".py",
   "mimetype": "text/x-python",
   "name": "python",
   "nbconvert_exporter": "python",
   "pygments_lexer": "ipython3",
   "version": "3.11.13"
  }
 },
 "nbformat": 4,
 "nbformat_minor": 5
}
